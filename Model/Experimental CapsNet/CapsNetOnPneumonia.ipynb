{
 "metadata": {
  "language_info": {
   "codemirror_mode": {
    "name": "ipython",
    "version": 3
   },
   "file_extension": ".py",
   "mimetype": "text/x-python",
   "name": "python",
   "nbconvert_exporter": "python",
   "pygments_lexer": "ipython3",
   "version": 3
  },
  "orig_nbformat": 2,
  "kernelspec": {
   "name": "python_defaultSpec_1596969203060",
   "display_name": "Python 3.7.7 64-bit"
  }
 },
 "nbformat": 4,
 "nbformat_minor": 2,
 "cells": [
  {
   "cell_type": "markdown",
   "metadata": {},
   "source": [
    "## Preprocessing 2\n",
    "### Change to grayscale"
   ]
  },
  {
   "cell_type": "code",
   "execution_count": 31,
   "metadata": {},
   "outputs": [],
   "source": [
    "import pickle\n",
    "import tensorflow as tf\n",
    "import numpy as np\n",
    "# download pickle from here https://drive.google.com/drive/folders/1IretnUcTy5ps4kJ9KaW4E-KsBwASfL6P\n",
    "# Put on ./Data/ folder\n",
    "x_train_in = open('./Data/X_train_balanced.pickle','rb')\n",
    "y_train_in = open('./Data/y_train_balanced.pickle','rb')\n",
    "x_val_in = open('./Data/X_val.pickle','rb')\n",
    "y_val_in = open('./Data/y_val.pickle','rb')\n",
    "x_test_in = open('./Data/X_test.pickle','rb')\n",
    "y_test_in = open('./Data/y_test.pickle','rb')"
   ]
  },
  {
   "cell_type": "code",
   "execution_count": 32,
   "metadata": {
    "tags": []
   },
   "outputs": [],
   "source": [
    "x_train = pickle.load(x_train_in)\n",
    "y_train = pickle.load(y_train_in)\n",
    "x_val = pickle.load(x_val_in)\n",
    "y_val = pickle.load(y_val_in)\n",
    "x_test = pickle.load(x_test_in)\n",
    "y_test = pickle.load(y_test_in)\n",
    "del x_train_in, y_train_in, x_val_in, y_val_in, x_test_in, y_test_in"
   ]
  },
  {
   "cell_type": "code",
   "execution_count": 33,
   "metadata": {},
   "outputs": [],
   "source": [
    "from tensorflow.keras.utils import to_categorical\n",
    "def reshapeToFloat(ndarrays):\n",
    "    return ndarrays.reshape(-1, 250, 250, 3).astype('float32') / 255.\n",
    "\n",
    "def reshapeToCategorical(ndarrays):\n",
    "    return to_categorical(ndarrays.astype('float32'))"
   ]
  },
  {
   "cell_type": "code",
   "execution_count": 34,
   "metadata": {},
   "outputs": [],
   "source": [
    "x_train = reshapeToFloat(x_train)\n",
    "x_test = reshapeToFloat(x_test)\n",
    "x_val = reshapeToFloat(x_val)\n",
    "\n",
    "y_train = reshapeToCategorical(y_train)\n",
    "y_test = reshapeToCategorical(y_test)\n",
    "y_val = reshapeToCategorical(y_val)\n"
   ]
  },
  {
   "cell_type": "code",
   "execution_count": 35,
   "metadata": {
    "tags": []
   },
   "outputs": [
    {
     "output_type": "stream",
     "name": "stdout",
     "text": "2682\n(2682, 250, 250, 3)\n"
    }
   ],
   "source": [
    "tf.print(tf.reduce_sum(y_train))\n",
    "print(x_train.shape)"
   ]
  },
  {
   "cell_type": "code",
   "execution_count": 36,
   "metadata": {},
   "outputs": [],
   "source": [
    "def rgb2gray(rgb):\n",
    "    return np.dot(rgb[...,:3], [0.2989, 0.5870, 0.1140]).reshape(-1, 250, 250, 1) #rumus grayscale\n",
    "\n",
    "x_train, x_test, x_val = rgb2gray(x_train), rgb2gray(x_test), rgb2gray(x_val)"
   ]
  },
  {
   "cell_type": "code",
   "execution_count": 37,
   "metadata": {
    "tags": []
   },
   "outputs": [
    {
     "output_type": "stream",
     "name": "stdout",
     "text": "2682\n(2682, 250, 250, 1)\n"
    }
   ],
   "source": [
    "tf.print(tf.reduce_sum(y_train))\n",
    "print(x_train.shape)"
   ]
  },
  {
   "cell_type": "code",
   "execution_count": 42,
   "metadata": {},
   "outputs": [],
   "source": [
    "# save pickle\n",
    "def saveAsPickle(data, name):\n",
    "    pickle_out = open(\"./Data/\"+name,\"wb\")\n",
    "    pickle.dump(data, pickle_out)\n",
    "    pickle_out.close()\n",
    "\n",
    "#Save as float64 makanya gede sizenya\n",
    "saveAsPickle(x_train, 'x_train_balanced_grayscale.pickle')\n",
    "saveAsPickle(x_test, 'x_test_grayscale.pickle')\n",
    "saveAsPickle(x_val, 'x_val_grayscale.pickle')\n",
    "\n"
   ]
  },
  {
   "cell_type": "code",
   "execution_count": 43,
   "metadata": {},
   "outputs": [],
   "source": [
    "saveAsPickle(y_train, 'y_train_balanced_grayscale.pickle')\n",
    "saveAsPickle(y_test, 'y_test_grayscale.pickle')\n",
    "saveAsPickle(y_val, 'y_val_grayscale.pickle')"
   ]
  },
  {
   "cell_type": "markdown",
   "metadata": {},
   "source": [
    "## Load Grayscale and Categorical Data"
   ]
  },
  {
   "cell_type": "code",
   "execution_count": 1,
   "metadata": {},
   "outputs": [],
   "source": [
    "import pickle\n",
    "import tensorflow as tf\n",
    "import numpy as np\n",
    "x_train_in = open('./Data/x_train_balanced_grayscale.pickle','rb')\n",
    "y_train_in = open('./Data/y_train_balanced_grayscale.pickle','rb')\n",
    "x_val_in = open('./Data/x_val_grayscale.pickle','rb')\n",
    "y_val_in = open('./Data/y_val_grayscale.pickle','rb')\n",
    "x_test_in = open('./Data/x_test_grayscale.pickle','rb')\n",
    "y_test_in = open('./Data/y_test_grayscale.pickle','rb')\n",
    "\n",
    "x_train = pickle.load(x_train_in).astype('float32')\n",
    "y_train = pickle.load(y_train_in).astype('float32')\n",
    "x_val = pickle.load(x_val_in).astype('float32')\n",
    "y_val = pickle.load(y_val_in).astype('float32')\n",
    "x_test = pickle.load(x_test_in).astype('float32')\n",
    "y_test = pickle.load(y_test_in).astype('float32')\n",
    "del x_train_in, y_train_in, x_val_in, y_val_in, x_test_in, y_test_in"
   ]
  },
  {
   "cell_type": "code",
   "execution_count": 2,
   "metadata": {},
   "outputs": [
    {
     "output_type": "display_data",
     "data": {
      "text/plain": "<Figure size 432x216 with 3 Axes>",
      "image/svg+xml": "<?xml version=\"1.0\" encoding=\"utf-8\" standalone=\"no\"?>\r\n<!DOCTYPE svg PUBLIC \"-//W3C//DTD SVG 1.1//EN\"\r\n  \"http://www.w3.org/Graphics/SVG/1.1/DTD/svg11.dtd\">\r\n<!-- Created with matplotlib (https://matplotlib.org/) -->\r\n<svg height=\"112.870588pt\" version=\"1.1\" viewBox=\"0 0 349.2 112.870588\" width=\"349.2pt\" xmlns=\"http://www.w3.org/2000/svg\" xmlns:xlink=\"http://www.w3.org/1999/xlink\">\r\n <defs>\r\n  <style type=\"text/css\">\r\n*{stroke-linecap:butt;stroke-linejoin:round;}\r\n  </style>\r\n </defs>\r\n <g id=\"figure_1\">\r\n  <g id=\"patch_1\">\r\n   <path d=\"M 0 112.870588 \r\nL 349.2 112.870588 \r\nL 349.2 0 \r\nL 0 0 \r\nz\r\n\" style=\"fill:none;\"/>\r\n  </g>\r\n  <g id=\"axes_1\">\r\n   <g clip-path=\"url(#p051ef2f679)\">\r\n    <image height=\"99\" id=\"imaged6694d2eab\" transform=\"scale(1 -1)translate(0 -99)\" width=\"99\" x=\"7.2\" xlink:href=\"data:image/png;base64,\r\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\" y=\"-6.670588\"/>\r\n   </g>\r\n  </g>\r\n  <g id=\"axes_2\">\r\n   <g clip-path=\"url(#p1c7f7d243a)\">\r\n    <image height=\"99\" id=\"image632096c3b0\" transform=\"scale(1 -1)translate(0 -99)\" width=\"99\" x=\"125.364706\" xlink:href=\"data:image/png;base64,\r\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\" y=\"-6.670588\"/>\r\n   </g>\r\n  </g>\r\n  <g id=\"axes_3\">\r\n   <g clip-path=\"url(#p5205f84563)\">\r\n    <image height=\"99\" id=\"image8c2e98f3fb\" transform=\"scale(1 -1)translate(0 -99)\" width=\"99\" x=\"243.529412\" xlink:href=\"data:image/png;base64,\r\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\" y=\"-6.670588\"/>\r\n   </g>\r\n  </g>\r\n </g>\r\n <defs>\r\n  <clipPath id=\"p051ef2f679\">\r\n   <rect height=\"98.470588\" width=\"98.470588\" x=\"7.2\" y=\"7.2\"/>\r\n  </clipPath>\r\n  <clipPath id=\"p1c7f7d243a\">\r\n   <rect height=\"98.470588\" width=\"98.470588\" x=\"125.364706\" y=\"7.2\"/>\r\n  </clipPath>\r\n  <clipPath id=\"p5205f84563\">\r\n   <rect height=\"98.470588\" width=\"98.470588\" x=\"243.529412\" y=\"7.2\"/>\r\n  </clipPath>\r\n </defs>\r\n</svg>\r\n",
      "image/png": "[encoded data removed]"
     },
     "metadata": {
      "needs_background": "light"
     }
    }
   ],
   "source": [
    "import matplotlib.pyplot as plt\n",
    "n_samples = 3\n",
    "\n",
    "plt.figure(figsize=(n_samples * 2, 3))\n",
    "for index in range(n_samples):\n",
    "    plt.subplot(1, n_samples, index + 1)\n",
    "    sample_image = x_train[index].reshape(250, 250)\n",
    "    plt.imshow(sample_image, cmap=\"binary\")\n",
    "    plt.axis(\"off\")\n",
    "\n",
    "plt.show()"
   ]
  },
  {
   "cell_type": "markdown",
   "metadata": {},
   "source": [
    "## Creating Network\n",
    "### Defining Classes"
   ]
  },
  {
   "cell_type": "code",
   "execution_count": 3,
   "metadata": {},
   "outputs": [],
   "source": [
    "import tensorflow as tf\n",
    "import tensorflow.keras.backend as K\n",
    "from tensorflow.keras import initializers, layers\n",
    "\n",
    "\n",
    "class Length(layers.Layer):\n",
    "    \"\"\"\n",
    "    Compute the length of vectors. This is used to compute a Tensor that has the same shape with y_true in margin_loss.\n",
    "    Using this layer as model's output can directly predict labels by using `y_pred = np.argmax(model.predict(x), 1)`\n",
    "    inputs: shape=[None, num_vectors, dim_vector]\n",
    "    output: shape=[None, num_vectors]\n",
    "    \"\"\"\n",
    "    def call(self, inputs, **kwargs):\n",
    "        return tf.sqrt(tf.reduce_sum(tf.square(inputs), -1) + K.epsilon())\n",
    "\n",
    "    def compute_output_shape(self, input_shape):\n",
    "        return input_shape[:-1]\n",
    "\n",
    "    def get_config(self):\n",
    "        config = super(Length, self).get_config()\n",
    "        return config\n",
    "\n",
    "\n",
    "class Mask(layers.Layer):\n",
    "    \"\"\"\n",
    "    Mask a Tensor with shape=[None, num_capsule, dim_vector] either by the capsule with max length or by an additional \n",
    "    input mask. Except the max-length capsule (or specified capsule), all vectors are masked to zeros. Then flatten the\n",
    "    masked Tensor.\n",
    "    For example:\n",
    "        ```\n",
    "        x = keras.layers.Input(shape=[8, 3, 2])  # batch_size=8, each sample contains 3 capsules with dim_vector=2\n",
    "        y = keras.layers.Input(shape=[8, 3])  # True labels. 8 samples, 3 classes, one-hot coding.\n",
    "        out = Mask()(x)  # out.shape=[8, 6]\n",
    "        # or\n",
    "        out2 = Mask()([x, y])  # out2.shape=[8,6]. Masked with true labels y. Of course y can also be manipulated.\n",
    "        ```\n",
    "    \"\"\"\n",
    "    def call(self, inputs, **kwargs):\n",
    "        if type(inputs) is list:  # true label is provided with shape = [None, n_classes], i.e. one-hot code.\n",
    "            assert len(inputs) == 2\n",
    "            inputs, mask = inputs\n",
    "        else:  # if no true label, mask by the max length of capsules. Mainly used for prediction\n",
    "            # compute lengths of capsules\n",
    "            x = tf.sqrt(tf.reduce_sum(tf.square(inputs), -1))\n",
    "            # generate the mask which is a one-hot code.\n",
    "            # mask.shape=[None, n_classes]=[None, num_capsule]\n",
    "            mask = tf.one_hot(indices=tf.argmax(x, 1), depth=x.shape[1])\n",
    "\n",
    "        # inputs.shape=[None, num_capsule, dim_capsule]\n",
    "        # mask.shape=[None, num_capsule]\n",
    "        # masked.shape=[None, num_capsule * dim_capsule]\n",
    "        masked = K.batch_flatten(inputs * tf.expand_dims(mask, -1))\n",
    "        return masked\n",
    "\n",
    "    def compute_output_shape(self, input_shape):\n",
    "        if type(input_shape[0]) is tuple:  # true label provided\n",
    "            return tuple([None, input_shape[0][1] * input_shape[0][2]])\n",
    "        else:  # no true label provided\n",
    "            return tuple([None, input_shape[1] * input_shape[2]])\n",
    "\n",
    "    def get_config(self):\n",
    "        config = super(Mask, self).get_config()\n",
    "        return config\n",
    "\n",
    "\n",
    "def squash(vectors, axis=-1):\n",
    "    \"\"\"\n",
    "    The non-linear activation used in Capsule. It drives the length of a large vector to near 1 and small vector to 0\n",
    "    :param vectors: some vectors to be squashed, N-dim tensor\n",
    "    :param axis: the axis to squash\n",
    "    :return: a Tensor with same shape as input vectors\n",
    "    \"\"\"\n",
    "    s_squared_norm = tf.reduce_sum(tf.square(vectors), axis, keepdims=True)\n",
    "    scale = s_squared_norm / (1 + s_squared_norm) / tf.sqrt(s_squared_norm + K.epsilon())\n",
    "    return scale * vectors\n",
    "\n",
    "\n",
    "class CapsuleLayer(layers.Layer):\n",
    "    \"\"\"\n",
    "    The capsule layer. It is similar to Dense layer. Dense layer has `in_num` inputs, each is a scalar, the output of the\n",
    "    neuron from the former layer, and it has `out_num` output neurons. CapsuleLayer just expand the output of the neuron\n",
    "    from scalar to vector. So its input shape = [None, input_num_capsule, input_dim_capsule] and output shape = \\\n",
    "    [None, num_capsule, dim_capsule]. For Dense Layer, input_dim_capsule = dim_capsule = 1.\n",
    "    :param num_capsule: number of capsules in this layer\n",
    "    :param dim_capsule: dimension of the output vectors of the capsules in this layer\n",
    "    :param routings: number of iterations for the routing algorithm\n",
    "    \"\"\"\n",
    "    def __init__(self, num_capsule, dim_capsule, routings=3,\n",
    "                 kernel_initializer='glorot_uniform',\n",
    "                 **kwargs):\n",
    "        super(CapsuleLayer, self).__init__(**kwargs)\n",
    "        self.num_capsule = num_capsule\n",
    "        self.dim_capsule = dim_capsule\n",
    "        self.routings = routings\n",
    "        self.kernel_initializer = initializers.get(kernel_initializer)\n",
    "\n",
    "    def build(self, input_shape):\n",
    "        assert len(input_shape) >= 3, \"The input Tensor should have shape=[None, input_num_capsule, input_dim_capsule]\"\n",
    "        self.input_num_capsule = input_shape[1]\n",
    "        self.input_dim_capsule = input_shape[2]\n",
    "\n",
    "        # Transform matrix, from each input capsule to each output capsule, there's a unique weight as in Dense layer.\n",
    "        self.W = self.add_weight(shape=[self.num_capsule, self.input_num_capsule,\n",
    "                                        self.dim_capsule, self.input_dim_capsule],\n",
    "                                 initializer=self.kernel_initializer,\n",
    "                                 name='W')\n",
    "\n",
    "        self.built = True\n",
    "\n",
    "    def call(self, inputs, training=None):\n",
    "        # inputs.shape=[None, input_num_capsule, input_dim_capsule]\n",
    "        # inputs_expand.shape=[None, 1, input_num_capsule, input_dim_capsule, 1]\n",
    "        inputs_expand = tf.expand_dims(tf.expand_dims(inputs, 1), -1)\n",
    "\n",
    "        # Replicate num_capsule dimension to prepare being multiplied by W\n",
    "        # inputs_tiled.shape=[None, num_capsule, input_num_capsule, input_dim_capsule, 1]\n",
    "        inputs_tiled = tf.tile(inputs_expand, [1, self.num_capsule, 1, 1, 1])\n",
    "\n",
    "        # Compute `inputs * W` by scanning inputs_tiled on dimension 0.\n",
    "        # W.shape=[num_capsule, input_num_capsule, dim_capsule, input_dim_capsule]\n",
    "        # x.shape=[num_capsule, input_num_capsule, input_dim_capsule, 1]\n",
    "        # Regard the first two dimensions as `batch` dimension, then\n",
    "        # matmul(W, x): [..., dim_capsule, input_dim_capsule] x [..., input_dim_capsule, 1] -> [..., dim_capsule, 1].\n",
    "        # inputs_hat.shape = [None, num_capsule, input_num_capsule, dim_capsule]\n",
    "        inputs_hat = tf.squeeze(tf.map_fn(lambda x: tf.matmul(self.W, x), elems=inputs_tiled))\n",
    "\n",
    "        # Begin: Routing algorithm ---------------------------------------------------------------------#\n",
    "        # The prior for coupling coefficient, initialized as zeros.\n",
    "        # b.shape = [None, self.num_capsule, 1, self.input_num_capsule].\n",
    "        b = tf.zeros(shape=[inputs.shape[0], self.num_capsule, 1, self.input_num_capsule])\n",
    "\n",
    "        assert self.routings > 0, 'The routings should be > 0.'\n",
    "        for i in range(self.routings):\n",
    "            # c.shape=[batch_size, num_capsule, 1, input_num_capsule]\n",
    "            c = tf.nn.softmax(b, axis=1)\n",
    "\n",
    "            # c.shape = [batch_size, num_capsule, 1, input_num_capsule]\n",
    "            # inputs_hat.shape=[None, num_capsule, input_num_capsule, dim_capsule]\n",
    "            # The first two dimensions as `batch` dimension,\n",
    "            # then matmal: [..., 1, input_num_capsule] x [..., input_num_capsule, dim_capsule] -> [..., 1, dim_capsule].\n",
    "            # outputs.shape=[None, num_capsule, 1, dim_capsule]\n",
    "            outputs = squash(tf.matmul(c, inputs_hat))  # [None, 10, 1, 16]\n",
    "\n",
    "            if i < self.routings - 1:\n",
    "                # outputs.shape =  [None, num_capsule, 1, dim_capsule]\n",
    "                # inputs_hat.shape=[None, num_capsule, input_num_capsule, dim_capsule]\n",
    "                # The first two dimensions as `batch` dimension, then\n",
    "                # matmal:[..., 1, dim_capsule] x [..., input_num_capsule, dim_capsule]^T -> [..., 1, input_num_capsule].\n",
    "                # b.shape=[batch_size, num_capsule, 1, input_num_capsule]\n",
    "                b += tf.matmul(outputs, inputs_hat, transpose_b=True)\n",
    "        # End: Routing algorithm -----------------------------------------------------------------------#\n",
    "\n",
    "        return tf.squeeze(outputs)\n",
    "\n",
    "    def compute_output_shape(self, input_shape):\n",
    "        return tuple([None, self.num_capsule, self.dim_capsule])\n",
    "\n",
    "    def get_config(self):\n",
    "        config = {\n",
    "            'num_capsule': self.num_capsule,\n",
    "            'dim_capsule': self.dim_capsule,\n",
    "            'routings': self.routings\n",
    "        }\n",
    "        base_config = super(CapsuleLayer, self).get_config()\n",
    "        return dict(list(base_config.items()) + list(config.items()))\n",
    "\n",
    "\n",
    "def PrimaryCap(inputs, dim_capsule, n_channels, kernel_size, strides, padding):\n",
    "    \"\"\"\n",
    "    Apply Conv2D `n_channels` times and concatenate all capsules\n",
    "    :param inputs: 4D tensor, shape=[None, width, height, channels]\n",
    "    :param dim_capsule: the dim of the output vector of capsule\n",
    "    :param n_channels: the number of types of capsules\n",
    "    :return: output tensor, shape=[None, num_capsule, dim_capsule]\n",
    "    \"\"\"\n",
    "    output = layers.Conv2D(filters=dim_capsule*n_channels, kernel_size=kernel_size, strides=strides, padding=padding, name='primarycap_conv2d')(inputs)\n",
    "    outputs = layers.Reshape(target_shape=[-1, dim_capsule], name='primarycap_reshape')(output)\n",
    "    return layers.Lambda(squash, name='primarycap_squash')(outputs)"
   ]
  },
  {
   "cell_type": "code",
   "execution_count": 4,
   "metadata": {},
   "outputs": [],
   "source": [
    "from tensorflow.keras import layers, models, optimizers\n",
    "from tensorflow.keras import backend as K\n",
    "from tensorflow.keras.utils import to_categorical\n",
    "import matplotlib.pyplot as plt\n",
    "from PIL import Image\n",
    "\n",
    "# Parameters\n",
    "BATCH_SIZE = 8                #149 * 18 = 2682\n",
    "n_class = 2                         #DigiCaps {Normal, Pneumonia}\n",
    "routings = 3                        #Default from Paper\n",
    "input_shape = x_train.shape[1:]"
   ]
  },
  {
   "cell_type": "code",
   "execution_count": 5,
   "metadata": {
    "tags": []
   },
   "outputs": [],
   "source": [
    "x = layers.Input(shape=input_shape, batch_size=BATCH_SIZE)\n",
    "\n",
    "# Layer 1: Just a conventional Conv2D layer\n",
    "conv1 = layers.Conv2D(filters=32, kernel_size=25, strides=5, padding='valid', activation='relu', name='conv1')(x)\n",
    "\n",
    "# Layer 2: Conv2D layer with `squash` activation, then reshape to [None, num_capsule, dim_capsule]\n",
    "primarycaps = PrimaryCap(conv1, dim_capsule=4, n_channels=16, kernel_size=25, strides=5, padding='valid')\n",
    "\n",
    "# Layer 3: Capsule layer. Routing algorithm works here.\n",
    "digitcaps = CapsuleLayer(num_capsule=n_class, dim_capsule=16, routings=routings, name='digitcaps')(primarycaps)\n",
    "\n",
    "# Layer 4: This is an auxiliary layer to replace each capsule with its length. Just to match the true label's shape.\n",
    "# If using tensorflow, this will not be necessary. :)\n",
    "out_caps = Length(name='capsnet')(digitcaps)\n",
    "\n",
    "# Decoder network.\n",
    "y = layers.Input(shape=(n_class,))\n",
    "masked_by_y = Mask()([digitcaps, y])  # The true label is used to mask the output of capsule layer. For training\n",
    "masked = Mask()(digitcaps)  # Mask using the capsule with maximal length. For prediction\n",
    "\n",
    "# Shared Decoder model in training and prediction\n",
    "decoder = models.Sequential(name='decoder')\n",
    "decoder.add(layers.Dense(256, activation='relu', input_dim=16 * n_class))\n",
    "decoder.add(layers.Dense(512, activation='relu'))\n",
    "decoder.add(layers.Dense(np.prod(input_shape), activation='sigmoid'))\n",
    "decoder.add(layers.Reshape(target_shape=input_shape, name='out_recon'))\n",
    "\n",
    "# Models for training and evaluation (prediction)\n",
    "train_model = models.Model([x, y], [out_caps, decoder(masked_by_y)])\n",
    "eval_model = models.Model(x, [out_caps, decoder(masked)])\n"
   ]
  },
  {
   "cell_type": "code",
   "execution_count": 6,
   "metadata": {
    "tags": []
   },
   "outputs": [
    {
     "output_type": "stream",
     "name": "stdout",
     "text": "Model: \"model\"\n__________________________________________________________________________________________________\nLayer (type)                    Output Shape         Param #     Connected to                     \n==================================================================================================\ninput_1 (InputLayer)            [(8, 250, 250, 1)]   0                                            \n__________________________________________________________________________________________________\nconv1 (Conv2D)                  (8, 46, 46, 32)      20032       input_1[0][0]                    \n__________________________________________________________________________________________________\nprimarycap_conv2d (Conv2D)      (8, 5, 5, 64)        1280064     conv1[0][0]                      \n__________________________________________________________________________________________________\nprimarycap_reshape (Reshape)    (8, 400, 4)          0           primarycap_conv2d[0][0]          \n__________________________________________________________________________________________________\nprimarycap_squash (Lambda)      (8, 400, 4)          0           primarycap_reshape[0][0]         \n__________________________________________________________________________________________________\ndigitcaps (CapsuleLayer)        (8, 2, 16)           51200       primarycap_squash[0][0]          \n__________________________________________________________________________________________________\ninput_2 (InputLayer)            [(None, 2)]          0                                            \n__________________________________________________________________________________________________\nmask (Mask)                     (8, 32)              0           digitcaps[0][0]                  \n                                                                 input_2[0][0]                    \n__________________________________________________________________________________________________\ncapsnet (Length)                (8, 2)               0           digitcaps[0][0]                  \n__________________________________________________________________________________________________\ndecoder (Sequential)            multiple             32202532    mask[0][0]                       \n==================================================================================================\nTotal params: 33,553,828\nTrainable params: 33,553,828\nNon-trainable params: 0\n__________________________________________________________________________________________________\n"
    }
   ],
   "source": [
    "train_model.summary()"
   ]
  },
  {
   "cell_type": "code",
   "execution_count": 7,
   "metadata": {},
   "outputs": [],
   "source": [
    "def margin_loss(y_true, y_pred):\n",
    "    \"\"\"\n",
    "    Margin loss for Eq.(4). When y_true[i, :] contains not just one `1`, this loss should work too. Not test it.\n",
    "    :param y_true: [None, n_classes]\n",
    "    :param y_pred: [None, num_capsule]\n",
    "    :return: a scalar loss value.\n",
    "    \"\"\"\n",
    "    # return tf.reduce_mean(tf.square(y_pred))\n",
    "    L = y_true * tf.square(tf.maximum(0., 0.9 - y_pred)) + \\\n",
    "        0.5 * (1 - y_true) * tf.square(tf.maximum(0., y_pred - 0.1))\n",
    "\n",
    "    return tf.reduce_mean(tf.reduce_sum(L, 1))"
   ]
  },
  {
   "cell_type": "code",
   "execution_count": 8,
   "metadata": {},
   "outputs": [],
   "source": [
    "lr_decay = 0.9\n",
    "lr = 0.001\n",
    "lam_recon = 0.392\n",
    "epochs = 10\n",
    "\n",
    "# compile the model\n",
    "train_model.compile(optimizer=optimizers.Adam(lr=lr),\n",
    "                loss=[margin_loss, 'mse'],\n",
    "                loss_weights=[1., lam_recon],\n",
    "                metrics={'capsnet': 'accuracy'})"
   ]
  },
  {
   "cell_type": "code",
   "execution_count": 9,
   "metadata": {},
   "outputs": [
    {
     "output_type": "execute_result",
     "data": {
      "text/plain": "numpy.float32"
     },
     "metadata": {},
     "execution_count": 9
    }
   ],
   "source": [
    "type(x_train[0,0,0,0])\n"
   ]
  },
  {
   "cell_type": "code",
   "execution_count": 10,
   "metadata": {
    "tags": []
   },
   "outputs": [
    {
     "output_type": "stream",
     "name": "stdout",
     "text": "Epoch 1/10\n"
    },
    {
     "output_type": "error",
     "ename": "UnknownError",
     "evalue": " Failed to get convolution algorithm. This is probably because cuDNN failed to initialize, so try looking to see if a warning log message was printed above.\n\t [[node model/conv1/Conv2D (defined at <ipython-input-10-83505e03a78e>:1) ]] [Op:__inference_train_function_3107]\n\nFunction call stack:\ntrain_function\n",
     "traceback": [
      "\u001b[1;31m---------------------------------------------------------------------------\u001b[0m",
      "\u001b[1;31mUnknownError\u001b[0m                              Traceback (most recent call last)",
      "\u001b[1;32m<ipython-input-10-83505e03a78e>\u001b[0m in \u001b[0;36m<module>\u001b[1;34m\u001b[0m\n\u001b[1;32m----> 1\u001b[1;33m \u001b[0mtrain_model\u001b[0m\u001b[1;33m.\u001b[0m\u001b[0mfit\u001b[0m\u001b[1;33m(\u001b[0m\u001b[1;33m[\u001b[0m\u001b[0mx_train\u001b[0m\u001b[1;33m,\u001b[0m \u001b[0my_train\u001b[0m\u001b[1;33m]\u001b[0m\u001b[1;33m,\u001b[0m \u001b[1;33m[\u001b[0m\u001b[0my_train\u001b[0m\u001b[1;33m,\u001b[0m \u001b[0mx_train\u001b[0m\u001b[1;33m]\u001b[0m\u001b[1;33m,\u001b[0m \u001b[0mbatch_size\u001b[0m\u001b[1;33m=\u001b[0m\u001b[0mBATCH_SIZE\u001b[0m\u001b[1;33m,\u001b[0m \u001b[0mepochs\u001b[0m\u001b[1;33m=\u001b[0m\u001b[0mepochs\u001b[0m\u001b[1;33m,\u001b[0m \u001b[0mvalidation_data\u001b[0m\u001b[1;33m=\u001b[0m\u001b[1;33m[\u001b[0m\u001b[1;33m[\u001b[0m\u001b[0mx_val\u001b[0m\u001b[1;33m,\u001b[0m \u001b[0my_val\u001b[0m\u001b[1;33m]\u001b[0m\u001b[1;33m,\u001b[0m \u001b[1;33m[\u001b[0m\u001b[0my_val\u001b[0m\u001b[1;33m,\u001b[0m \u001b[0mx_val\u001b[0m\u001b[1;33m]\u001b[0m\u001b[1;33m]\u001b[0m\u001b[1;33m)\u001b[0m\u001b[1;33m\u001b[0m\u001b[1;33m\u001b[0m\u001b[0m\n\u001b[0m",
      "\u001b[1;32m~\\AppData\\Local\\Programs\\Python\\Python37\\lib\\site-packages\\tensorflow\\python\\keras\\engine\\training.py\u001b[0m in \u001b[0;36m_method_wrapper\u001b[1;34m(self, *args, **kwargs)\u001b[0m\n\u001b[0;32m     64\u001b[0m   \u001b[1;32mdef\u001b[0m \u001b[0m_method_wrapper\u001b[0m\u001b[1;33m(\u001b[0m\u001b[0mself\u001b[0m\u001b[1;33m,\u001b[0m \u001b[1;33m*\u001b[0m\u001b[0margs\u001b[0m\u001b[1;33m,\u001b[0m \u001b[1;33m**\u001b[0m\u001b[0mkwargs\u001b[0m\u001b[1;33m)\u001b[0m\u001b[1;33m:\u001b[0m\u001b[1;33m\u001b[0m\u001b[1;33m\u001b[0m\u001b[0m\n\u001b[0;32m     65\u001b[0m     \u001b[1;32mif\u001b[0m \u001b[1;32mnot\u001b[0m \u001b[0mself\u001b[0m\u001b[1;33m.\u001b[0m\u001b[0m_in_multi_worker_mode\u001b[0m\u001b[1;33m(\u001b[0m\u001b[1;33m)\u001b[0m\u001b[1;33m:\u001b[0m  \u001b[1;31m# pylint: disable=protected-access\u001b[0m\u001b[1;33m\u001b[0m\u001b[1;33m\u001b[0m\u001b[0m\n\u001b[1;32m---> 66\u001b[1;33m       \u001b[1;32mreturn\u001b[0m \u001b[0mmethod\u001b[0m\u001b[1;33m(\u001b[0m\u001b[0mself\u001b[0m\u001b[1;33m,\u001b[0m \u001b[1;33m*\u001b[0m\u001b[0margs\u001b[0m\u001b[1;33m,\u001b[0m \u001b[1;33m**\u001b[0m\u001b[0mkwargs\u001b[0m\u001b[1;33m)\u001b[0m\u001b[1;33m\u001b[0m\u001b[1;33m\u001b[0m\u001b[0m\n\u001b[0m\u001b[0;32m     67\u001b[0m \u001b[1;33m\u001b[0m\u001b[0m\n\u001b[0;32m     68\u001b[0m     \u001b[1;31m# Running inside `run_distribute_coordinator` already.\u001b[0m\u001b[1;33m\u001b[0m\u001b[1;33m\u001b[0m\u001b[1;33m\u001b[0m\u001b[0m\n",
      "\u001b[1;32m~\\AppData\\Local\\Programs\\Python\\Python37\\lib\\site-packages\\tensorflow\\python\\keras\\engine\\training.py\u001b[0m in \u001b[0;36mfit\u001b[1;34m(self, x, y, batch_size, epochs, verbose, callbacks, validation_split, validation_data, shuffle, class_weight, sample_weight, initial_epoch, steps_per_epoch, validation_steps, validation_batch_size, validation_freq, max_queue_size, workers, use_multiprocessing)\u001b[0m\n\u001b[0;32m    846\u001b[0m                 batch_size=batch_size):\n\u001b[0;32m    847\u001b[0m               \u001b[0mcallbacks\u001b[0m\u001b[1;33m.\u001b[0m\u001b[0mon_train_batch_begin\u001b[0m\u001b[1;33m(\u001b[0m\u001b[0mstep\u001b[0m\u001b[1;33m)\u001b[0m\u001b[1;33m\u001b[0m\u001b[1;33m\u001b[0m\u001b[0m\n\u001b[1;32m--> 848\u001b[1;33m               \u001b[0mtmp_logs\u001b[0m \u001b[1;33m=\u001b[0m \u001b[0mtrain_function\u001b[0m\u001b[1;33m(\u001b[0m\u001b[0miterator\u001b[0m\u001b[1;33m)\u001b[0m\u001b[1;33m\u001b[0m\u001b[1;33m\u001b[0m\u001b[0m\n\u001b[0m\u001b[0;32m    849\u001b[0m               \u001b[1;31m# Catch OutOfRangeError for Datasets of unknown size.\u001b[0m\u001b[1;33m\u001b[0m\u001b[1;33m\u001b[0m\u001b[1;33m\u001b[0m\u001b[0m\n\u001b[0;32m    850\u001b[0m               \u001b[1;31m# This blocks until the batch has finished executing.\u001b[0m\u001b[1;33m\u001b[0m\u001b[1;33m\u001b[0m\u001b[1;33m\u001b[0m\u001b[0m\n",
      "\u001b[1;32m~\\AppData\\Local\\Programs\\Python\\Python37\\lib\\site-packages\\tensorflow\\python\\eager\\def_function.py\u001b[0m in \u001b[0;36m__call__\u001b[1;34m(self, *args, **kwds)\u001b[0m\n\u001b[0;32m    578\u001b[0m         \u001b[0mxla_context\u001b[0m\u001b[1;33m.\u001b[0m\u001b[0mExit\u001b[0m\u001b[1;33m(\u001b[0m\u001b[1;33m)\u001b[0m\u001b[1;33m\u001b[0m\u001b[1;33m\u001b[0m\u001b[0m\n\u001b[0;32m    579\u001b[0m     \u001b[1;32melse\u001b[0m\u001b[1;33m:\u001b[0m\u001b[1;33m\u001b[0m\u001b[1;33m\u001b[0m\u001b[0m\n\u001b[1;32m--> 580\u001b[1;33m       \u001b[0mresult\u001b[0m \u001b[1;33m=\u001b[0m \u001b[0mself\u001b[0m\u001b[1;33m.\u001b[0m\u001b[0m_call\u001b[0m\u001b[1;33m(\u001b[0m\u001b[1;33m*\u001b[0m\u001b[0margs\u001b[0m\u001b[1;33m,\u001b[0m \u001b[1;33m**\u001b[0m\u001b[0mkwds\u001b[0m\u001b[1;33m)\u001b[0m\u001b[1;33m\u001b[0m\u001b[1;33m\u001b[0m\u001b[0m\n\u001b[0m\u001b[0;32m    581\u001b[0m \u001b[1;33m\u001b[0m\u001b[0m\n\u001b[0;32m    582\u001b[0m     \u001b[1;32mif\u001b[0m \u001b[0mtracing_count\u001b[0m \u001b[1;33m==\u001b[0m \u001b[0mself\u001b[0m\u001b[1;33m.\u001b[0m\u001b[0m_get_tracing_count\u001b[0m\u001b[1;33m(\u001b[0m\u001b[1;33m)\u001b[0m\u001b[1;33m:\u001b[0m\u001b[1;33m\u001b[0m\u001b[1;33m\u001b[0m\u001b[0m\n",
      "\u001b[1;32m~\\AppData\\Local\\Programs\\Python\\Python37\\lib\\site-packages\\tensorflow\\python\\eager\\def_function.py\u001b[0m in \u001b[0;36m_call\u001b[1;34m(self, *args, **kwds)\u001b[0m\n\u001b[0;32m    642\u001b[0m         \u001b[1;31m# Lifting succeeded, so variables are initialized and we can run the\u001b[0m\u001b[1;33m\u001b[0m\u001b[1;33m\u001b[0m\u001b[1;33m\u001b[0m\u001b[0m\n\u001b[0;32m    643\u001b[0m         \u001b[1;31m# stateless function.\u001b[0m\u001b[1;33m\u001b[0m\u001b[1;33m\u001b[0m\u001b[1;33m\u001b[0m\u001b[0m\n\u001b[1;32m--> 644\u001b[1;33m         \u001b[1;32mreturn\u001b[0m \u001b[0mself\u001b[0m\u001b[1;33m.\u001b[0m\u001b[0m_stateless_fn\u001b[0m\u001b[1;33m(\u001b[0m\u001b[1;33m*\u001b[0m\u001b[0margs\u001b[0m\u001b[1;33m,\u001b[0m \u001b[1;33m**\u001b[0m\u001b[0mkwds\u001b[0m\u001b[1;33m)\u001b[0m\u001b[1;33m\u001b[0m\u001b[1;33m\u001b[0m\u001b[0m\n\u001b[0m\u001b[0;32m    645\u001b[0m     \u001b[1;32melse\u001b[0m\u001b[1;33m:\u001b[0m\u001b[1;33m\u001b[0m\u001b[1;33m\u001b[0m\u001b[0m\n\u001b[0;32m    646\u001b[0m       \u001b[0mcanon_args\u001b[0m\u001b[1;33m,\u001b[0m \u001b[0mcanon_kwds\u001b[0m \u001b[1;33m=\u001b[0m\u001b[0;31m \u001b[0m\u001b[0;31m\\\u001b[0m\u001b[1;33m\u001b[0m\u001b[1;33m\u001b[0m\u001b[0m\n",
      "\u001b[1;32m~\\AppData\\Local\\Programs\\Python\\Python37\\lib\\site-packages\\tensorflow\\python\\eager\\function.py\u001b[0m in \u001b[0;36m__call__\u001b[1;34m(self, *args, **kwargs)\u001b[0m\n\u001b[0;32m   2418\u001b[0m     \u001b[1;32mwith\u001b[0m \u001b[0mself\u001b[0m\u001b[1;33m.\u001b[0m\u001b[0m_lock\u001b[0m\u001b[1;33m:\u001b[0m\u001b[1;33m\u001b[0m\u001b[1;33m\u001b[0m\u001b[0m\n\u001b[0;32m   2419\u001b[0m       \u001b[0mgraph_function\u001b[0m\u001b[1;33m,\u001b[0m \u001b[0margs\u001b[0m\u001b[1;33m,\u001b[0m \u001b[0mkwargs\u001b[0m \u001b[1;33m=\u001b[0m \u001b[0mself\u001b[0m\u001b[1;33m.\u001b[0m\u001b[0m_maybe_define_function\u001b[0m\u001b[1;33m(\u001b[0m\u001b[0margs\u001b[0m\u001b[1;33m,\u001b[0m \u001b[0mkwargs\u001b[0m\u001b[1;33m)\u001b[0m\u001b[1;33m\u001b[0m\u001b[1;33m\u001b[0m\u001b[0m\n\u001b[1;32m-> 2420\u001b[1;33m     \u001b[1;32mreturn\u001b[0m \u001b[0mgraph_function\u001b[0m\u001b[1;33m.\u001b[0m\u001b[0m_filtered_call\u001b[0m\u001b[1;33m(\u001b[0m\u001b[0margs\u001b[0m\u001b[1;33m,\u001b[0m \u001b[0mkwargs\u001b[0m\u001b[1;33m)\u001b[0m  \u001b[1;31m# pylint: disable=protected-access\u001b[0m\u001b[1;33m\u001b[0m\u001b[1;33m\u001b[0m\u001b[0m\n\u001b[0m\u001b[0;32m   2421\u001b[0m \u001b[1;33m\u001b[0m\u001b[0m\n\u001b[0;32m   2422\u001b[0m   \u001b[1;33m@\u001b[0m\u001b[0mproperty\u001b[0m\u001b[1;33m\u001b[0m\u001b[1;33m\u001b[0m\u001b[0m\n",
      "\u001b[1;32m~\\AppData\\Local\\Programs\\Python\\Python37\\lib\\site-packages\\tensorflow\\python\\eager\\function.py\u001b[0m in \u001b[0;36m_filtered_call\u001b[1;34m(self, args, kwargs)\u001b[0m\n\u001b[0;32m   1663\u001b[0m          if isinstance(t, (ops.Tensor,\n\u001b[0;32m   1664\u001b[0m                            resource_variable_ops.BaseResourceVariable))),\n\u001b[1;32m-> 1665\u001b[1;33m         self.captured_inputs)\n\u001b[0m\u001b[0;32m   1666\u001b[0m \u001b[1;33m\u001b[0m\u001b[0m\n\u001b[0;32m   1667\u001b[0m   \u001b[1;32mdef\u001b[0m \u001b[0m_call_flat\u001b[0m\u001b[1;33m(\u001b[0m\u001b[0mself\u001b[0m\u001b[1;33m,\u001b[0m \u001b[0margs\u001b[0m\u001b[1;33m,\u001b[0m \u001b[0mcaptured_inputs\u001b[0m\u001b[1;33m,\u001b[0m \u001b[0mcancellation_manager\u001b[0m\u001b[1;33m=\u001b[0m\u001b[1;32mNone\u001b[0m\u001b[1;33m)\u001b[0m\u001b[1;33m:\u001b[0m\u001b[1;33m\u001b[0m\u001b[1;33m\u001b[0m\u001b[0m\n",
      "\u001b[1;32m~\\AppData\\Local\\Programs\\Python\\Python37\\lib\\site-packages\\tensorflow\\python\\eager\\function.py\u001b[0m in \u001b[0;36m_call_flat\u001b[1;34m(self, args, captured_inputs, cancellation_manager)\u001b[0m\n\u001b[0;32m   1744\u001b[0m       \u001b[1;31m# No tape is watching; skip to running the function.\u001b[0m\u001b[1;33m\u001b[0m\u001b[1;33m\u001b[0m\u001b[1;33m\u001b[0m\u001b[0m\n\u001b[0;32m   1745\u001b[0m       return self._build_call_outputs(self._inference_function.call(\n\u001b[1;32m-> 1746\u001b[1;33m           ctx, args, cancellation_manager=cancellation_manager))\n\u001b[0m\u001b[0;32m   1747\u001b[0m     forward_backward = self._select_forward_and_backward_functions(\n\u001b[0;32m   1748\u001b[0m         \u001b[0margs\u001b[0m\u001b[1;33m,\u001b[0m\u001b[1;33m\u001b[0m\u001b[1;33m\u001b[0m\u001b[0m\n",
      "\u001b[1;32m~\\AppData\\Local\\Programs\\Python\\Python37\\lib\\site-packages\\tensorflow\\python\\eager\\function.py\u001b[0m in \u001b[0;36mcall\u001b[1;34m(self, ctx, args, cancellation_manager)\u001b[0m\n\u001b[0;32m    596\u001b[0m               \u001b[0minputs\u001b[0m\u001b[1;33m=\u001b[0m\u001b[0margs\u001b[0m\u001b[1;33m,\u001b[0m\u001b[1;33m\u001b[0m\u001b[1;33m\u001b[0m\u001b[0m\n\u001b[0;32m    597\u001b[0m               \u001b[0mattrs\u001b[0m\u001b[1;33m=\u001b[0m\u001b[0mattrs\u001b[0m\u001b[1;33m,\u001b[0m\u001b[1;33m\u001b[0m\u001b[1;33m\u001b[0m\u001b[0m\n\u001b[1;32m--> 598\u001b[1;33m               ctx=ctx)\n\u001b[0m\u001b[0;32m    599\u001b[0m         \u001b[1;32melse\u001b[0m\u001b[1;33m:\u001b[0m\u001b[1;33m\u001b[0m\u001b[1;33m\u001b[0m\u001b[0m\n\u001b[0;32m    600\u001b[0m           outputs = execute.execute_with_cancellation(\n",
      "\u001b[1;32m~\\AppData\\Local\\Programs\\Python\\Python37\\lib\\site-packages\\tensorflow\\python\\eager\\execute.py\u001b[0m in \u001b[0;36mquick_execute\u001b[1;34m(op_name, num_outputs, inputs, attrs, ctx, name)\u001b[0m\n\u001b[0;32m     58\u001b[0m     \u001b[0mctx\u001b[0m\u001b[1;33m.\u001b[0m\u001b[0mensure_initialized\u001b[0m\u001b[1;33m(\u001b[0m\u001b[1;33m)\u001b[0m\u001b[1;33m\u001b[0m\u001b[1;33m\u001b[0m\u001b[0m\n\u001b[0;32m     59\u001b[0m     tensors = pywrap_tfe.TFE_Py_Execute(ctx._handle, device_name, op_name,\n\u001b[1;32m---> 60\u001b[1;33m                                         inputs, attrs, num_outputs)\n\u001b[0m\u001b[0;32m     61\u001b[0m   \u001b[1;32mexcept\u001b[0m \u001b[0mcore\u001b[0m\u001b[1;33m.\u001b[0m\u001b[0m_NotOkStatusException\u001b[0m \u001b[1;32mas\u001b[0m \u001b[0me\u001b[0m\u001b[1;33m:\u001b[0m\u001b[1;33m\u001b[0m\u001b[1;33m\u001b[0m\u001b[0m\n\u001b[0;32m     62\u001b[0m     \u001b[1;32mif\u001b[0m \u001b[0mname\u001b[0m \u001b[1;32mis\u001b[0m \u001b[1;32mnot\u001b[0m \u001b[1;32mNone\u001b[0m\u001b[1;33m:\u001b[0m\u001b[1;33m\u001b[0m\u001b[1;33m\u001b[0m\u001b[0m\n",
      "\u001b[1;31mUnknownError\u001b[0m:  Failed to get convolution algorithm. This is probably because cuDNN failed to initialize, so try looking to see if a warning log message was printed above.\n\t [[node model/conv1/Conv2D (defined at <ipython-input-10-83505e03a78e>:1) ]] [Op:__inference_train_function_3107]\n\nFunction call stack:\ntrain_function\n"
     ]
    }
   ],
   "source": [
    "train_model.fit([x_train, y_train], [y_train, x_train], batch_size=BATCH_SIZE, epochs=epochs, validation_data=[[x_val, y_val], [y_val, x_val]])"
   ]
  },
  {
   "cell_type": "code",
   "execution_count": 11,
   "metadata": {
    "tags": []
   },
   "outputs": [],
   "source": [
    "# train_model.save('./train_model')\n",
    "# eval_model.save('./eval_model')"
   ]
  },
  {
   "cell_type": "code",
   "execution_count": 12,
   "metadata": {},
   "outputs": [],
   "source": [
    "# y_pred, x_recon = eval_model.predict(x_test, batch_size=100)\n",
    "# print('-' * 30 + 'Begin: test' + '-' * 30)\n",
    "# print('Test acc:', np.sum(np.argmax(y_pred, 1) == np.argmax(y_test, 1)) / y_test.shape[0])"
   ]
  },
  {
   "cell_type": "code",
   "execution_count": 13,
   "metadata": {},
   "outputs": [],
   "source": [
    "import math\n",
    "def combine_images(generated_images, height=None, width=None):\n",
    "    num = generated_images.shape[0]\n",
    "    if width is None and height is None:\n",
    "        width = int(math.sqrt(num))\n",
    "        height = int(math.ceil(float(num)/width))\n",
    "    elif width is not None and height is None:  # height not given\n",
    "        height = int(math.ceil(float(num)/width))\n",
    "    elif height is not None and width is None:  # width not given\n",
    "        width = int(math.ceil(float(num)/height))\n",
    "\n",
    "    shape = generated_images.shape[1:3]\n",
    "    image = np.zeros((height*shape[0], width*shape[1]),\n",
    "                     dtype=generated_images.dtype)\n",
    "    for index, img in enumerate(generated_images):\n",
    "        i = int(index/width)\n",
    "        j = index % width\n",
    "        image[i*shape[0]:(i+1)*shape[0], j*shape[1]:(j+1)*shape[1]] = \\\n",
    "            img[:, :, 0]\n",
    "    return image"
   ]
  },
  {
   "cell_type": "code",
   "execution_count": 14,
   "metadata": {},
   "outputs": [],
   "source": [
    "# img = combine_images(np.concatenate([x_test[:50], x_recon[:50]]))\n",
    "# image = img * 255\n",
    "# Image.fromarray(image.astype(np.uint8)).save(\"reconstruction/real_and_recon.png\")\n",
    "# print()\n",
    "# print('-' * 30 + 'End: test' + '-' * 30)\n",
    "# plt.imshow(plt.imread(\"reconstruction/real_and_recon.png\"))\n",
    "# plt.show()"
   ]
  }
 ]
}