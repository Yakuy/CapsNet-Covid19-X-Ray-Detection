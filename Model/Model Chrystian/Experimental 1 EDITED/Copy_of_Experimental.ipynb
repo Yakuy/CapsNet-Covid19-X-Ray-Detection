{
  "nbformat": 4,
  "nbformat_minor": 0,
  "metadata": {
    "colab": {
      "name": "Copy of Experimental.ipynb",
      "provenance": [],
      "collapsed_sections": [
        "qYRzTB-6Iyfl",
        "8sBdGyQFIGaU",
        "ysUhIuUVbxhG"
      ]
    },
    "kernelspec": {
      "name": "python3",
      "display_name": "Python 3"
    },
    "accelerator": "GPU"
  },
  "cells": [
    {
      "cell_type": "markdown",
      "metadata": {
        "id": "31mKvrx1I8wh",
        "colab_type": "text"
      },
      "source": [
        "## Initilization & Lib"
      ]
    },
    {
      "cell_type": "code",
      "metadata": {
        "id": "TxvAY8FxiuhQ",
        "colab_type": "code",
        "colab": {
          "base_uri": "https://localhost:8080/",
          "height": 34
        },
        "outputId": "62d78e1a-2abb-46b2-cd04-5c86473d63e4"
      },
      "source": [
        "from google.colab import drive\n",
        "drive.mount('/content/drive')"
      ],
      "execution_count": 33,
      "outputs": [
        {
          "output_type": "stream",
          "text": [
            "Drive already mounted at /content/drive; to attempt to forcibly remount, call drive.mount(\"/content/drive\", force_remount=True).\n"
          ],
          "name": "stdout"
        }
      ]
    },
    {
      "cell_type": "code",
      "metadata": {
        "id": "HV98smqncCZB",
        "colab_type": "code",
        "colab": {
          "base_uri": "https://localhost:8080/",
          "height": 476
        },
        "outputId": "9f0e0c4a-2278-4c1d-83dc-782071e12bc6"
      },
      "source": [
        "from tensorflow.python.client import device_lib\n",
        "device_lib.list_local_devices()"
      ],
      "execution_count": 34,
      "outputs": [
        {
          "output_type": "execute_result",
          "data": {
            "text/plain": [
              "[name: \"/device:CPU:0\"\n",
              " device_type: \"CPU\"\n",
              " memory_limit: 268435456\n",
              " locality {\n",
              " }\n",
              " incarnation: 15668530462857046857, name: \"/device:XLA_CPU:0\"\n",
              " device_type: \"XLA_CPU\"\n",
              " memory_limit: 17179869184\n",
              " locality {\n",
              " }\n",
              " incarnation: 11761197824958253271\n",
              " physical_device_desc: \"device: XLA_CPU device\", name: \"/device:XLA_GPU:0\"\n",
              " device_type: \"XLA_GPU\"\n",
              " memory_limit: 17179869184\n",
              " locality {\n",
              " }\n",
              " incarnation: 4095827764482988921\n",
              " physical_device_desc: \"device: XLA_GPU device\", name: \"/device:GPU:0\"\n",
              " device_type: \"GPU\"\n",
              " memory_limit: 13866161920\n",
              " locality {\n",
              "   bus_id: 1\n",
              "   links {\n",
              "   }\n",
              " }\n",
              " incarnation: 4674374298393997559\n",
              " physical_device_desc: \"device: 0, name: Tesla T4, pci bus id: 0000:00:04.0, compute capability: 7.5\"]"
            ]
          },
          "metadata": {
            "tags": []
          },
          "execution_count": 34
        }
      ]
    },
    {
      "cell_type": "code",
      "metadata": {
        "id": "RoyTcdTHSanQ",
        "colab_type": "code",
        "colab": {}
      },
      "source": [
        "#!pip3 install torch==0.3.1 torchvision==0.2.0"
      ],
      "execution_count": 35,
      "outputs": []
    },
    {
      "cell_type": "code",
      "metadata": {
        "id": "0VHAqaCbiw4m",
        "colab_type": "code",
        "colab": {}
      },
      "source": [
        "#capsnet\n",
        "import matplotlib\n",
        "import matplotlib.pyplot as plt\n",
        "import numpy as np\n",
        "#chexnet\n",
        "import sys\n",
        "import argparse\n",
        "import torch\n",
        "import torch.nn as nn\n",
        "import torchvision\n",
        "from collections import OrderedDict\n",
        "#train network\n",
        "import os\n",
        "import datetime\n",
        "import json\n",
        "import glob\n",
        "import torch.backends.cudnn as cudnn\n",
        "from torch import optim\n",
        "from torch.utils.data.distributed import DistributedSampler\n",
        "from torch.utils.data import DataLoader\n",
        "import torchvision.transforms as transforms\n",
        "from sklearn.metrics import roc_auc_score, confusion_matrix, roc_curve, auc, f1_score, classification_report\n",
        "import seaborn as sn\n",
        "import pandas as pd\n",
        "from scipy import interp\n",
        "from itertools import cycle\n",
        "from tqdm import tqdm\n",
        "#load data\n",
        "from torch.utils.data import Dataset\n",
        "import random\n",
        "from PIL import Image"
      ],
      "execution_count": 84,
      "outputs": []
    },
    {
      "cell_type": "code",
      "metadata": {
        "id": "leDUsCrRMfwH",
        "colab_type": "code",
        "colab": {}
      },
      "source": [
        "#buat load data\n",
        "class CreateDataSet(Dataset):\n",
        "    def __init__(self, image_pickle):\n",
        "        print('tset')\n",
        "\n",
        "class ChestXrayDataSetTest(Dataset):\n",
        "    def __init__(self, image_list_file, transform=None, combine_pneumonia=False):\n",
        "        \"\"\"\n",
        "        Create the Data Loader.\n",
        "        Since class 3 (Covid) has limited data, dataset size will be accordingly at train time.\n",
        "        Code is written in generic form to assume last class as the rare class\n",
        "\n",
        "        Args:\n",
        "            image_list_file: path to the file containing images\n",
        "                with corresponding labels.\n",
        "            transform: optional transform to be applied on a sample.\n",
        "            combine_pneumonia: True for combining Baterial and Viral Pneumonias into one class\n",
        "        \"\"\"\n",
        "        self.NUM_CLASSES = 3 if combine_pneumonia else 4\n",
        "        # Set of images for each class\n",
        "        image_names = []\n",
        "\n",
        "        with open(image_list_file, \"r\") as f:\n",
        "            for line in f:\n",
        "                items = line.split()\n",
        "                image_name = items[0]+' '+items[1]\n",
        "                label = int(items[2])\n",
        "                image_names.append((image_name, label))\n",
        "\n",
        "        self.image_names = image_names\n",
        "        self.transform = transform\n",
        "\n",
        "    def __getitem__(self, index):\n",
        "        \"\"\"\n",
        "        Args:\n",
        "            index: the index of item\n",
        "\n",
        "        Returns:\n",
        "            image and its labels\n",
        "        \"\"\"\n",
        "        def __one_hot_encode(l):\n",
        "            v = [0] * self.NUM_CLASSES\n",
        "            v[l] = 1\n",
        "            return v\n",
        "\n",
        "        image_name, label = self.image_names[index]\n",
        "        #label = __one_hot_encode(label)\n",
        "        #print(label)\n",
        "        image = Image.open(image_name).convert('RGB')\n",
        "        if self.transform is not None:\n",
        "            image = self.transform(image)\n",
        "        return image, label\n",
        "\n",
        "    def __len__(self):\n",
        "        return len(self.image_names)\n",
        "\n",
        "\n",
        "class ChestXrayDataSet(Dataset):\n",
        "    def __init__(self, image_list_file, transform=None, combine_pneumonia=False):\n",
        "        \"\"\"\n",
        "        Create the Data Loader.\n",
        "        Since class 3 (Covid) has limited data, dataset size will be accordingly at train time.\n",
        "        Code is written in generic form to assume last class as the rare class\n",
        "\n",
        "        Args:\n",
        "            image_list_file: path to the file containing images\n",
        "                with corresponding labels.\n",
        "            transform: optional transform to be applied on a sample.\n",
        "            combine_pneumonia: True for combining Baterial and Viral Pneumonias into one class\n",
        "        \"\"\"\n",
        "        self.NUM_CLASSES = 3 if combine_pneumonia else 4\n",
        "        \n",
        "        # Set of images for each class\n",
        "        image_names = [[] for _ in range(self.NUM_CLASSES)]\n",
        "\n",
        "        with open(image_list_file, \"r\") as f:\n",
        "            for line in f:\n",
        "                items = line.split()\n",
        "                image_name = items[0]+ ' ' + items[1]\n",
        "                label = int(items[2])\n",
        "                image_names[label].append(image_name)\n",
        "        #print(image_list_file)\n",
        "        #print(image_names)\n",
        "\n",
        "        self.image_names = image_names\n",
        "        self.transform = transform\n",
        "        label_dist = [len(cnames) for cnames in image_names]\n",
        "\n",
        "        # Number of images of each class desired\n",
        "        self.num_covid = int(label_dist[-1])\n",
        "        if combine_pneumonia:\n",
        "            covid_factor = 7.0\n",
        "            self.num_normal = int(self.num_covid * covid_factor)\n",
        "            self.num_pneumonia = int(self.num_covid * covid_factor)\n",
        "            self.total = self.num_covid + self.num_pneumonia + self.num_normal\n",
        "            self.loss_weight_minus = torch.FloatTensor([self.num_normal, self.num_pneumonia, self.num_covid]).unsqueeze(0).cuda() / self.total\n",
        "            self.loss_weight_plus = 1.0 - self.loss_weight_minus\n",
        "        else:\n",
        "            covid_factor = 5.0\n",
        "            self.num_normal = int(self.num_covid * covid_factor)\n",
        "            self.num_viral = int(self.num_covid * covid_factor)\n",
        "            self.num_bact = int(self.num_covid * covid_factor)\n",
        "            self.total = self.num_covid + self.num_viral + self.num_bact + self.num_normal\n",
        "            self.loss_weight_minus = torch.FloatTensor([self.num_normal, self.num_bact, self.num_viral, self.num_covid]).unsqueeze(0).cuda() / self.total\n",
        "            self.loss_weight_plus = 1.0 - self.loss_weight_minus\n",
        "\n",
        "        # print (self.loss_weight_plus, self.loss_weight_minus)\n",
        "\n",
        "        if combine_pneumonia:\n",
        "            self.partitions = [self.num_covid,\n",
        "                                self.num_covid + self.num_normal,\n",
        "                                self.num_covid + self.num_normal + self.num_pneumonia]\n",
        "        else:\n",
        "            self.partitions = [self.num_covid,\n",
        "                                self.num_covid + self.num_normal,\n",
        "                                self.num_covid + self.num_normal + self.num_bact,\n",
        "                                self.num_covid + self.num_normal + self.num_bact + self.num_viral]\n",
        "\n",
        "        assert len(self.partitions) == self.NUM_CLASSES\n",
        "\n",
        "    def __getitem__(self, index):\n",
        "        \"\"\"\n",
        "        Args:\n",
        "            index: the index of item\n",
        "\n",
        "        Returns:\n",
        "            image and its labels\n",
        "        \"\"\"\n",
        "\n",
        "        def __one_hot_encode(l):\n",
        "            v = [0] * self.NUM_CLASSES\n",
        "            v[l] = 1\n",
        "            return v\n",
        "\n",
        "        image_name = None\n",
        "        # print (index, self.partitions, len(self), sum([len(cnames) for cnames in self.image_names]))\n",
        "        if index < self.partitions[0]:\n",
        "            # Return a covid image\n",
        "            data_idx = index\n",
        "            image_name = self.image_names[self.NUM_CLASSES - 1][data_idx]\n",
        "            #print(self.NUM_CLASSES - 1)\n",
        "            label = self.NUM_CLASSES - 1\n",
        "        else:\n",
        "            # Return non-covid image\n",
        "            for l in range(1, self.NUM_CLASSES):\n",
        "                if index < self.partitions[l]:\n",
        "                    class_idx = l - 1\n",
        "                    #print(class_idx)\n",
        "                    label = class_idx\n",
        "                    # Return a random image\n",
        "                    image_name = random.choice(self.image_names[class_idx])\n",
        "                    break\n",
        "        assert image_name is not None\n",
        "        image = Image.open(image_name).convert('RGB')\n",
        "        if self.transform is not None:\n",
        "            image = self.transform(image)\n",
        "        return image, label\n",
        "\n",
        "    def __len__(self):\n",
        "        return self.partitions[-1]\n",
        "\n",
        "    def loss(self, output, target):\n",
        "        \"\"\"\n",
        "        Binary weighted cross-entropy loss for each class\n",
        "        \"\"\"\n",
        "        weight_plus = torch.autograd.Variable(self.loss_weight_plus.repeat(1, target.size(0)).view(-1, self.loss_weight_plus.size(1)).cuda())\n",
        "        weight_neg = torch.autograd.Variable(self.loss_weight_minus.repeat(1, target.size(0)).view(-1, self.loss_weight_minus.size(1)).cuda())\n",
        "\n",
        "        loss = output\n",
        "        pmask = (target >= 0.5).data\n",
        "        nmask = (target < 0.5).data\n",
        "        \n",
        "        epsilon = 1e-15\n",
        "        loss[pmask] = (loss[pmask] + epsilon).log() * weight_plus[pmask]\n",
        "        loss[nmask] = (1-loss[nmask] + epsilon).log() * weight_plus[nmask]\n",
        "        loss = -loss.sum()\n",
        "        return loss"
      ],
      "execution_count": 37,
      "outputs": []
    },
    {
      "cell_type": "code",
      "metadata": {
        "id": "WnrIXcc08pK9",
        "colab_type": "code",
        "colab": {}
      },
      "source": [
        "TRAIN_IMAGE_LIST = '/content/drive/My Drive/CovidAID/data/strat_train.txt'\n",
        "VAL_IMAGE_LIST = '/content/drive/My Drive/CovidAID/data/strat_val.txt'\n",
        "TEST_IMAGE_LIST = '/content/drive/My Drive/CovidAID/data/strat_test.txt'\n",
        "TEST_DIR = '/content/drive/My Drive/CovidAID/data/samples'\n"
      ],
      "execution_count": 38,
      "outputs": []
    },
    {
      "cell_type": "markdown",
      "metadata": {
        "id": "QvOib2qxeALW",
        "colab_type": "text"
      },
      "source": [
        "## CapsNet PyTorch Implementation\n",
        "Author: Xifeng Guo, E-mail: `guoxifeng1990@163.com`, Github: `https://github.com/XifengGuo/CapsNet-Pytorch`"
      ]
    },
    {
      "cell_type": "markdown",
      "metadata": {
        "id": "r6NXZSSiI3q7",
        "colab_type": "text"
      },
      "source": [
        "#### Capsnet Class"
      ]
    },
    {
      "cell_type": "code",
      "metadata": {
        "id": "z4rw8MIReGad",
        "colab_type": "code",
        "colab": {}
      },
      "source": [
        "import torch\n",
        "import torch.nn as nn\n",
        "import torch.nn.functional as F\n",
        "from torch.autograd import Variable\n",
        "\n",
        "from torch.optim import Adam, lr_scheduler\n",
        "from torchvision import transforms, datasets\n",
        "\n",
        "def squash(inputs, axis=-1):\n",
        "    \"\"\"\n",
        "    The non-linear activation used in Capsule. It drives the length of a large vector to near 1 and small vector to 0\n",
        "    :param inputs: vectors to be squashed\n",
        "    :param axis: the axis to squash\n",
        "    :return: a Tensor with same size as inputs\n",
        "    \"\"\"\n",
        "    norm = torch.norm(inputs, p=2, dim=axis, keepdim=True)\n",
        "    scale = norm**2 / (1 + norm**2) / (norm + 1e-8)\n",
        "    return scale * inputs\n",
        "\n",
        "\n",
        "class DenseCapsule(nn.Module):\n",
        "    \"\"\"\n",
        "    The dense capsule layer. It is similar to Dense (FC) layer. Dense layer has `in_num` inputs, each is a scalar, the\n",
        "    output of the neuron from the former layer, and it has `out_num` output neurons. DenseCapsule just expands the\n",
        "    output of the neuron from scalar to vector. So its input size = [None, in_num_caps, in_dim_caps] and output size = \\\n",
        "    [None, out_num_caps, out_dim_caps]. For Dense Layer, in_dim_caps = out_dim_caps = 1.\n",
        "    :param in_num_caps: number of cpasules inputted to this layer\n",
        "    :param in_dim_caps: dimension of input capsules\n",
        "    :param out_num_caps: number of capsules outputted from this layer\n",
        "    :param out_dim_caps: dimension of output capsules\n",
        "    :param routings: number of iterations for the routing algorithm\n",
        "    \"\"\"\n",
        "    def __init__(self, in_num_caps, in_dim_caps, out_num_caps, out_dim_caps, routings=3):\n",
        "        super(DenseCapsule, self).__init__()\n",
        "        self.in_num_caps = in_num_caps\n",
        "        self.in_dim_caps = in_dim_caps\n",
        "        self.out_num_caps = out_num_caps\n",
        "        self.out_dim_caps = out_dim_caps\n",
        "        self.routings = routings\n",
        "        self.weight = nn.Parameter(0.01 * torch.randn(out_num_caps, in_num_caps, out_dim_caps, in_dim_caps))\n",
        "\n",
        "    def forward(self, x):\n",
        "        # x.size=[batch, in_num_caps, in_dim_caps]\n",
        "        # expanded to    [batch, 1,            in_num_caps, in_dim_caps,  1]\n",
        "        # weight.size   =[       out_num_caps, in_num_caps, out_dim_caps, in_dim_caps]\n",
        "        # torch.matmul: [out_dim_caps, in_dim_caps] x [in_dim_caps, 1] -> [out_dim_caps, 1]\n",
        "        # => x_hat.size =[batch, out_num_caps, in_num_caps, out_dim_caps]\n",
        "        x_hat = torch.squeeze(torch.matmul(self.weight, x[:, None, :, :, None]), dim=-1)\n",
        "\n",
        "        # In forward pass, `x_hat_detached` = `x_hat`;\n",
        "        # In backward, no gradient can flow from `x_hat_detached` back to `x_hat`.\n",
        "        x_hat_detached = x_hat.detach()\n",
        "\n",
        "        # The prior for coupling coefficient, initialized as zeros.\n",
        "        # b.size = [batch, out_num_caps, in_num_caps]\n",
        "        b = Variable(torch.zeros(x.size(0), self.out_num_caps, self.in_num_caps)).cuda()\n",
        "\n",
        "        assert self.routings > 0, 'The \\'routings\\' should be > 0.'\n",
        "        for i in range(self.routings):\n",
        "            # c.size = [batch, out_num_caps, in_num_caps]\n",
        "            c = F.softmax(b, dim=1)\n",
        "\n",
        "            # At last iteration, use `x_hat` to compute `outputs` in order to backpropagate gradient\n",
        "            if i == self.routings - 1:\n",
        "                # c.size expanded to [batch, out_num_caps, in_num_caps, 1           ]\n",
        "                # x_hat.size     =   [batch, out_num_caps, in_num_caps, out_dim_caps]\n",
        "                # => outputs.size=   [batch, out_num_caps, 1,           out_dim_caps]\n",
        "                outputs = squash(torch.sum(c[:, :, :, None] * x_hat, dim=-2, keepdim=True))\n",
        "                # outputs = squash(torch.matmul(c[:, :, None, :], x_hat))  # alternative way\n",
        "            else:  # Otherwise, use `x_hat_detached` to update `b`. No gradients flow on this path.\n",
        "                outputs = squash(torch.sum(c[:, :, :, None] * x_hat_detached, dim=-2, keepdim=True))\n",
        "                # outputs = squash(torch.matmul(c[:, :, None, :], x_hat_detached))  # alternative way\n",
        "\n",
        "                # outputs.size       =[batch, out_num_caps, 1,           out_dim_caps]\n",
        "                # x_hat_detached.size=[batch, out_num_caps, in_num_caps, out_dim_caps]\n",
        "                # => b.size          =[batch, out_num_caps, in_num_caps]\n",
        "                b = b + torch.sum(outputs * x_hat_detached, dim=-1)\n",
        "\n",
        "        return torch.squeeze(outputs, dim=-2)\n",
        "\n",
        "\n",
        "class PrimaryCapsule(nn.Module):\n",
        "    \"\"\"\n",
        "    Apply Conv2D with `out_channels` and then reshape to get capsules\n",
        "    :param in_channels: input channels\n",
        "    :param out_channels: output channels\n",
        "    :param dim_caps: dimension of capsule\n",
        "    :param kernel_size: kernel size\n",
        "    :return: output tensor, size=[batch, num_caps, dim_caps]\n",
        "    \"\"\"\n",
        "    def __init__(self, in_channels, out_channels, dim_caps, kernel_size, stride=1, padding=0):\n",
        "        super(PrimaryCapsule, self).__init__()\n",
        "        self.dim_caps = dim_caps\n",
        "        self.conv2d = nn.Conv2d(in_channels, out_channels, kernel_size=kernel_size, stride=stride, padding=padding)\n",
        "\n",
        "    def forward(self, x):\n",
        "        outputs = self.conv2d(x)\n",
        "        #print(\"Primary caps dimension : \", outputs.shape)\n",
        "\n",
        "        return squash(outputs)\n",
        "\n",
        "class SecondaryCapsule(nn.Module):\n",
        "    \"\"\"\n",
        "    Apply Conv2D with `out_channels` and then reshape to get capsules\n",
        "    :param in_channels: input channels\n",
        "    :param out_channels: output channels\n",
        "    :param dim_caps: dimension of capsule\n",
        "    :param kernel_size: kernel size\n",
        "    :return: output tensor, size=[batch, num_caps, dim_caps]\n",
        "    \"\"\"\n",
        "    def __init__(self, in_channels, out_channels, dim_caps, kernel_size, stride=1, padding=0):\n",
        "        super(SecondaryCapsule, self).__init__()\n",
        "        self.dim_caps = dim_caps\n",
        "        self.conv2d = nn.Conv2d(in_channels, out_channels, kernel_size=kernel_size, stride=stride, padding=padding)\n",
        "\n",
        "    def forward(self, x):\n",
        "        outputs = self.conv2d(x)\n",
        "        #print(\"secondary caps dimension : \", outputs.shape)\n",
        "        outputs = outputs.view(x.size(0), -1, self.dim_caps)\n",
        "        return squash(outputs)\n",
        "\n",
        "class CapsuleNet(nn.Module):\n",
        "    \"\"\"\n",
        "    A Capsule Network on MNIST.\n",
        "    :param input_size: data size = [channels, width, height]\n",
        "    :param classes: number of classes\n",
        "    :param routings: number of routing iterations\n",
        "    Shape:\n",
        "        - Input: (batch, channels, width, height), optional (batch, classes) .\n",
        "        - Output:((batch, classes), (batch, channels, width, height))\n",
        "    \"\"\"\n",
        "    def __init__(self, input_size, classes, routings):\n",
        "        super(CapsuleNet, self).__init__()\n",
        "        self.input_size = input_size\n",
        "        self.classes = classes\n",
        "        self.routings = routings\n",
        "\n",
        "        # Layer 1: Just a conventional Conv2D layer\n",
        "        self.conv1 = nn.Conv2d(input_size[0], 256, kernel_size=16, stride=3, padding=0)\n",
        "        # Layer 2: Conv2D layer with `squash` activation, then reshape to [None, num_caps, dim_caps]\n",
        "        self.primarycaps = PrimaryCapsule(256, 256, 8, kernel_size=16, stride=3, padding=0)\n",
        "        self.secondarycaps = SecondaryCapsule(256, 256, 8, kernel_size=1, stride=1, padding=0)\n",
        "        # Layer 3: Capsule layer. Routing algorithm works here.\n",
        "        self.digitcaps = DenseCapsule(in_num_caps=32*19*19, in_dim_caps=8,\n",
        "                                      out_num_caps=classes, out_dim_caps=16, routings=routings)\n",
        "\n",
        "        # # Decoder network.\n",
        "        self.decoder = nn.Sequential(\n",
        "            nn.Linear(16*classes, 512),\n",
        "            nn.ReLU(inplace=True),\n",
        "            nn.Linear(512, input_size[0] * input_size[1] * input_size[2]),\n",
        "            nn.Sigmoid()\n",
        "        )\n",
        "\n",
        "        self.relu = nn.ReLU()\n",
        "\n",
        "    def forward(self, x, y=None):\n",
        "        x = self.relu(self.conv1(x))\n",
        "        x = self.primarycaps(x)\n",
        "        x = self.secondarycaps(x)\n",
        "        x = self.digitcaps(x)\n",
        "        length = x.norm(dim=-1)\n",
        "        if y is None:  # during testing, no label given. create one-hot coding using `length`\n",
        "            index = length.max(dim=1)[1]\n",
        "            y = Variable(torch.zeros(length.size()).scatter_(1, index.view(-1, 1).cpu().data, 1.).cuda())\n",
        "        reconstruction = self.decoder((x * y[:, :, None]).view(x.size(0), -1))\n",
        "        return length, reconstruction.view(-1, *self.input_size)\n",
        "\n",
        "\n",
        "def caps_loss(y_true, y_pred, x, x_recon, lam_recon):\n",
        "    \"\"\"\n",
        "    Capsule loss = Margin loss + lam_recon * reconstruction loss.\n",
        "    :param y_true: true labels, one-hot coding, size=[batch, classes]\n",
        "    :param y_pred: predicted labels by CapsNet, size=[batch, classes]\n",
        "    :param x: input data, size=[batch, channels, width, height]\n",
        "    :param x_recon: reconstructed data, size is same as `x`\n",
        "    :param lam_recon: coefficient for reconstruction loss\n",
        "    :return: Variable contains a scalar loss value.\n",
        "    \"\"\"\n",
        "    L = y_true * torch.clamp(0.9 - y_pred, min=0.) ** 2 + \\\n",
        "       0.5 * (1 - y_true) * torch.clamp(y_pred - 0.1, min=0.) ** 2\n",
        "    L_margin = L.sum(dim=1).mean()\n",
        "    #L = nn.NLLLoss(torch.log(y_pred), y_true)\n",
        "    #L_recon = nn.MSELoss()(x_recon, x)\n",
        "    L_recon = 0\n",
        "    return L_margin + lam_recon * L_recon\n",
        "\n",
        "\n",
        "def show_reconstruction(model, test_loader, n_images, args):\n",
        "    import matplotlib.pyplot as plt\n",
        "    from PIL import Image\n",
        "    import numpy as np\n",
        "    model.eval()\n",
        "    for x, _ in test_loader:\n",
        "        #print(x, x.shape, n_images)\n",
        "        x = Variable(x[:min(n_images, x.size(0))].cuda(), volatile=True)\n",
        "        _, x_recon = model(x)\n",
        "        data = np.concatenate([x.cpu().data, x_recon.cpu().data])\n",
        "        img = combine_images(np.transpose(data, [0, 2, 3, 1]))\n",
        "        image = img * 255\n",
        "        Image.fromarray(image.astype(np.uint8)).save(args.save_dir + \"/real_and_recon.png\")\n",
        "        print()\n",
        "        print('Reconstructed images are saved to %s/real_and_recon.png' % args.save_dir)\n",
        "        print('-' * 70)\n",
        "        plt.imshow(plt.imread(args.save_dir + \"/real_and_recon.png\", ))\n",
        "        plt.show()\n",
        "        break\n",
        "\n",
        "\n",
        "def test(model, test_loader, args):\n",
        "    model.eval()\n",
        "    test_loss = 0\n",
        "    correct = 0\n",
        "    for x, y in test_loader:\n",
        "        y = torch.zeros(y.size(0), 3).scatter_(1, y.view(-1, 1), 1)\n",
        "        x, y = Variable(x.cuda(), volatile=True), Variable(y.cuda())\n",
        "        y_pred, x_recon = model(x)\n",
        "        test_loss += caps_loss(y, y_pred, x, x_recon, args.lam_recon).data * x.size(0)  # sum up batch loss\n",
        "        y_pred = y_pred.data.max(1)[1]\n",
        "        y_true = y.data.max(1)[1]\n",
        "        correct += y_pred.eq(y_true).cpu().sum()\n",
        "\n",
        "    test_loss /= len(test_loader.dataset)\n",
        "    #print(correct, len(test_loader.dataset))\n",
        "\n",
        "    return test_loss, torch.true_divide(correct, len(test_loader.dataset))\n",
        "    \n",
        "def conf_matrix(model, test_loader):\n",
        "    model.eval()\n",
        "    test_loss = 0\n",
        "    Y_pred = []\n",
        "    Y_true = []\n",
        "    for x, y in test_loader:\n",
        "        y = torch.zeros(y.size(0), 3).scatter_(1, y.view(-1, 1), 1)\n",
        "        x, y = Variable(x.cuda(), volatile=True), Variable(y.cuda())\n",
        "        y_pred, x_recon = model(x)\n",
        "        y_pred = y_pred.data.max(1)[1]\n",
        "        y_true = y.data.max(1)[1]\n",
        "        Y_pred.append(y_pred)\n",
        "        Y_true.append(y_true)\n",
        "\n",
        "    return Y_pred, Y_true\n",
        "    #print(correct, len(test_loader.dataset))\n",
        "\n",
        "    return test_loss, torch.true_divide(correct, len(test_loader.dataset))\n",
        "def train(model, train_loader, test_loader, args):\n",
        "  \n",
        "    \"\"\"\n",
        "    Training a CapsuleNet\n",
        "    :param model: the CapsuleNet model\n",
        "    :param train_loader: torch.utils.data.DataLoader for training data\n",
        "    :param test_loader: torch.utils.data.DataLoader for test data\n",
        "    :param args: arguments\n",
        "    :return: The trained model\n",
        "    \"\"\"\n",
        "    print('Begin Training' + '-'*70)\n",
        "    from time import time\n",
        "    import csv\n",
        "    logfile = open(args.save_dir + '/log.csv', 'w')\n",
        "    logwriter = csv.DictWriter(logfile, fieldnames=['epoch', 'loss', 'val_loss', 'val_acc'])\n",
        "    logwriter.writeheader()\n",
        "\n",
        "    t0 = time()\n",
        "    optimizer = Adam(model.parameters(), lr=args.lr)\n",
        "    lr_decay = lr_scheduler.ExponentialLR(optimizer, gamma=args.lr_decay)\n",
        "    best_val_acc = 0.\n",
        "    for epoch in range(args.epochs):\n",
        "        model.train()  # set to training mode\n",
        "        lr_decay.step()  # decrease the learning rate by multiplying a factor `gamma`\n",
        "        ti = time()\n",
        "        training_loss = 0.0\n",
        "        for i, (x, y) in enumerate(train_loader):  # batch training\n",
        "            #print(x, y)\n",
        "            y = torch.zeros(y.size(0), 3).scatter_(1, y.view(-1, 1), 1)  # change to one-hot coding\n",
        "            x, y = Variable(x.cuda()), Variable(y.cuda())  # convert input data to GPU Variable\n",
        "\n",
        "            optimizer.zero_grad()  # set gradients of optimizer to zero\n",
        "            y_pred, x_recon = model(x, y)  # forward\n",
        "            loss = caps_loss(y, y_pred, x, x_recon, args.lam_recon)  # compute loss\n",
        "            loss.backward()  # backward, compute all gradients of loss w.r.t all Variables\n",
        "            training_loss += loss.data * x.size(0)  # record the batch loss\n",
        "            optimizer.step()  # update the trainable parameters with computed gradients\n",
        "\n",
        "        # compute validation loss and acc\n",
        "        val_loss, val_acc = test(model, test_loader, args)\n",
        "        logwriter.writerow(dict(epoch=epoch, loss=training_loss / len(train_loader.dataset),\n",
        "                                val_loss=val_loss, val_acc=val_acc))\n",
        "        print(\"==> Epoch %02d: loss=%.5f, val_loss=%.5f, val_acc=%.4f, time=%ds\"\n",
        "              % (epoch, training_loss / len(train_loader.dataset),\n",
        "                 val_loss, val_acc, time() - ti))\n",
        "        if val_acc > best_val_acc:  # update best validation acc and save model\n",
        "            best_val_acc = val_acc\n",
        "            torch.save(model.state_dict(), args.save_dir + '/epoch%d.pkl' % epoch)\n",
        "            print(\"best val_acc increased to %.4f\" % best_val_acc)\n",
        "            \n",
        "    logfile.close()\n",
        "    torch.save(model.state_dict(), args.save_dir + '/trained_model.pkl')\n",
        "    print('Trained model saved to \\'%s/trained_model.h5\\'' % args.save_dir)\n",
        "    print(\"Total time = %ds\" % (time() - t0))\n",
        "    print('End Training' + '-' * 70)\n",
        "    return model"
      ],
      "execution_count": 59,
      "outputs": []
    },
    {
      "cell_type": "markdown",
      "metadata": {
        "id": "qYRzTB-6Iyfl",
        "colab_type": "text"
      },
      "source": [
        "#### Utils"
      ]
    },
    {
      "cell_type": "code",
      "metadata": {
        "id": "iv2IKGefthP3",
        "colab_type": "code",
        "colab": {}
      },
      "source": [
        "import math\n",
        "import numpy as np\n",
        "\n",
        "def plot_log(filename, show=True):\n",
        "    # load data\n",
        "    keys = []\n",
        "    values = []\n",
        "    with open(filename, 'r') as f:\n",
        "        reader = csv.DictReader(f)\n",
        "        for row in reader:\n",
        "            if keys == []:\n",
        "                for key, value in row.items():\n",
        "                    keys.append(key)\n",
        "                    values.append(float(value))\n",
        "                continue\n",
        "\n",
        "            for _, value in row.items():\n",
        "                values.append(float(value))\n",
        "\n",
        "        values = np.reshape(values, newshape=(-1, len(keys)))\n",
        "\n",
        "    fig = plt.figure(figsize=(4,6))\n",
        "    fig.subplots_adjust(top=0.95, bottom=0.05, right=0.95)\n",
        "    fig.add_subplot(211)\n",
        "    epoch_axis = 0\n",
        "    for i, key in enumerate(keys):\n",
        "        if key == 'epoch':\n",
        "            epoch_axis = i\n",
        "            values[:, epoch_axis] += 1\n",
        "            break\n",
        "    for i, key in enumerate(keys):\n",
        "        if key.find('loss') >= 0:  # loss\n",
        "            print(values[:, i])\n",
        "            plt.plot(values[:, epoch_axis], values[:, i], label=key)\n",
        "    plt.legend()\n",
        "    plt.title('Training loss')\n",
        "\n",
        "    fig.add_subplot(212)\n",
        "    for i, key in enumerate(keys):\n",
        "        if key.find('acc') >= 0:  # acc\n",
        "            plt.plot(values[:, epoch_axis], values[:, i], label=key)\n",
        "    plt.legend()\n",
        "    plt.grid()\n",
        "    plt.title('Accuracy')\n",
        "\n",
        "    # fig.savefig('result/log.png')\n",
        "    if show:\n",
        "        plt.show()\n",
        "\n",
        "\n",
        "def combine_images(generated_images):\n",
        "    num = generated_images.shape[0]\n",
        "    width = int(math.sqrt(num))\n",
        "    height = int(math.ceil(float(num)/width))\n",
        "    shape = generated_images.shape[1:3]\n",
        "    image = np.zeros((height*shape[0], width*shape[1]),\n",
        "                     dtype=generated_images.dtype)\n",
        "    for index, img in enumerate(generated_images):\n",
        "        i = int(index/width)\n",
        "        j = index % width\n",
        "        image[i*shape[0]:(i+1)*shape[0], j*shape[1]:(j+1)*shape[1]] = \\\n",
        "            img[:, :, 0]\n",
        "    return image"
      ],
      "execution_count": 52,
      "outputs": []
    },
    {
      "cell_type": "markdown",
      "metadata": {
        "id": "8sBdGyQFIGaU",
        "colab_type": "text"
      },
      "source": [
        "#### MNIST Example"
      ]
    },
    {
      "cell_type": "code",
      "metadata": {
        "id": "mqXfUG5nfpzJ",
        "colab_type": "code",
        "colab": {}
      },
      "source": [
        "def load_mnist(path='./data', download=True, batch_size=100, shift_pixels=2):\n",
        "    \"\"\"\n",
        "    Construct dataloaders for training and test data. Data augmentation is also done here.\n",
        "    :param path: file path of the dataset\n",
        "    :param download: whether to download the original data\n",
        "    :param batch_size: batch size\n",
        "    :param shift_pixels: maximum number of pixels to shift in each direction\n",
        "    :return: train_loader, test_loader\n",
        "    \"\"\"\n",
        "    kwargs = {'num_workers': 1, 'pin_memory': True}\n",
        "\n",
        "    train_loader = torch.utils.data.DataLoader(\n",
        "        datasets.MNIST(path, train=True, download=download,\n",
        "                       transform=transforms.Compose([transforms.RandomCrop(size=28, padding=shift_pixels),\n",
        "                                                     transforms.ToTensor()])),\n",
        "        batch_size=batch_size, shuffle=True, **kwargs)\n",
        "    test_loader = torch.utils.data.DataLoader(\n",
        "        datasets.MNIST(path, train=False, download=download,\n",
        "                       transform=transforms.ToTensor()),\n",
        "        batch_size=batch_size, shuffle=True, **kwargs)\n",
        "    print(train_loader)\n",
        "    return train_loader, test_loader\n",
        "\n",
        "\n",
        "\n"
      ],
      "execution_count": null,
      "outputs": []
    },
    {
      "cell_type": "code",
      "metadata": {
        "id": "HQSHsHdJg9MM",
        "colab_type": "code",
        "colab": {
          "base_uri": "https://localhost:8080/",
          "height": 34
        },
        "outputId": "77154597-d8d0-4308-9856-09c002dceb23"
      },
      "source": [
        "class arg:\n",
        "    epochs = 10\n",
        "    batch_size = 100\n",
        "    lr = 0.001\n",
        "    lr_decay = 0.9\n",
        "    lam_recon = 0.0005 * 784 #from 28 * 28\n",
        "    r = 3 #default from paper\n",
        "    shift_pixels = 2\n",
        "    data_dir = './data'\n",
        "    download = './download'\n",
        "    save_dir = '/content/drive/My Drive/CovidAID/experimental/save_dir'\n",
        "    weights = '/content/drive/My Drive/CovidAID/experimental/save_dir/trained_model.pkl' #already Trained for 10 epochs\n",
        "    testing = True\n",
        "\n",
        "args = arg()\n",
        "print(arg.epochs)"
      ],
      "execution_count": null,
      "outputs": [
        {
          "output_type": "stream",
          "text": [
            "10\n"
          ],
          "name": "stdout"
        }
      ]
    },
    {
      "cell_type": "code",
      "metadata": {
        "id": "Xw3CShfyhIWl",
        "colab_type": "code",
        "colab": {
          "base_uri": "https://localhost:8080/",
          "height": 367
        },
        "outputId": "93a4c627-344d-4376-a287-bb60b5e55791"
      },
      "source": [
        "train_loader, test_loader = load_mnist(args.data_dir, download=True, batch_size=args.batch_size)\n",
        "\n",
        "# define model\n",
        "model = CapsuleNet(input_size=[1, 28, 28], classes=10, routings=3)\n",
        "model.cuda()\n",
        "print(model)\n",
        "\n",
        "# train or test\n",
        "if args.weights is not None:  # init the model weights with provided one\n",
        "    model.load_state_dict(torch.load(args.weights))\n",
        "if not args.testing:\n",
        "    train(model, train_loader, test_loader, args)\n",
        "else:  # testing\n",
        "    if args.weights is None:\n",
        "        print('No weights are provided. Will test using random initialized weights.')\n",
        "    test_loss, test_acc = test(model=model, test_loader=test_loader, args=args)\n",
        "    print('test acc = %.4f, test loss = %.5f' % (test_acc, test_loss))\n",
        "    show_reconstruction(model, test_loader, 50, args)"
      ],
      "execution_count": null,
      "outputs": [
        {
          "output_type": "stream",
          "text": [
            "<torch.utils.data.dataloader.DataLoader object at 0x7fe4153d44e0>\n"
          ],
          "name": "stdout"
        },
        {
          "output_type": "error",
          "ename": "NameError",
          "evalue": "ignored",
          "traceback": [
            "\u001b[0;31m---------------------------------------------------------------------------\u001b[0m",
            "\u001b[0;31mNameError\u001b[0m                                 Traceback (most recent call last)",
            "\u001b[0;32m<ipython-input-84-70ef0e214296>\u001b[0m in \u001b[0;36m<module>\u001b[0;34m()\u001b[0m\n\u001b[1;32m      2\u001b[0m \u001b[0;34m\u001b[0m\u001b[0m\n\u001b[1;32m      3\u001b[0m \u001b[0;31m# define model\u001b[0m\u001b[0;34m\u001b[0m\u001b[0;34m\u001b[0m\u001b[0;34m\u001b[0m\u001b[0m\n\u001b[0;32m----> 4\u001b[0;31m \u001b[0mmodel\u001b[0m \u001b[0;34m=\u001b[0m \u001b[0mCapsuleNet\u001b[0m\u001b[0;34m(\u001b[0m\u001b[0minput_size\u001b[0m\u001b[0;34m=\u001b[0m\u001b[0;34m[\u001b[0m\u001b[0;36m1\u001b[0m\u001b[0;34m,\u001b[0m \u001b[0;36m28\u001b[0m\u001b[0;34m,\u001b[0m \u001b[0;36m28\u001b[0m\u001b[0;34m]\u001b[0m\u001b[0;34m,\u001b[0m \u001b[0mclasses\u001b[0m\u001b[0;34m=\u001b[0m\u001b[0;36m10\u001b[0m\u001b[0;34m,\u001b[0m \u001b[0mroutings\u001b[0m\u001b[0;34m=\u001b[0m\u001b[0;36m3\u001b[0m\u001b[0;34m)\u001b[0m\u001b[0;34m\u001b[0m\u001b[0;34m\u001b[0m\u001b[0m\n\u001b[0m\u001b[1;32m      5\u001b[0m \u001b[0mmodel\u001b[0m\u001b[0;34m.\u001b[0m\u001b[0mcuda\u001b[0m\u001b[0;34m(\u001b[0m\u001b[0;34m)\u001b[0m\u001b[0;34m\u001b[0m\u001b[0;34m\u001b[0m\u001b[0m\n\u001b[1;32m      6\u001b[0m \u001b[0mprint\u001b[0m\u001b[0;34m(\u001b[0m\u001b[0mmodel\u001b[0m\u001b[0;34m)\u001b[0m\u001b[0;34m\u001b[0m\u001b[0;34m\u001b[0m\u001b[0m\n",
            "\u001b[0;32m<ipython-input-80-45a6d3529e80>\u001b[0m in \u001b[0;36m__init__\u001b[0;34m(self, input_size, classes, routings)\u001b[0m\n\u001b[1;32m    119\u001b[0m         \u001b[0;31m# Layer 2: Conv2D layer with `squash` activation, then reshape to [None, num_caps, dim_caps]\u001b[0m\u001b[0;34m\u001b[0m\u001b[0;34m\u001b[0m\u001b[0;34m\u001b[0m\u001b[0m\n\u001b[1;32m    120\u001b[0m         \u001b[0mself\u001b[0m\u001b[0;34m.\u001b[0m\u001b[0mprimarycaps\u001b[0m \u001b[0;34m=\u001b[0m \u001b[0mPrimaryCapsule\u001b[0m\u001b[0;34m(\u001b[0m\u001b[0;36m224\u001b[0m\u001b[0;34m,\u001b[0m \u001b[0;36m224\u001b[0m\u001b[0;34m,\u001b[0m \u001b[0;36m8\u001b[0m\u001b[0;34m,\u001b[0m \u001b[0mkernel_size\u001b[0m\u001b[0;34m=\u001b[0m\u001b[0;36m25\u001b[0m\u001b[0;34m,\u001b[0m \u001b[0mstride\u001b[0m\u001b[0;34m=\u001b[0m\u001b[0;36m16\u001b[0m\u001b[0;34m,\u001b[0m \u001b[0mpadding\u001b[0m\u001b[0;34m=\u001b[0m\u001b[0;36m0\u001b[0m\u001b[0;34m)\u001b[0m\u001b[0;34m\u001b[0m\u001b[0;34m\u001b[0m\u001b[0m\n\u001b[0;32m--> 121\u001b[0;31m         \u001b[0mprint\u001b[0m\u001b[0;34m(\u001b[0m\u001b[0msize1\u001b[0m\u001b[0;34m)\u001b[0m\u001b[0;34m\u001b[0m\u001b[0;34m\u001b[0m\u001b[0m\n\u001b[0m\u001b[1;32m    122\u001b[0m         \u001b[0;31m# Layer 3: Capsule layer. Routing algorithm works here.\u001b[0m\u001b[0;34m\u001b[0m\u001b[0;34m\u001b[0m\u001b[0;34m\u001b[0m\u001b[0m\n\u001b[1;32m    123\u001b[0m         self.digitcaps = DenseCapsule(in_num_caps=32*47*47, in_dim_caps=8,\n",
            "\u001b[0;31mNameError\u001b[0m: name 'size1' is not defined"
          ]
        }
      ]
    },
    {
      "cell_type": "markdown",
      "metadata": {
        "id": "DhdUDSSFJt-a",
        "colab_type": "text"
      },
      "source": [
        "## COVID AID Capsnet"
      ]
    },
    {
      "cell_type": "markdown",
      "metadata": {
        "id": "ysUhIuUVbxhG",
        "colab_type": "text"
      },
      "source": [
        "### Data Visualization"
      ]
    },
    {
      "cell_type": "code",
      "metadata": {
        "id": "ngXJhHOIBKLz",
        "colab_type": "code",
        "colab": {
          "base_uri": "https://localhost:8080/",
          "height": 1000
        },
        "outputId": "6d73488b-e19e-4ff2-f0e8-8b6b31a8c71f"
      },
      "source": [
        "f, axarr = plt.subplots(2,5)\n",
        "f.set_figheight(15)\n",
        "f.set_figwidth(15)\n",
        "for i in range(2):\n",
        "  for j in range(5):\n",
        "    axarr[i][j].imshow(batch1[0][0][i*5+j].permute(1, 2, 0))"
      ],
      "execution_count": null,
      "outputs": [
        {
          "output_type": "error",
          "ename": "NameError",
          "evalue": "ignored",
          "traceback": [
            "\u001b[0;31m---------------------------------------------------------------------------\u001b[0m",
            "\u001b[0;31mNameError\u001b[0m                                 Traceback (most recent call last)",
            "\u001b[0;32m<ipython-input-9-4d6b07685a50>\u001b[0m in \u001b[0;36m<module>\u001b[0;34m()\u001b[0m\n\u001b[1;32m      4\u001b[0m \u001b[0;32mfor\u001b[0m \u001b[0mi\u001b[0m \u001b[0;32min\u001b[0m \u001b[0mrange\u001b[0m\u001b[0;34m(\u001b[0m\u001b[0;36m2\u001b[0m\u001b[0;34m)\u001b[0m\u001b[0;34m:\u001b[0m\u001b[0;34m\u001b[0m\u001b[0;34m\u001b[0m\u001b[0m\n\u001b[1;32m      5\u001b[0m   \u001b[0;32mfor\u001b[0m \u001b[0mj\u001b[0m \u001b[0;32min\u001b[0m \u001b[0mrange\u001b[0m\u001b[0;34m(\u001b[0m\u001b[0;36m5\u001b[0m\u001b[0;34m)\u001b[0m\u001b[0;34m:\u001b[0m\u001b[0;34m\u001b[0m\u001b[0;34m\u001b[0m\u001b[0m\n\u001b[0;32m----> 6\u001b[0;31m     \u001b[0maxarr\u001b[0m\u001b[0;34m[\u001b[0m\u001b[0mi\u001b[0m\u001b[0;34m]\u001b[0m\u001b[0;34m[\u001b[0m\u001b[0mj\u001b[0m\u001b[0;34m]\u001b[0m\u001b[0;34m.\u001b[0m\u001b[0mimshow\u001b[0m\u001b[0;34m(\u001b[0m\u001b[0mbatch1\u001b[0m\u001b[0;34m[\u001b[0m\u001b[0;36m0\u001b[0m\u001b[0;34m]\u001b[0m\u001b[0;34m[\u001b[0m\u001b[0;36m0\u001b[0m\u001b[0;34m]\u001b[0m\u001b[0;34m[\u001b[0m\u001b[0mi\u001b[0m\u001b[0;34m*\u001b[0m\u001b[0;36m5\u001b[0m\u001b[0;34m+\u001b[0m\u001b[0mj\u001b[0m\u001b[0;34m]\u001b[0m\u001b[0;34m.\u001b[0m\u001b[0mpermute\u001b[0m\u001b[0;34m(\u001b[0m\u001b[0;36m1\u001b[0m\u001b[0;34m,\u001b[0m \u001b[0;36m2\u001b[0m\u001b[0;34m,\u001b[0m \u001b[0;36m0\u001b[0m\u001b[0;34m)\u001b[0m\u001b[0;34m)\u001b[0m\u001b[0;34m\u001b[0m\u001b[0;34m\u001b[0m\u001b[0m\n\u001b[0m",
            "\u001b[0;31mNameError\u001b[0m: name 'batch1' is not defined"
          ]
        },
        {
          "output_type": "display_data",
          "data": {
            "image/png": "[encoded data removed]",
            "text/plain": [
              "<Figure size 1080x1080 with 10 Axes>"
            ]
          },
          "metadata": {
            "tags": [],
            "needs_background": "light"
          }
        }
      ]
    },
    {
      "cell_type": "markdown",
      "metadata": {
        "id": "fqx6EUb_KwZB",
        "colab_type": "text"
      },
      "source": [
        "### Dataloader"
      ]
    },
    {
      "cell_type": "code",
      "metadata": {
        "id": "HuvUXKOpz5pV",
        "colab_type": "code",
        "colab": {}
      },
      "source": [
        "BATCH_SIZE = 32"
      ],
      "execution_count": 43,
      "outputs": []
    },
    {
      "cell_type": "code",
      "metadata": {
        "id": "MBzxwZQ3KvlG",
        "colab_type": "code",
        "colab": {}
      },
      "source": [
        "def load_covid_dataset(TEST_IMAGE_LIST, TRAIN_IMAGE_LIST, batch_size=64, combine_pneumonia=True):\n",
        "    normalize = transforms.Normalize([0.485, 0.456, 0.406], [0.229, 0.224, 0.225])\n",
        "    \n",
        "    train_loader  = torch.utils.data.DataLoader(ChestXrayDataSetTest(image_list_file=TRAIN_IMAGE_LIST,\n",
        "                                        transform=transforms.Compose([transforms.Resize([224,224]), transforms.ToTensor()]),\n",
        "                                        combine_pneumonia=True), batch_size=batch_size, shuffle=True)\n",
        "    \n",
        "    test_loader   = torch.utils.data.DataLoader(ChestXrayDataSetTest(image_list_file=TEST_IMAGE_LIST,\n",
        "                                        transform=transforms.Compose([transforms.Resize([224,224]), transforms.ToTensor()]),\n",
        "                                        combine_pneumonia=True), batch_size=batch_size, shuffle=True)\n",
        "    return train_loader, test_loader"
      ],
      "execution_count": 47,
      "outputs": []
    },
    {
      "cell_type": "code",
      "metadata": {
        "id": "J8KemyCaN328",
        "colab_type": "code",
        "colab": {}
      },
      "source": [
        "train_loader, test_loader = load_covid_dataset(TEST_IMAGE_LIST, TRAIN_IMAGE_LIST, batch_size=BATCH_SIZE)\n",
        "\n",
        "val_loader  = torch.utils.data.DataLoader(ChestXrayDataSetTest(image_list_file=VAL_IMAGE_LIST,\n",
        "                                        transform=transforms.Compose([transforms.Resize([224,224]), transforms.ToTensor()]),\n",
        "                                        combine_pneumonia=True), batch_size=32, shuffle=True)"
      ],
      "execution_count": 48,
      "outputs": []
    },
    {
      "cell_type": "code",
      "metadata": {
        "id": "w4X_zTKFAiru",
        "colab_type": "code",
        "colab": {
          "base_uri": "https://localhost:8080/",
          "height": 34
        },
        "outputId": "7377bd2b-88cf-48c3-9e50-9099d2d9d834"
      },
      "source": [
        ""
      ],
      "execution_count": 17,
      "outputs": [
        {
          "output_type": "execute_result",
          "data": {
            "text/plain": [
              "272"
            ]
          },
          "metadata": {
            "tags": []
          },
          "execution_count": 17
        }
      ]
    },
    {
      "cell_type": "markdown",
      "metadata": {
        "id": "XKAwr615b3FR",
        "colab_type": "text"
      },
      "source": [
        "### Train"
      ]
    },
    {
      "cell_type": "code",
      "metadata": {
        "id": "0lVjZDjKEmlH",
        "colab_type": "code",
        "colab": {}
      },
      "source": [
        "class arg:\n",
        "    epochs = 10\n",
        "    batch_size = BATCH_SIZE\n",
        "    lr = 0.001\n",
        "    lr_decay = 0.9\n",
        "    lam_recon = 0.5 #from 28 * 28\n",
        "    r = 3 #default from paper\n",
        "    shift_pixels = 2\n",
        "\n",
        "    save_dir = '/content/drive/My Drive/model/covidaid0'\n",
        "    weights = None\n",
        "\n",
        "args = arg()"
      ],
      "execution_count": 49,
      "outputs": []
    },
    {
      "cell_type": "code",
      "metadata": {
        "id": "O_ajC-mHU2Wq",
        "colab_type": "code",
        "colab": {
          "base_uri": "https://localhost:8080/",
          "height": 306
        },
        "outputId": "e5ea3ccc-e81e-44fb-f809-1a18f53ea7c9"
      },
      "source": [
        "# define model\n",
        "model = CapsuleNet(input_size=[3, 224, 224], classes=3, routings=3)\n",
        "model.cuda()\n",
        "print(model)"
      ],
      "execution_count": 53,
      "outputs": [
        {
          "output_type": "stream",
          "text": [
            "CapsuleNet(\n",
            "  (conv1): Conv2d(3, 256, kernel_size=(16, 16), stride=(3, 3))\n",
            "  (primarycaps): PrimaryCapsule(\n",
            "    (conv2d): Conv2d(256, 256, kernel_size=(16, 16), stride=(3, 3))\n",
            "  )\n",
            "  (secondarycaps): SecondaryCapsule(\n",
            "    (conv2d): Conv2d(256, 256, kernel_size=(1, 1), stride=(1, 1))\n",
            "  )\n",
            "  (digitcaps): DenseCapsule()\n",
            "  (decoder): Sequential(\n",
            "    (0): Linear(in_features=48, out_features=512, bias=True)\n",
            "    (1): ReLU(inplace=True)\n",
            "    (2): Linear(in_features=512, out_features=150528, bias=True)\n",
            "    (3): Sigmoid()\n",
            "  )\n",
            "  (relu): ReLU()\n",
            ")\n"
          ],
          "name": "stdout"
        }
      ]
    },
    {
      "cell_type": "code",
      "metadata": {
        "id": "dEY-QmweVaIG",
        "colab_type": "code",
        "colab": {
          "base_uri": "https://localhost:8080/",
          "height": 734
        },
        "outputId": "c97ee097-22a0-4fff-f150-f74cefe2b71a"
      },
      "source": [
        "# train or test\n",
        "if args.weights is not None:  # init the model weights with provided one\n",
        "    model.load_state_dict(torch.load(args.weights))\n",
        "    \n",
        "train(model, train_loader, val_loader, args)"
      ],
      "execution_count": 54,
      "outputs": [
        {
          "output_type": "stream",
          "text": [
            "Begin Training----------------------------------------------------------------------\n"
          ],
          "name": "stdout"
        },
        {
          "output_type": "stream",
          "text": [
            "/usr/local/lib/python3.6/dist-packages/torch/optim/lr_scheduler.py:123: UserWarning: Detected call of `lr_scheduler.step()` before `optimizer.step()`. In PyTorch 1.1.0 and later, you should call them in the opposite order: `optimizer.step()` before `lr_scheduler.step()`.  Failure to do this will result in PyTorch skipping the first value of the learning rate schedule. See more details at https://pytorch.org/docs/stable/optim.html#how-to-adjust-learning-rate\n",
            "  \"https://pytorch.org/docs/stable/optim.html#how-to-adjust-learning-rate\", UserWarning)\n",
            "/usr/local/lib/python3.6/dist-packages/ipykernel_launcher.py:215: UserWarning: volatile was removed and now has no effect. Use `with torch.no_grad():` instead.\n"
          ],
          "name": "stderr"
        },
        {
          "output_type": "stream",
          "text": [
            "==> Epoch 00: loss=0.19907, val_loss=0.12166, val_acc=0.8407, time=1640s\n",
            "best val_acc increased to 0.8407\n",
            "==> Epoch 01: loss=0.09121, val_loss=0.07457, val_acc=0.9033, time=121s\n",
            "best val_acc increased to 0.9033\n",
            "==> Epoch 02: loss=0.07747, val_loss=0.06649, val_acc=0.9247, time=123s\n",
            "best val_acc increased to 0.9247\n",
            "==> Epoch 03: loss=0.06923, val_loss=0.06336, val_acc=0.9255, time=125s\n",
            "best val_acc increased to 0.9255\n",
            "==> Epoch 04: loss=0.06400, val_loss=0.06825, val_acc=0.9208, time=126s\n",
            "==> Epoch 05: loss=0.05889, val_loss=0.05747, val_acc=0.9287, time=124s\n",
            "best val_acc increased to 0.9287\n",
            "==> Epoch 06: loss=0.05636, val_loss=0.05484, val_acc=0.9326, time=125s\n",
            "best val_acc increased to 0.9326\n",
            "==> Epoch 07: loss=0.05219, val_loss=0.05481, val_acc=0.9326, time=126s\n",
            "==> Epoch 08: loss=0.04885, val_loss=0.05302, val_acc=0.9366, time=125s\n",
            "best val_acc increased to 0.9366\n",
            "==> Epoch 09: loss=0.04663, val_loss=0.05894, val_acc=0.9311, time=127s\n",
            "Trained model saved to '/content/drive/My Drive/model/covidaid0/trained_model.h5'\n",
            "Total time = 2782s\n",
            "End Training----------------------------------------------------------------------\n"
          ],
          "name": "stdout"
        },
        {
          "output_type": "execute_result",
          "data": {
            "text/plain": [
              "CapsuleNet(\n",
              "  (conv1): Conv2d(3, 256, kernel_size=(16, 16), stride=(3, 3))\n",
              "  (primarycaps): PrimaryCapsule(\n",
              "    (conv2d): Conv2d(256, 256, kernel_size=(16, 16), stride=(3, 3))\n",
              "  )\n",
              "  (secondarycaps): SecondaryCapsule(\n",
              "    (conv2d): Conv2d(256, 256, kernel_size=(1, 1), stride=(1, 1))\n",
              "  )\n",
              "  (digitcaps): DenseCapsule()\n",
              "  (decoder): Sequential(\n",
              "    (0): Linear(in_features=48, out_features=512, bias=True)\n",
              "    (1): ReLU(inplace=True)\n",
              "    (2): Linear(in_features=512, out_features=150528, bias=True)\n",
              "    (3): Sigmoid()\n",
              "  )\n",
              "  (relu): ReLU()\n",
              ")"
            ]
          },
          "metadata": {
            "tags": []
          },
          "execution_count": 54
        }
      ]
    },
    {
      "cell_type": "code",
      "metadata": {
        "id": "VgGU_sLbly-Q",
        "colab_type": "code",
        "colab": {
          "base_uri": "https://localhost:8080/",
          "height": 51
        },
        "outputId": "cab8e7f1-45da-4944-b4b8-49b3c98055cb"
      },
      "source": [
        "test_loss, test_acc = test(model=model, test_loader=test_loader, args=args)\n",
        "print('test acc = %.4f, test loss = %.5f' % (test_acc, test_loss))"
      ],
      "execution_count": 55,
      "outputs": [
        {
          "output_type": "stream",
          "text": [
            "/usr/local/lib/python3.6/dist-packages/ipykernel_launcher.py:215: UserWarning: volatile was removed and now has no effect. Use `with torch.no_grad():` instead.\n"
          ],
          "name": "stderr"
        },
        {
          "output_type": "stream",
          "text": [
            "test acc = 0.9105, test loss = 0.06624\n"
          ],
          "name": "stdout"
        }
      ]
    },
    {
      "cell_type": "code",
      "metadata": {
        "id": "6dht6d6PKDQ0",
        "colab_type": "code",
        "colab": {
          "base_uri": "https://localhost:8080/",
          "height": 51
        },
        "outputId": "1a26626f-fdba-4054-cff1-4fbb492af873"
      },
      "source": [
        "model.load_state_dict(torch.load(args.save_dir + '/epoch8.pkl'))\n",
        "test_loss, test_acc = test(model=model, test_loader=test_loader, args=args)\n",
        "print('test acc = %.4f, test loss = %.5f' % (test_acc, test_loss))"
      ],
      "execution_count": 56,
      "outputs": [
        {
          "output_type": "stream",
          "text": [
            "/usr/local/lib/python3.6/dist-packages/ipykernel_launcher.py:215: UserWarning: volatile was removed and now has no effect. Use `with torch.no_grad():` instead.\n"
          ],
          "name": "stderr"
        },
        {
          "output_type": "stream",
          "text": [
            "test acc = 0.9231, test loss = 0.06001\n"
          ],
          "name": "stdout"
        }
      ]
    },
    {
      "cell_type": "code",
      "metadata": {
        "id": "TbmuPooOAy6F",
        "colab_type": "code",
        "colab": {
          "base_uri": "https://localhost:8080/",
          "height": 337
        },
        "outputId": "ea168471-2c89-40be-b279-fc1e98bbf5ed"
      },
      "source": [
        "show_reconstruction(model, test_loader, 6, args)"
      ],
      "execution_count": 57,
      "outputs": [
        {
          "output_type": "stream",
          "text": [
            "/usr/local/lib/python3.6/dist-packages/ipykernel_launcher.py:195: UserWarning: volatile was removed and now has no effect. Use `with torch.no_grad():` instead.\n"
          ],
          "name": "stderr"
        },
        {
          "output_type": "stream",
          "text": [
            "\n",
            "Reconstructed images are saved to /content/drive/My Drive/model/covidaid0/real_and_recon.png\n",
            "----------------------------------------------------------------------\n"
          ],
          "name": "stdout"
        },
        {
          "output_type": "display_data",
          "data": {
            "image/png": "[encoded data removed]",
            "text/plain": [
              "<Figure size 432x288 with 1 Axes>"
            ]
          },
          "metadata": {
            "tags": [],
            "needs_background": "light"
          }
        }
      ]
    },
    {
      "cell_type": "code",
      "metadata": {
        "id": "HC8-W7olDsFh",
        "colab_type": "code",
        "colab": {}
      },
      "source": [
        "model.pr"
      ],
      "execution_count": 32,
      "outputs": []
    },
    {
      "cell_type": "code",
      "metadata": {
        "id": "Nuz3p38mFtyI",
        "colab_type": "code",
        "colab": {
          "base_uri": "https://localhost:8080/",
          "height": 34
        },
        "outputId": "5814ee34-acc6-438b-e357-f46ab6db1572"
      },
      "source": [
        "y_pred, y_true = conf_matrix(model, test_loader)"
      ],
      "execution_count": 60,
      "outputs": [
        {
          "output_type": "stream",
          "text": [
            "/usr/local/lib/python3.6/dist-packages/ipykernel_launcher.py:234: UserWarning: volatile was removed and now has no effect. Use `with torch.no_grad():` instead.\n"
          ],
          "name": "stderr"
        }
      ]
    },
    {
      "cell_type": "code",
      "metadata": {
        "id": "gsuXMpkxVZqR",
        "colab_type": "code",
        "colab": {}
      },
      "source": [
        "Y_TRUE = np.array([])\n",
        "Y_PRED = np.array([])\n",
        "for tensor in y_true:\n",
        "  Y_TRUE = np.concatenate((Y_TRUE, tensor.cpu().numpy()), axis=0)\n",
        "\n",
        "for tensor in y_pred:\n",
        "  Y_PRED = np.concatenate((Y_PRED, tensor.cpu().numpy()), axis=0)"
      ],
      "execution_count": 78,
      "outputs": []
    },
    {
      "cell_type": "code",
      "metadata": {
        "id": "bg4GE_9oVncA",
        "colab_type": "code",
        "colab": {
          "base_uri": "https://localhost:8080/",
          "height": 68
        },
        "outputId": "7bc9aaf1-c62d-4754-b426-8791371b7d68"
      },
      "source": [
        "confusion_matrix(Y_TRUE, Y_PRED)"
      ],
      "execution_count": 83,
      "outputs": [
        {
          "output_type": "execute_result",
          "data": {
            "text/plain": [
              "array([[273,  38,   6],\n",
              "       [ 28, 823,   3],\n",
              "       [  6,  16,  69]])"
            ]
          },
          "metadata": {
            "tags": []
          },
          "execution_count": 83
        }
      ]
    },
    {
      "cell_type": "code",
      "metadata": {
        "id": "rCYj0kqoWO-2",
        "colab_type": "code",
        "colab": {
          "base_uri": "https://localhost:8080/",
          "height": 52
        },
        "outputId": "33c17c4e-aa5e-45e5-e63e-899de196000b"
      },
      "source": [
        "classification_report(Y_TRUE, Y_PRED)"
      ],
      "execution_count": 85,
      "outputs": [
        {
          "output_type": "execute_result",
          "data": {
            "application/vnd.google.colaboratory.intrinsic+json": {
              "type": "string"
            },
            "text/plain": [
              "'              precision    recall  f1-score   support\\n\\n         0.0       0.89      0.86      0.88       317\\n         1.0       0.94      0.96      0.95       854\\n         2.0       0.88      0.76      0.82        91\\n\\n    accuracy                           0.92      1262\\n   macro avg       0.90      0.86      0.88      1262\\nweighted avg       0.92      0.92      0.92      1262\\n'"
            ]
          },
          "metadata": {
            "tags": []
          },
          "execution_count": 85
        }
      ]
    },
    {
      "cell_type": "code",
      "metadata": {
        "id": "yFK1pqhzXl7N",
        "colab_type": "code",
        "colab": {}
      },
      "source": [
        ""
      ],
      "execution_count": null,
      "outputs": []
    }
  ]
}