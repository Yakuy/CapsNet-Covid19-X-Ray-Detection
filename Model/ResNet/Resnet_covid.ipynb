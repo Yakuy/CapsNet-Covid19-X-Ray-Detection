{
  "nbformat": 4,
  "nbformat_minor": 0,
  "metadata": {
    "colab": {
      "name": "Copy of Resnet_covid.ipynb",
      "provenance": [],
      "collapsed_sections": [],
      "include_colab_link": true
    },
    "kernelspec": {
      "name": "python3",
      "display_name": "Python 3"
    },
    "accelerator": "GPU"
  },
  "cells": [
    {
      "cell_type": "markdown",
      "metadata": {
        "id": "view-in-github",
        "colab_type": "text"
      },
      "source": [
        "<a href=\"https://colab.research.google.com/github/Yakuy/Gemastik13/blob/master/Resnet_covid.ipynb\" target=\"_parent\"><img src=\"https://colab.research.google.com/assets/colab-badge.svg\" alt=\"Open In Colab\"/></a>"
      ]
    },
    {
      "cell_type": "code",
      "metadata": {
        "id": "QVb6R1sR-UKC",
        "colab_type": "code",
        "colab": {
          "base_uri": "https://localhost:8080/",
          "height": 72
        },
        "outputId": "35e4d41b-49b2-425c-da78-5c8c481b08ec"
      },
      "source": [
        "import matplotlib.pyplot as plt\n",
        "import numpy as np\n",
        "#train network\n",
        "import os\n",
        "import datetime\n",
        "import json\n",
        "import glob\n",
        "import torch.backends.cudnn as cudnn\n",
        "import torch\n",
        "from torch import optim\n",
        "from torch.utils.data.distributed import DistributedSampler\n",
        "from torch.utils.data import DataLoader\n",
        "import torchvision.transforms as transforms\n",
        "from sklearn.metrics import roc_auc_score, confusion_matrix, roc_curve, auc, f1_score\n",
        "import seaborn as sn\n",
        "import pandas as pd\n",
        "from scipy import interp\n",
        "from itertools import cycle\n",
        "from tqdm import tqdm\n",
        "#load data\n",
        "from torch.utils.data import Dataset\n",
        "import random\n",
        "from PIL import Image\n",
        "from tqdm import tqdm\n",
        "from sklearn.metrics import roc_auc_score, confusion_matrix, roc_curve, auc, f1_score, classification_report\n",
        "import torch\n",
        "import torch.nn as nn\n",
        "import torch.nn.functional as F\n",
        "from torch.autograd import Variable\n",
        "from torch.optim import Adam, lr_scheduler\n",
        "from torchvision import transforms, datasets, models"
      ],
      "execution_count": null,
      "outputs": [
        {
          "output_type": "stream",
          "text": [
            "/usr/local/lib/python3.6/dist-packages/statsmodels/tools/_testing.py:19: FutureWarning: pandas.util.testing is deprecated. Use the functions in the public API at pandas.testing instead.\n",
            "  import pandas.util.testing as tm\n"
          ],
          "name": "stderr"
        }
      ]
    },
    {
      "cell_type": "code",
      "metadata": {
        "id": "h6um0KPaJrOb",
        "colab_type": "code",
        "colab": {
          "base_uri": "https://localhost:8080/",
          "height": 124
        },
        "outputId": "a3bf7843-fed9-491a-f166-097c4493a737"
      },
      "source": [
        "from google.colab import drive\n",
        "drive.mount('/content/drive')"
      ],
      "execution_count": null,
      "outputs": [
        {
          "output_type": "stream",
          "text": [
            "Go to this URL in a browser: https://accounts.google.com/o/oauth2/auth?client_id=947318989803-6bn6qk8qdgf4n4g3pfee6491hc0brc4i.apps.googleusercontent.com&redirect_uri=urn%3aietf%3awg%3aoauth%3a2.0%3aoob&scope=email%20https%3a%2f%2fwww.googleapis.com%2fauth%2fdocs.test%20https%3a%2f%2fwww.googleapis.com%2fauth%2fdrive%20https%3a%2f%2fwww.googleapis.com%2fauth%2fdrive.photos.readonly%20https%3a%2f%2fwww.googleapis.com%2fauth%2fpeopleapi.readonly&response_type=code\n",
            "\n",
            "Enter your authorization code:\n",
            "4/3wEaq-5CTTSnGZnyezBhBeLa6Y70FdZCdqD1M6bWZioiL5-U9WvlA6g\n",
            "Mounted at /content/drive\n"
          ],
          "name": "stdout"
        }
      ]
    },
    {
      "cell_type": "code",
      "metadata": {
        "id": "uT_vNa_G_0jQ",
        "colab_type": "code",
        "colab": {}
      },
      "source": [
        "#buat load data\n",
        "class ChestXrayDataSetTest(Dataset):\n",
        "    def __init__(self, image_list_file, transform=None, combine_pneumonia=False):\n",
        "        \"\"\"\n",
        "        Create the Data Loader.\n",
        "        Since class 3 (Covid) has limited data, dataset size will be accordingly at train time.\n",
        "        Code is written in generic form to assume last class as the rare class\n",
        "\n",
        "        Args:\n",
        "            image_list_file: path to the file containing images\n",
        "                with corresponding labels.\n",
        "            transform: optional transform to be applied on a sample.\n",
        "            combine_pneumonia: True for combining Baterial and Viral Pneumonias into one class\n",
        "        \"\"\"\n",
        "        self.NUM_CLASSES = 3 if combine_pneumonia else 4\n",
        "        # Set of images for each class\n",
        "        image_names = []\n",
        "\n",
        "        with open(image_list_file, \"r\") as f:\n",
        "            for line in f:\n",
        "                items = line.split()\n",
        "                image_name = items[0]+' '+items[1]\n",
        "                label = int(items[2])\n",
        "                image_names.append((image_name, label))\n",
        "\n",
        "        self.image_names = image_names\n",
        "        self.transform = transform\n",
        "\n",
        "    def __getitem__(self, index):\n",
        "        \"\"\"\n",
        "        Args:\n",
        "            index: the index of item\n",
        "\n",
        "        Returns:\n",
        "            image and its labels\n",
        "        \"\"\"\n",
        "        def __one_hot_encode(l):\n",
        "            v = [0] * self.NUM_CLASSES\n",
        "            v[l] = 1\n",
        "            return v\n",
        "\n",
        "        image_name, label = self.image_names[index]\n",
        "        #label = __one_hot_encode(label)\n",
        "        #print(label)\n",
        "        image = Image.open(image_name).convert('RGB')\n",
        "        \n",
        "        if self.transform is not None:\n",
        "            image = self.transform(image)\n",
        "        return image, label\n",
        "\n",
        "    def __len__(self):\n",
        "        return len(self.image_names)\n",
        "\n",
        "\n",
        "class ChestXrayDataSet(Dataset):\n",
        "    def __init__(self, image_list_file, transform=None, combine_pneumonia=False):\n",
        "        \"\"\"\n",
        "        Create the Data Loader.\n",
        "        Since class 3 (Covid) has limited data, dataset size will be accordingly at train time.\n",
        "        Code is written in generic form to assume last class as the rare class\n",
        "\n",
        "        Args:\n",
        "            image_list_file: path to the file containing images\n",
        "                with corresponding labels.\n",
        "            transform: optional transform to be applied on a sample.\n",
        "            combine_pneumonia: True for combining Baterial and Viral Pneumonias into one class\n",
        "        \"\"\"\n",
        "        self.NUM_CLASSES = 3 if combine_pneumonia else 4\n",
        "        \n",
        "        # Set of images for each class\n",
        "        image_names = [[] for _ in range(self.NUM_CLASSES)]\n",
        "\n",
        "        with open(image_list_file, \"r\") as f:\n",
        "            for line in f:\n",
        "                items = line.split()\n",
        "                image_name = items[0]+ ' ' + items[1]\n",
        "                label = int(items[2])\n",
        "                image_names[label].append(image_name)\n",
        "        #print(image_list_file)\n",
        "        #print(image_names)\n",
        "\n",
        "        self.image_names = image_names\n",
        "        self.transform = transform\n",
        "        label_dist = [len(cnames) for cnames in image_names]\n",
        "\n",
        "        # Number of images of each class desired\n",
        "        self.num_covid = int(label_dist[-1])\n",
        "        if combine_pneumonia:\n",
        "            covid_factor = 7.0\n",
        "            self.num_normal = int(self.num_covid * covid_factor)\n",
        "            self.num_pneumonia = int(self.num_covid * covid_factor)\n",
        "            self.total = self.num_covid + self.num_pneumonia + self.num_normal\n",
        "            self.loss_weight_minus = torch.FloatTensor([self.num_normal, self.num_pneumonia, self.num_covid]).unsqueeze(0).cuda() / self.total\n",
        "            self.loss_weight_plus = 1.0 - self.loss_weight_minus\n",
        "        else:\n",
        "            covid_factor = 5.0\n",
        "            self.num_normal = int(self.num_covid * covid_factor)\n",
        "            self.num_viral = int(self.num_covid * covid_factor)\n",
        "            self.num_bact = int(self.num_covid * covid_factor)\n",
        "            self.total = self.num_covid + self.num_viral + self.num_bact + self.num_normal\n",
        "            self.loss_weight_minus = torch.FloatTensor([self.num_normal, self.num_bact, self.num_viral, self.num_covid]).unsqueeze(0).cuda() / self.total\n",
        "            self.loss_weight_plus = 1.0 - self.loss_weight_minus\n",
        "\n",
        "        # print (self.loss_weight_plus, self.loss_weight_minus)\n",
        "\n",
        "        if combine_pneumonia:\n",
        "            self.partitions = [self.num_covid,\n",
        "                                self.num_covid + self.num_normal,\n",
        "                                self.num_covid + self.num_normal + self.num_pneumonia]\n",
        "        else:\n",
        "            self.partitions = [self.num_covid,\n",
        "                                self.num_covid + self.num_normal,\n",
        "                                self.num_covid + self.num_normal + self.num_bact,\n",
        "                                self.num_covid + self.num_normal + self.num_bact + self.num_viral]\n",
        "\n",
        "        assert len(self.partitions) == self.NUM_CLASSES\n",
        "\n",
        "    def __getitem__(self, index):\n",
        "        \"\"\"\n",
        "        Args:\n",
        "            index: the index of item\n",
        "\n",
        "        Returns:\n",
        "            image and its labels\n",
        "        \"\"\"\n",
        "\n",
        "        def __one_hot_encode(l):\n",
        "            v = [0] * self.NUM_CLASSES\n",
        "            v[l] = 1\n",
        "            return v\n",
        "\n",
        "        image_name = None\n",
        "        # print (index, self.partitions, len(self), sum([len(cnames) for cnames in self.image_names]))\n",
        "        if index < self.partitions[0]:\n",
        "            # Return a covid image\n",
        "            data_idx = index\n",
        "            image_name = self.image_names[self.NUM_CLASSES - 1][data_idx]\n",
        "            #print(self.NUM_CLASSES - 1)\n",
        "            label = self.NUM_CLASSES - 1\n",
        "        else:\n",
        "            # Return non-covid image\n",
        "            for l in range(1, self.NUM_CLASSES):\n",
        "                if index < self.partitions[l]:\n",
        "                    class_idx = l - 1\n",
        "                    #print(class_idx)\n",
        "                    label = class_idx\n",
        "                    # Return a random image\n",
        "                    image_name = random.choice(self.image_names[class_idx])\n",
        "                    break\n",
        "        assert image_name is not None\n",
        "        image = Image.open(image_name).convert('RGB')\n",
        "        if self.transform is not None:\n",
        "            image = self.transform(image)\n",
        "        return image, label\n",
        "\n",
        "    def __len__(self):\n",
        "        return self.partitions[-1]\n",
        "\n",
        "    def loss(self, output, target):\n",
        "        \"\"\"\n",
        "        Binary weighted cross-entropy loss for each class\n",
        "        \"\"\"\n",
        "        weight_plus = torch.autograd.Variable(self.loss_weight_plus.repeat(1, target.size(0)).view(-1, self.loss_weight_plus.size(1)).cuda())\n",
        "        weight_neg = torch.autograd.Variable(self.loss_weight_minus.repeat(1, target.size(0)).view(-1, self.loss_weight_minus.size(1)).cuda())\n",
        "\n",
        "        loss = output\n",
        "        pmask = (target >= 0.5).data\n",
        "        nmask = (target < 0.5).data\n",
        "        \n",
        "        epsilon = 1e-15\n",
        "        loss[pmask] = (loss[pmask] + epsilon).log() * weight_plus[pmask]\n",
        "        loss[nmask] = (1-loss[nmask] + epsilon).log() * weight_plus[nmask]\n",
        "        loss = -loss.sum()\n",
        "        return loss"
      ],
      "execution_count": null,
      "outputs": []
    },
    {
      "cell_type": "code",
      "metadata": {
        "id": "bUyd-Ljq_Ith",
        "colab_type": "code",
        "colab": {}
      },
      "source": [
        "def load_covid_dataset(TEST_IMAGE_LIST, TRAIN_IMAGE_LIST, VAL_IMAGE_LIST, batch_size=64, combine_pneumonia=True):\n",
        "    normalize = transforms.Normalize([0.485, 0.456, 0.406], [0.229, 0.224, 0.225])\n",
        "    \n",
        "    train_loader  = torch.utils.data.DataLoader(ChestXrayDataSet(image_list_file=TRAIN_IMAGE_LIST,\n",
        "                                        transform=transforms.Compose([transforms.Resize([224,224]), transforms.ToTensor()]),\n",
        "                                        combine_pneumonia=True), batch_size=batch_size, shuffle=True)\n",
        "    \n",
        "    test_loader   = torch.utils.data.DataLoader(ChestXrayDataSetTest(image_list_file=TEST_IMAGE_LIST,\n",
        "                                        transform=transforms.Compose([transforms.Resize([224,224]), transforms.ToTensor()]),\n",
        "                                        combine_pneumonia=True), batch_size=batch_size, shuffle=True)\n",
        "    val_loader = torch.utils.data.DataLoader(ChestXrayDataSetTest(image_list_file=VAL_IMAGE_LIST,\n",
        "                                        transform=transforms.Compose([transforms.Resize([224,224]), transforms.ToTensor()]),\n",
        "                                        combine_pneumonia=True), batch_size=batch_size, shuffle=True)\n",
        "    return train_loader, test_loader, val_loader"
      ],
      "execution_count": null,
      "outputs": []
    },
    {
      "cell_type": "code",
      "metadata": {
        "id": "qyRrMmaH_sda",
        "colab_type": "code",
        "colab": {}
      },
      "source": [
        "TRAIN_IMAGE_LIST = '/content/drive/My Drive/CovidAID/data/strat_train.txt'\n",
        "VAL_IMAGE_LIST = '/content/drive/My Drive/CovidAID/data/strat_val.txt'\n",
        "TEST_IMAGE_LIST = '/content/drive/My Drive/CovidAID/data/strat_test.txt'\n",
        "TEST_DIR = '/content/drive/My Drive/CovidAID/data/samples'"
      ],
      "execution_count": null,
      "outputs": []
    },
    {
      "cell_type": "code",
      "metadata": {
        "id": "Gm09Pljj_564",
        "colab_type": "code",
        "colab": {}
      },
      "source": [
        "trainloader, testloader, valloader = load_covid_dataset(TEST_IMAGE_LIST, TRAIN_IMAGE_LIST, VAL_IMAGE_LIST)"
      ],
      "execution_count": null,
      "outputs": []
    },
    {
      "cell_type": "code",
      "metadata": {
        "id": "DQOdu94WAmRB",
        "colab_type": "code",
        "colab": {}
      },
      "source": [
        "device = torch.device(\"cuda\" if torch.cuda.is_available() else \"cpu\")\n",
        "model = models.resnet18(pretrained=False)\n",
        "num_ftrs = model.fc.in_features"
      ],
      "execution_count": null,
      "outputs": []
    },
    {
      "cell_type": "code",
      "metadata": {
        "id": "7kGZGehVApkr",
        "colab_type": "code",
        "colab": {
          "base_uri": "https://localhost:8080/",
          "height": 1000
        },
        "outputId": "4ea4c0f4-e5ac-40db-dcd4-e00f2bec307d"
      },
      "source": [
        "for param in model.parameters():\n",
        "    param.requires_grad = False\n",
        "    \n",
        "model.fc = nn.Sequential(nn.Linear(num_ftrs, 512),\n",
        "                                 nn.ReLU(),\n",
        "                                 nn.Dropout(0.2),\n",
        "                                 nn.Linear(512, 3),\n",
        "                                 nn.LogSoftmax(dim=0))\n",
        "criterion = nn.NLLLoss()\n",
        "optimizer = optim.Adam(model.fc.parameters(), lr=0.003)\n",
        "model.to(device)"
      ],
      "execution_count": null,
      "outputs": [
        {
          "output_type": "execute_result",
          "data": {
            "text/plain": [
              "ResNet(\n",
              "  (conv1): Conv2d(3, 64, kernel_size=(7, 7), stride=(2, 2), padding=(3, 3), bias=False)\n",
              "  (bn1): BatchNorm2d(64, eps=1e-05, momentum=0.1, affine=True, track_running_stats=True)\n",
              "  (relu): ReLU(inplace=True)\n",
              "  (maxpool): MaxPool2d(kernel_size=3, stride=2, padding=1, dilation=1, ceil_mode=False)\n",
              "  (layer1): Sequential(\n",
              "    (0): BasicBlock(\n",
              "      (conv1): Conv2d(64, 64, kernel_size=(3, 3), stride=(1, 1), padding=(1, 1), bias=False)\n",
              "      (bn1): BatchNorm2d(64, eps=1e-05, momentum=0.1, affine=True, track_running_stats=True)\n",
              "      (relu): ReLU(inplace=True)\n",
              "      (conv2): Conv2d(64, 64, kernel_size=(3, 3), stride=(1, 1), padding=(1, 1), bias=False)\n",
              "      (bn2): BatchNorm2d(64, eps=1e-05, momentum=0.1, affine=True, track_running_stats=True)\n",
              "    )\n",
              "    (1): BasicBlock(\n",
              "      (conv1): Conv2d(64, 64, kernel_size=(3, 3), stride=(1, 1), padding=(1, 1), bias=False)\n",
              "      (bn1): BatchNorm2d(64, eps=1e-05, momentum=0.1, affine=True, track_running_stats=True)\n",
              "      (relu): ReLU(inplace=True)\n",
              "      (conv2): Conv2d(64, 64, kernel_size=(3, 3), stride=(1, 1), padding=(1, 1), bias=False)\n",
              "      (bn2): BatchNorm2d(64, eps=1e-05, momentum=0.1, affine=True, track_running_stats=True)\n",
              "    )\n",
              "  )\n",
              "  (layer2): Sequential(\n",
              "    (0): BasicBlock(\n",
              "      (conv1): Conv2d(64, 128, kernel_size=(3, 3), stride=(2, 2), padding=(1, 1), bias=False)\n",
              "      (bn1): BatchNorm2d(128, eps=1e-05, momentum=0.1, affine=True, track_running_stats=True)\n",
              "      (relu): ReLU(inplace=True)\n",
              "      (conv2): Conv2d(128, 128, kernel_size=(3, 3), stride=(1, 1), padding=(1, 1), bias=False)\n",
              "      (bn2): BatchNorm2d(128, eps=1e-05, momentum=0.1, affine=True, track_running_stats=True)\n",
              "      (downsample): Sequential(\n",
              "        (0): Conv2d(64, 128, kernel_size=(1, 1), stride=(2, 2), bias=False)\n",
              "        (1): BatchNorm2d(128, eps=1e-05, momentum=0.1, affine=True, track_running_stats=True)\n",
              "      )\n",
              "    )\n",
              "    (1): BasicBlock(\n",
              "      (conv1): Conv2d(128, 128, kernel_size=(3, 3), stride=(1, 1), padding=(1, 1), bias=False)\n",
              "      (bn1): BatchNorm2d(128, eps=1e-05, momentum=0.1, affine=True, track_running_stats=True)\n",
              "      (relu): ReLU(inplace=True)\n",
              "      (conv2): Conv2d(128, 128, kernel_size=(3, 3), stride=(1, 1), padding=(1, 1), bias=False)\n",
              "      (bn2): BatchNorm2d(128, eps=1e-05, momentum=0.1, affine=True, track_running_stats=True)\n",
              "    )\n",
              "  )\n",
              "  (layer3): Sequential(\n",
              "    (0): BasicBlock(\n",
              "      (conv1): Conv2d(128, 256, kernel_size=(3, 3), stride=(2, 2), padding=(1, 1), bias=False)\n",
              "      (bn1): BatchNorm2d(256, eps=1e-05, momentum=0.1, affine=True, track_running_stats=True)\n",
              "      (relu): ReLU(inplace=True)\n",
              "      (conv2): Conv2d(256, 256, kernel_size=(3, 3), stride=(1, 1), padding=(1, 1), bias=False)\n",
              "      (bn2): BatchNorm2d(256, eps=1e-05, momentum=0.1, affine=True, track_running_stats=True)\n",
              "      (downsample): Sequential(\n",
              "        (0): Conv2d(128, 256, kernel_size=(1, 1), stride=(2, 2), bias=False)\n",
              "        (1): BatchNorm2d(256, eps=1e-05, momentum=0.1, affine=True, track_running_stats=True)\n",
              "      )\n",
              "    )\n",
              "    (1): BasicBlock(\n",
              "      (conv1): Conv2d(256, 256, kernel_size=(3, 3), stride=(1, 1), padding=(1, 1), bias=False)\n",
              "      (bn1): BatchNorm2d(256, eps=1e-05, momentum=0.1, affine=True, track_running_stats=True)\n",
              "      (relu): ReLU(inplace=True)\n",
              "      (conv2): Conv2d(256, 256, kernel_size=(3, 3), stride=(1, 1), padding=(1, 1), bias=False)\n",
              "      (bn2): BatchNorm2d(256, eps=1e-05, momentum=0.1, affine=True, track_running_stats=True)\n",
              "    )\n",
              "  )\n",
              "  (layer4): Sequential(\n",
              "    (0): BasicBlock(\n",
              "      (conv1): Conv2d(256, 512, kernel_size=(3, 3), stride=(2, 2), padding=(1, 1), bias=False)\n",
              "      (bn1): BatchNorm2d(512, eps=1e-05, momentum=0.1, affine=True, track_running_stats=True)\n",
              "      (relu): ReLU(inplace=True)\n",
              "      (conv2): Conv2d(512, 512, kernel_size=(3, 3), stride=(1, 1), padding=(1, 1), bias=False)\n",
              "      (bn2): BatchNorm2d(512, eps=1e-05, momentum=0.1, affine=True, track_running_stats=True)\n",
              "      (downsample): Sequential(\n",
              "        (0): Conv2d(256, 512, kernel_size=(1, 1), stride=(2, 2), bias=False)\n",
              "        (1): BatchNorm2d(512, eps=1e-05, momentum=0.1, affine=True, track_running_stats=True)\n",
              "      )\n",
              "    )\n",
              "    (1): BasicBlock(\n",
              "      (conv1): Conv2d(512, 512, kernel_size=(3, 3), stride=(1, 1), padding=(1, 1), bias=False)\n",
              "      (bn1): BatchNorm2d(512, eps=1e-05, momentum=0.1, affine=True, track_running_stats=True)\n",
              "      (relu): ReLU(inplace=True)\n",
              "      (conv2): Conv2d(512, 512, kernel_size=(3, 3), stride=(1, 1), padding=(1, 1), bias=False)\n",
              "      (bn2): BatchNorm2d(512, eps=1e-05, momentum=0.1, affine=True, track_running_stats=True)\n",
              "    )\n",
              "  )\n",
              "  (avgpool): AdaptiveAvgPool2d(output_size=(1, 1))\n",
              "  (fc): Sequential(\n",
              "    (0): Linear(in_features=512, out_features=512, bias=True)\n",
              "    (1): ReLU()\n",
              "    (2): Dropout(p=0.2, inplace=False)\n",
              "    (3): Linear(in_features=512, out_features=3, bias=True)\n",
              "    (4): LogSoftmax(dim=0)\n",
              "  )\n",
              ")"
            ]
          },
          "metadata": {
            "tags": []
          },
          "execution_count": 8
        }
      ]
    },
    {
      "cell_type": "code",
      "metadata": {
        "id": "qfOYwPYArZvi",
        "colab_type": "code",
        "colab": {}
      },
      "source": [
        "def test(model, test_loader):\n",
        "    test_loss = 0\n",
        "    accuracy = 0\n",
        "    model.eval()\n",
        "    with torch.no_grad():\n",
        "        for inputs, labels in valloader:\n",
        "            inputs, labels = inputs.to(device), labels.to(device)\n",
        "            logps = model.forward(inputs)\n",
        "            batch_loss = criterion(logps, labels)\n",
        "            test_loss += batch_loss.item()\n",
        "                    \n",
        "            ps = torch.exp(logps)\n",
        "            top_p, top_class = ps.topk(1, dim=1)\n",
        "            equals = top_class == labels.view(*top_class.shape)\n",
        "            accuracy += torch.mean(equals.type(torch.FloatTensor)).item()\n",
        "\n",
        "    return test_loss, accuracy\n",
        "\n",
        "def plot_loss(train_losses, test_losses):\n",
        "    plt.figure(figsize=(20,10))\n",
        "    plt.plot(train_losses, label='Training loss')\n",
        "    plt.plot(test_losses, label='Validation loss')\n",
        "    plt.legend(frameon=False)\n",
        "    plt.show()"
      ],
      "execution_count": null,
      "outputs": []
    },
    {
      "cell_type": "code",
      "metadata": {
        "id": "VDIeXZLyA8kT",
        "colab_type": "code",
        "colab": {}
      },
      "source": [
        "save_loc = '/content/drive/My Drive/Deep Learning/Gemastik13/Experimental/Models/'\n",
        "def train(epochs, model, trainloader, valloader, log_file='log_resnet.csv'):\n",
        "    print(\"Preparing.....\")\n",
        "    import csv\n",
        "    from time import time\n",
        "    epochs = epochs\n",
        "    train_losses, test_losses = [], []\n",
        "    logfile = open(save_loc + log_file, \"w\")\n",
        "    logwriter = csv.DictWriter(logfile, fieldnames=['epoch', 'loss', 'val_loss', 'val_acc'])\n",
        "    logwriter.writeheader()\n",
        "    print(\"Begin training......\")\n",
        "    for epoch in range(epochs):\n",
        "        start = time()\n",
        "        epoch_now = epoch + 1\n",
        "        for i, (inputs, labels) in enumerate(trainloader):\n",
        "            running_loss = 0\n",
        "            inputs, labels = inputs.to(device), labels.to(device)\n",
        "            optimizer.zero_grad()\n",
        "            logps = model.forward(inputs)\n",
        "            loss = criterion(logps, labels)\n",
        "            loss.backward()\n",
        "            optimizer.step()\n",
        "            running_loss += loss.item()\n",
        "\n",
        "        # test the mdoel    \n",
        "        test_loss, accuracy = test(model, valloader)\n",
        "\n",
        "        # important variable\n",
        "        w_train_loss = round(running_loss/len(trainloader), 3)\n",
        "        w_test_loss = round(test_loss/len(valloader), 3)\n",
        "        w_test_accuracy = round(accuracy/len(valloader), 3)\n",
        "\n",
        "        # write everything\n",
        "        train_losses.append(w_train_loss)\n",
        "        test_losses.append(w_test_loss)\n",
        "        logwriter.writerow(dict(epoch=epoch_now, loss=w_train_loss,\n",
        "                                val_loss=w_test_loss, val_acc=w_test_accuracy))\n",
        "        print(f\"Epoch {epoch_now}/{epochs}.. \"\n",
        "              f\"Train loss: {w_train_loss}.. \"\n",
        "              f\"Test loss: {w_test_loss}.. \"\n",
        "              f\"Test accuracy: {w_test_accuracy}.. \"\n",
        "              f\"Time: {time() - start}\")\n",
        "        model.train()\n",
        "\n",
        "    logfile.close()\n",
        "    plot_loss(train_losses, test_losses)"
      ],
      "execution_count": null,
      "outputs": []
    },
    {
      "cell_type": "code",
      "metadata": {
        "id": "_mr0DVRbGbYW",
        "colab_type": "code",
        "colab": {
          "base_uri": "https://localhost:8080/",
          "height": 1000
        },
        "outputId": "39b58e13-59e1-4c48-9cc6-2ecbc0292b9e"
      },
      "source": [
        "train(50, model, trainloader, valloader)"
      ],
      "execution_count": null,
      "outputs": [
        {
          "output_type": "stream",
          "text": [
            "Preparing.....\n",
            "Begin training......\n",
            "Epoch 1/50.. Train loss: 0.053.. Test loss: 3.895.. Test accuracy: 0.626.. Time: 138.88840532302856\n",
            "Epoch 2/50.. Train loss: 0.054.. Test loss: 3.856.. Test accuracy: 0.752.. Time: 137.22241854667664\n",
            "Epoch 3/50.. Train loss: 0.052.. Test loss: 3.795.. Test accuracy: 0.789.. Time: 136.6043028831482\n",
            "Epoch 4/50.. Train loss: 0.054.. Test loss: 3.789.. Test accuracy: 0.733.. Time: 136.417551279068\n",
            "Epoch 5/50.. Train loss: 0.053.. Test loss: 3.73.. Test accuracy: 0.814.. Time: 135.4450957775116\n",
            "Epoch 6/50.. Train loss: 0.053.. Test loss: 3.773.. Test accuracy: 0.784.. Time: 135.74752068519592\n",
            "Epoch 7/50.. Train loss: 0.055.. Test loss: 3.773.. Test accuracy: 0.762.. Time: 134.98543572425842\n",
            "Epoch 8/50.. Train loss: 0.052.. Test loss: 3.728.. Test accuracy: 0.784.. Time: 135.82768869400024\n",
            "Epoch 9/50.. Train loss: 0.053.. Test loss: 3.742.. Test accuracy: 0.792.. Time: 137.0458061695099\n",
            "Epoch 10/50.. Train loss: 0.052.. Test loss: 3.727.. Test accuracy: 0.774.. Time: 136.00255751609802\n",
            "Epoch 11/50.. Train loss: 0.053.. Test loss: 3.729.. Test accuracy: 0.819.. Time: 135.04381918907166\n",
            "Epoch 12/50.. Train loss: 0.056.. Test loss: 3.763.. Test accuracy: 0.77.. Time: 134.85467290878296\n",
            "Epoch 13/50.. Train loss: 0.052.. Test loss: 3.729.. Test accuracy: 0.792.. Time: 134.39572048187256\n",
            "Epoch 14/50.. Train loss: 0.055.. Test loss: 3.712.. Test accuracy: 0.812.. Time: 133.87034225463867\n",
            "Epoch 15/50.. Train loss: 0.054.. Test loss: 3.718.. Test accuracy: 0.821.. Time: 134.52101159095764\n",
            "Epoch 16/50.. Train loss: 0.052.. Test loss: 3.721.. Test accuracy: 0.807.. Time: 133.9850878715515\n",
            "Epoch 17/50.. Train loss: 0.053.. Test loss: 3.709.. Test accuracy: 0.844.. Time: 133.07768368721008\n",
            "Epoch 18/50.. Train loss: 0.053.. Test loss: 3.747.. Test accuracy: 0.818.. Time: 130.99879360198975\n",
            "Epoch 19/50.. Train loss: 0.059.. Test loss: 3.803.. Test accuracy: 0.759.. Time: 131.19835209846497\n",
            "Epoch 20/50.. Train loss: 0.055.. Test loss: 3.7.. Test accuracy: 0.801.. Time: 132.96642446517944\n",
            "Epoch 21/50.. Train loss: 0.058.. Test loss: 3.711.. Test accuracy: 0.858.. Time: 133.1744101047516\n",
            "Epoch 22/50.. Train loss: 0.051.. Test loss: 3.712.. Test accuracy: 0.813.. Time: 133.11635899543762\n",
            "Epoch 23/50.. Train loss: 0.053.. Test loss: 3.697.. Test accuracy: 0.827.. Time: 133.75699949264526\n",
            "Epoch 24/50.. Train loss: 0.052.. Test loss: 3.732.. Test accuracy: 0.802.. Time: 134.8679654598236\n",
            "Epoch 25/50.. Train loss: 0.051.. Test loss: 3.697.. Test accuracy: 0.862.. Time: 132.89093399047852\n",
            "Epoch 26/50.. Train loss: 0.054.. Test loss: 3.696.. Test accuracy: 0.826.. Time: 133.7391459941864\n",
            "Epoch 27/50.. Train loss: 0.054.. Test loss: 3.716.. Test accuracy: 0.785.. Time: 137.87046241760254\n",
            "Epoch 28/50.. Train loss: 0.052.. Test loss: 3.698.. Test accuracy: 0.812.. Time: 133.10161900520325\n",
            "Epoch 29/50.. Train loss: 0.053.. Test loss: 3.718.. Test accuracy: 0.821.. Time: 133.17516779899597\n",
            "Epoch 30/50.. Train loss: 0.055.. Test loss: 3.699.. Test accuracy: 0.805.. Time: 131.142249584198\n",
            "Epoch 31/50.. Train loss: 0.054.. Test loss: 3.71.. Test accuracy: 0.803.. Time: 130.6356236934662\n",
            "Epoch 32/50.. Train loss: 0.051.. Test loss: 3.736.. Test accuracy: 0.787.. Time: 129.8689842224121\n",
            "Epoch 33/50.. Train loss: 0.053.. Test loss: 3.758.. Test accuracy: 0.799.. Time: 132.6536202430725\n",
            "Epoch 34/50.. Train loss: 0.055.. Test loss: 3.722.. Test accuracy: 0.83.. Time: 131.2648675441742\n",
            "Epoch 35/50.. Train loss: 0.054.. Test loss: 3.697.. Test accuracy: 0.841.. Time: 132.02181792259216\n",
            "Epoch 36/50.. Train loss: 0.054.. Test loss: 3.709.. Test accuracy: 0.826.. Time: 132.70528268814087\n",
            "Epoch 37/50.. Train loss: 0.055.. Test loss: 3.718.. Test accuracy: 0.836.. Time: 136.14649200439453\n",
            "Epoch 38/50.. Train loss: 0.052.. Test loss: 3.74.. Test accuracy: 0.77.. Time: 135.70608162879944\n",
            "Epoch 39/50.. Train loss: 0.052.. Test loss: 3.72.. Test accuracy: 0.803.. Time: 137.8937873840332\n",
            "Epoch 40/50.. Train loss: 0.052.. Test loss: 3.699.. Test accuracy: 0.866.. Time: 139.56395983695984\n",
            "Epoch 41/50.. Train loss: 0.051.. Test loss: 3.697.. Test accuracy: 0.827.. Time: 137.88317441940308\n",
            "Epoch 42/50.. Train loss: 0.052.. Test loss: 3.708.. Test accuracy: 0.842.. Time: 140.28423762321472\n",
            "Epoch 43/50.. Train loss: 0.053.. Test loss: 3.699.. Test accuracy: 0.825.. Time: 142.15429210662842\n",
            "Epoch 44/50.. Train loss: 0.054.. Test loss: 3.727.. Test accuracy: 0.834.. Time: 142.05992245674133\n",
            "Epoch 45/50.. Train loss: 0.053.. Test loss: 3.705.. Test accuracy: 0.839.. Time: 140.58394718170166\n",
            "Epoch 46/50.. Train loss: 0.052.. Test loss: 3.683.. Test accuracy: 0.85.. Time: 144.3674099445343\n",
            "Epoch 47/50.. Train loss: 0.053.. Test loss: 3.68.. Test accuracy: 0.856.. Time: 142.58289575576782\n",
            "Epoch 48/50.. Train loss: 0.052.. Test loss: 3.732.. Test accuracy: 0.776.. Time: 139.4227454662323\n",
            "Epoch 49/50.. Train loss: 0.057.. Test loss: 3.724.. Test accuracy: 0.839.. Time: 142.57429456710815\n",
            "Epoch 50/50.. Train loss: 0.054.. Test loss: 3.699.. Test accuracy: 0.825.. Time: 141.70640754699707\n"
          ],
          "name": "stdout"
        },
        {
          "output_type": "display_data",
          "data": {
            "image/png": "[encoded data removed]",
            "text/plain": [
              "<Figure size 1440x720 with 1 Axes>"
            ]
          },
          "metadata": {
            "tags": [],
            "needs_background": "light"
          }
        }
      ]
    },
    {
      "cell_type": "code",
      "metadata": {
        "id": "CJcIVl56rA_a",
        "colab_type": "code",
        "colab": {}
      },
      "source": [
        "# plt.figure(figsize=(20,10))\n",
        "# plt.plot(train_losses, label='Training loss')\n",
        "# plt.plot(test_losses, label='Validation loss')\n",
        "# plt.legend(frameon=False)\n",
        "# plt.show()"
      ],
      "execution_count": null,
      "outputs": []
    },
    {
      "cell_type": "code",
      "metadata": {
        "id": "DwpqGmgQwaSK",
        "colab_type": "code",
        "colab": {}
      },
      "source": [
        "torch.save(model.state_dict(), save_loc + \"RestNet_covid.pkl\")"
      ],
      "execution_count": null,
      "outputs": []
    },
    {
      "cell_type": "code",
      "metadata": {
        "id": "DbVK2s9ISUnL",
        "colab_type": "code",
        "colab": {
          "base_uri": "https://localhost:8080/",
          "height": 204
        },
        "outputId": "3f0a8cd9-d158-4732-f947-aa8f8bb393f3"
      },
      "source": [
        "log_resnet = pd.read_csv(save_loc + 'log_resnet.csv')\n",
        "log_resnet.head()"
      ],
      "execution_count": null,
      "outputs": [
        {
          "output_type": "execute_result",
          "data": {
            "text/html": [
              "<div>\n",
              "<style scoped>\n",
              "    .dataframe tbody tr th:only-of-type {\n",
              "        vertical-align: middle;\n",
              "    }\n",
              "\n",
              "    .dataframe tbody tr th {\n",
              "        vertical-align: top;\n",
              "    }\n",
              "\n",
              "    .dataframe thead th {\n",
              "        text-align: right;\n",
              "    }\n",
              "</style>\n",
              "<table border=\"1\" class=\"dataframe\">\n",
              "  <thead>\n",
              "    <tr style=\"text-align: right;\">\n",
              "      <th></th>\n",
              "      <th>epoch</th>\n",
              "      <th>loss</th>\n",
              "      <th>val_loss</th>\n",
              "      <th>val_acc</th>\n",
              "    </tr>\n",
              "  </thead>\n",
              "  <tbody>\n",
              "    <tr>\n",
              "      <th>0</th>\n",
              "      <td>1</td>\n",
              "      <td>0.053</td>\n",
              "      <td>3.895</td>\n",
              "      <td>0.626</td>\n",
              "    </tr>\n",
              "    <tr>\n",
              "      <th>1</th>\n",
              "      <td>2</td>\n",
              "      <td>0.054</td>\n",
              "      <td>3.856</td>\n",
              "      <td>0.752</td>\n",
              "    </tr>\n",
              "    <tr>\n",
              "      <th>2</th>\n",
              "      <td>3</td>\n",
              "      <td>0.052</td>\n",
              "      <td>3.795</td>\n",
              "      <td>0.789</td>\n",
              "    </tr>\n",
              "    <tr>\n",
              "      <th>3</th>\n",
              "      <td>4</td>\n",
              "      <td>0.054</td>\n",
              "      <td>3.789</td>\n",
              "      <td>0.733</td>\n",
              "    </tr>\n",
              "    <tr>\n",
              "      <th>4</th>\n",
              "      <td>5</td>\n",
              "      <td>0.053</td>\n",
              "      <td>3.730</td>\n",
              "      <td>0.814</td>\n",
              "    </tr>\n",
              "  </tbody>\n",
              "</table>\n",
              "</div>"
            ],
            "text/plain": [
              "   epoch   loss  val_loss  val_acc\n",
              "0      1  0.053     3.895    0.626\n",
              "1      2  0.054     3.856    0.752\n",
              "2      3  0.052     3.795    0.789\n",
              "3      4  0.054     3.789    0.733\n",
              "4      5  0.053     3.730    0.814"
            ]
          },
          "metadata": {
            "tags": []
          },
          "execution_count": 50
        }
      ]
    },
    {
      "cell_type": "code",
      "metadata": {
        "id": "UFNzcmcTS4hn",
        "colab_type": "code",
        "colab": {
          "base_uri": "https://localhost:8080/",
          "height": 623
        },
        "outputId": "9badd0e5-13e2-41cb-89e1-955b78c65941"
      },
      "source": [
        "plt.figure(figsize=(20,10))\n",
        "sn.set_style(\"whitegrid\")\n",
        "sn.lineplot(x = 'epoch', y = 'loss', data = log_resnet)\n",
        "sn.lineplot(x = 'epoch', y = 'val_loss', data = log_resnet)\n",
        "plt.legend(labels=['train_loss', 'val_loss'])"
      ],
      "execution_count": null,
      "outputs": [
        {
          "output_type": "execute_result",
          "data": {
            "text/plain": [
              "<matplotlib.legend.Legend at 0x7f8e71ad5940>"
            ]
          },
          "metadata": {
            "tags": []
          },
          "execution_count": 56
        },
        {
          "output_type": "display_data",
          "data": {
            "image/png": "[encoded data removed]",
            "text/plain": [
              "<Figure size 1440x720 with 1 Axes>"
            ]
          },
          "metadata": {
            "tags": []
          }
        }
      ]
    },
    {
      "cell_type": "code",
      "metadata": {
        "id": "xK7WST4PTYY0",
        "colab_type": "code",
        "colab": {
          "base_uri": "https://localhost:8080/",
          "height": 623
        },
        "outputId": "6e2743d8-3834-4095-f4c0-18e49d3f0844"
      },
      "source": [
        "plt.figure(figsize=(20,10))\n",
        "sn.lineplot(x = 'epoch', y = 'val_acc', data=log_resnet)"
      ],
      "execution_count": null,
      "outputs": [
        {
          "output_type": "execute_result",
          "data": {
            "text/plain": [
              "<matplotlib.axes._subplots.AxesSubplot at 0x7f8e07750be0>"
            ]
          },
          "metadata": {
            "tags": []
          },
          "execution_count": 58
        },
        {
          "output_type": "display_data",
          "data": {
            "image/png": "[encoded data removed]",
            "text/plain": [
              "<Figure size 1440x720 with 1 Axes>"
            ]
          },
          "metadata": {
            "tags": []
          }
        }
      ]
    },
    {
      "cell_type": "code",
      "metadata": {
        "id": "NHO-0PC3Vx-g",
        "colab_type": "code",
        "colab": {
          "base_uri": "https://localhost:8080/",
          "height": 35
        },
        "outputId": "6df83cf1-93ca-456c-d896-1f07271628da"
      },
      "source": [
        "model.load_state_dict(torch.load(\"/content/drive/My Drive/CovidAID/experimental/save_dir/RestNet_covid.pkl\"))"
      ],
      "execution_count": null,
      "outputs": [
        {
          "output_type": "execute_result",
          "data": {
            "text/plain": [
              "<All keys matched successfully>"
            ]
          },
          "metadata": {
            "tags": []
          },
          "execution_count": 10
        }
      ]
    },
    {
      "cell_type": "code",
      "metadata": {
        "id": "MpGSKvwNrNQt",
        "colab_type": "code",
        "colab": {
          "base_uri": "https://localhost:8080/",
          "height": 72
        },
        "outputId": "597ffae4-33e4-448c-8205-d6db3387693d"
      },
      "source": [
        "model.eval()\n",
        "test_loss = 0\n",
        "Y_pred = []\n",
        "Y_true = []\n",
        "for x, y in testloader:\n",
        "    y = torch.zeros(y.size(0), 3).scatter_(1, y.view(-1, 1), 1)\n",
        "    x, y = Variable(x.cuda(), volatile=True), Variable(y.cuda())\n",
        "    y_pred = model(x)\n",
        "    y_pred = y_pred.data.max(1)[1]\n",
        "    y_true = y.data.max(1)[1]\n",
        "    Y_pred.append(y_pred)\n",
        "    Y_true.append(y_true)\n",
        "Y_TRUE = np.array([])\n",
        "Y_PRED = np.array([])\n",
        "for tensor in Y_true:\n",
        "  Y_TRUE = np.concatenate((Y_TRUE, tensor.cpu().numpy()), axis=0)\n",
        "\n",
        "for tensor in Y_pred:\n",
        "  Y_PRED = np.concatenate((Y_PRED, tensor.cpu().numpy()), axis=0)"
      ],
      "execution_count": null,
      "outputs": [
        {
          "output_type": "stream",
          "text": [
            "/usr/local/lib/python3.6/dist-packages/ipykernel_launcher.py:7: UserWarning: volatile was removed and now has no effect. Use `with torch.no_grad():` instead.\n",
            "  import sys\n"
          ],
          "name": "stderr"
        }
      ]
    },
    {
      "cell_type": "code",
      "metadata": {
        "id": "F2fY_V-Kq6vk",
        "colab_type": "code",
        "colab": {}
      },
      "source": [
        "cm = confusion_matrix(Y_TRUE, Y_PRED)\n",
        "cl = classification_report(Y_TRUE, Y_PRED)"
      ],
      "execution_count": null,
      "outputs": []
    },
    {
      "cell_type": "code",
      "metadata": {
        "id": "ElrDfuP4rBjq",
        "colab_type": "code",
        "colab": {
          "base_uri": "https://localhost:8080/",
          "height": 243
        },
        "outputId": "44dfb8d5-b638-4036-e771-677cf827532c"
      },
      "source": [
        "print(cm)\n",
        "print(cl)"
      ],
      "execution_count": null,
      "outputs": [
        {
          "output_type": "stream",
          "text": [
            "[[307   6   4]\n",
            " [161 663  30]\n",
            " [  9   0  82]]\n",
            "              precision    recall  f1-score   support\n",
            "\n",
            "         0.0       0.64      0.97      0.77       317\n",
            "         1.0       0.99      0.78      0.87       854\n",
            "         2.0       0.71      0.90      0.79        91\n",
            "\n",
            "    accuracy                           0.83      1262\n",
            "   macro avg       0.78      0.88      0.81      1262\n",
            "weighted avg       0.88      0.83      0.84      1262\n",
            "\n"
          ],
          "name": "stdout"
        }
      ]
    },
    {
      "cell_type": "code",
      "metadata": {
        "id": "A6iSZHoLtrHo",
        "colab_type": "code",
        "colab": {}
      },
      "source": [
        ""
      ],
      "execution_count": null,
      "outputs": []
    }
  ]
}