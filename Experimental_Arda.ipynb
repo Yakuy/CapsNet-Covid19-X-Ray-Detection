{
  "nbformat": 4,
  "nbformat_minor": 0,
  "metadata": {
    "colab": {
      "name": "Experimental_Arda.ipynb",
      "provenance": [],
      "collapsed_sections": [
        "31mKvrx1I8wh",
        "qYRzTB-6Iyfl",
        "8sBdGyQFIGaU"
      ]
    },
    "kernelspec": {
      "name": "python3",
      "display_name": "Python 3"
    },
    "accelerator": "GPU",
    "widgets": {
      "application/vnd.jupyter.widget-state+json": {
        "9ca2eea919544eadbc1cf43be4a3a3ea": {
          "model_module": "@jupyter-widgets/controls",
          "model_name": "HBoxModel",
          "state": {
            "_view_name": "HBoxView",
            "_dom_classes": [],
            "_model_name": "HBoxModel",
            "_view_module": "@jupyter-widgets/controls",
            "_model_module_version": "1.5.0",
            "_view_count": null,
            "_view_module_version": "1.5.0",
            "box_style": "",
            "layout": "IPY_MODEL_a4fe596e74ba48498c904b5491de2f93",
            "_model_module": "@jupyter-widgets/controls",
            "children": [
              "IPY_MODEL_4fce3aa3cab54121a38c7014c0801f86",
              "IPY_MODEL_39a02b9cffda4d1aa4f7b19ffbad704f"
            ]
          }
        },
        "a4fe596e74ba48498c904b5491de2f93": {
          "model_module": "@jupyter-widgets/base",
          "model_name": "LayoutModel",
          "state": {
            "_view_name": "LayoutView",
            "grid_template_rows": null,
            "right": null,
            "justify_content": null,
            "_view_module": "@jupyter-widgets/base",
            "overflow": null,
            "_model_module_version": "1.2.0",
            "_view_count": null,
            "flex_flow": null,
            "width": null,
            "min_width": null,
            "border": null,
            "align_items": null,
            "bottom": null,
            "_model_module": "@jupyter-widgets/base",
            "top": null,
            "grid_column": null,
            "overflow_y": null,
            "overflow_x": null,
            "grid_auto_flow": null,
            "grid_area": null,
            "grid_template_columns": null,
            "flex": null,
            "_model_name": "LayoutModel",
            "justify_items": null,
            "grid_row": null,
            "max_height": null,
            "align_content": null,
            "visibility": null,
            "align_self": null,
            "height": null,
            "min_height": null,
            "padding": null,
            "grid_auto_rows": null,
            "grid_gap": null,
            "max_width": null,
            "order": null,
            "_view_module_version": "1.2.0",
            "grid_template_areas": null,
            "object_position": null,
            "object_fit": null,
            "grid_auto_columns": null,
            "margin": null,
            "display": null,
            "left": null
          }
        },
        "4fce3aa3cab54121a38c7014c0801f86": {
          "model_module": "@jupyter-widgets/controls",
          "model_name": "FloatProgressModel",
          "state": {
            "_view_name": "ProgressView",
            "style": "IPY_MODEL_f6bc21e462b44fb5a6d423a744952fd4",
            "_dom_classes": [],
            "description": "",
            "_model_name": "FloatProgressModel",
            "bar_style": "success",
            "max": 1,
            "_view_module": "@jupyter-widgets/controls",
            "_model_module_version": "1.5.0",
            "value": 1,
            "_view_count": null,
            "_view_module_version": "1.5.0",
            "orientation": "horizontal",
            "min": 0,
            "description_tooltip": null,
            "_model_module": "@jupyter-widgets/controls",
            "layout": "IPY_MODEL_af8262f66a9b40c2af48e3d45dfd38f2"
          }
        },
        "39a02b9cffda4d1aa4f7b19ffbad704f": {
          "model_module": "@jupyter-widgets/controls",
          "model_name": "HTMLModel",
          "state": {
            "_view_name": "HTMLView",
            "style": "IPY_MODEL_28fb0905d9544f049d0f7e7dfa67ca96",
            "_dom_classes": [],
            "description": "",
            "_model_name": "HTMLModel",
            "placeholder": "​",
            "_view_module": "@jupyter-widgets/controls",
            "_model_module_version": "1.5.0",
            "value": " 9920512/? [08:29&lt;00:00, 19469.21it/s]",
            "_view_count": null,
            "_view_module_version": "1.5.0",
            "description_tooltip": null,
            "_model_module": "@jupyter-widgets/controls",
            "layout": "IPY_MODEL_5cd8c37a9cdd4486b6e38a71807f936e"
          }
        },
        "f6bc21e462b44fb5a6d423a744952fd4": {
          "model_module": "@jupyter-widgets/controls",
          "model_name": "ProgressStyleModel",
          "state": {
            "_view_name": "StyleView",
            "_model_name": "ProgressStyleModel",
            "description_width": "initial",
            "_view_module": "@jupyter-widgets/base",
            "_model_module_version": "1.5.0",
            "_view_count": null,
            "_view_module_version": "1.2.0",
            "bar_color": null,
            "_model_module": "@jupyter-widgets/controls"
          }
        },
        "af8262f66a9b40c2af48e3d45dfd38f2": {
          "model_module": "@jupyter-widgets/base",
          "model_name": "LayoutModel",
          "state": {
            "_view_name": "LayoutView",
            "grid_template_rows": null,
            "right": null,
            "justify_content": null,
            "_view_module": "@jupyter-widgets/base",
            "overflow": null,
            "_model_module_version": "1.2.0",
            "_view_count": null,
            "flex_flow": null,
            "width": null,
            "min_width": null,
            "border": null,
            "align_items": null,
            "bottom": null,
            "_model_module": "@jupyter-widgets/base",
            "top": null,
            "grid_column": null,
            "overflow_y": null,
            "overflow_x": null,
            "grid_auto_flow": null,
            "grid_area": null,
            "grid_template_columns": null,
            "flex": null,
            "_model_name": "LayoutModel",
            "justify_items": null,
            "grid_row": null,
            "max_height": null,
            "align_content": null,
            "visibility": null,
            "align_self": null,
            "height": null,
            "min_height": null,
            "padding": null,
            "grid_auto_rows": null,
            "grid_gap": null,
            "max_width": null,
            "order": null,
            "_view_module_version": "1.2.0",
            "grid_template_areas": null,
            "object_position": null,
            "object_fit": null,
            "grid_auto_columns": null,
            "margin": null,
            "display": null,
            "left": null
          }
        },
        "28fb0905d9544f049d0f7e7dfa67ca96": {
          "model_module": "@jupyter-widgets/controls",
          "model_name": "DescriptionStyleModel",
          "state": {
            "_view_name": "StyleView",
            "_model_name": "DescriptionStyleModel",
            "description_width": "",
            "_view_module": "@jupyter-widgets/base",
            "_model_module_version": "1.5.0",
            "_view_count": null,
            "_view_module_version": "1.2.0",
            "_model_module": "@jupyter-widgets/controls"
          }
        },
        "5cd8c37a9cdd4486b6e38a71807f936e": {
          "model_module": "@jupyter-widgets/base",
          "model_name": "LayoutModel",
          "state": {
            "_view_name": "LayoutView",
            "grid_template_rows": null,
            "right": null,
            "justify_content": null,
            "_view_module": "@jupyter-widgets/base",
            "overflow": null,
            "_model_module_version": "1.2.0",
            "_view_count": null,
            "flex_flow": null,
            "width": null,
            "min_width": null,
            "border": null,
            "align_items": null,
            "bottom": null,
            "_model_module": "@jupyter-widgets/base",
            "top": null,
            "grid_column": null,
            "overflow_y": null,
            "overflow_x": null,
            "grid_auto_flow": null,
            "grid_area": null,
            "grid_template_columns": null,
            "flex": null,
            "_model_name": "LayoutModel",
            "justify_items": null,
            "grid_row": null,
            "max_height": null,
            "align_content": null,
            "visibility": null,
            "align_self": null,
            "height": null,
            "min_height": null,
            "padding": null,
            "grid_auto_rows": null,
            "grid_gap": null,
            "max_width": null,
            "order": null,
            "_view_module_version": "1.2.0",
            "grid_template_areas": null,
            "object_position": null,
            "object_fit": null,
            "grid_auto_columns": null,
            "margin": null,
            "display": null,
            "left": null
          }
        },
        "8664c582c2d84300a2314b76c68e7eaf": {
          "model_module": "@jupyter-widgets/controls",
          "model_name": "HBoxModel",
          "state": {
            "_view_name": "HBoxView",
            "_dom_classes": [],
            "_model_name": "HBoxModel",
            "_view_module": "@jupyter-widgets/controls",
            "_model_module_version": "1.5.0",
            "_view_count": null,
            "_view_module_version": "1.5.0",
            "box_style": "",
            "layout": "IPY_MODEL_7d656bd0620e49f08edc4565ea20e4d6",
            "_model_module": "@jupyter-widgets/controls",
            "children": [
              "IPY_MODEL_6f1d4125ab6d41c9b8539ff83996ff15",
              "IPY_MODEL_0dec3645916e42f2ad531ae0c5c967ac"
            ]
          }
        },
        "7d656bd0620e49f08edc4565ea20e4d6": {
          "model_module": "@jupyter-widgets/base",
          "model_name": "LayoutModel",
          "state": {
            "_view_name": "LayoutView",
            "grid_template_rows": null,
            "right": null,
            "justify_content": null,
            "_view_module": "@jupyter-widgets/base",
            "overflow": null,
            "_model_module_version": "1.2.0",
            "_view_count": null,
            "flex_flow": null,
            "width": null,
            "min_width": null,
            "border": null,
            "align_items": null,
            "bottom": null,
            "_model_module": "@jupyter-widgets/base",
            "top": null,
            "grid_column": null,
            "overflow_y": null,
            "overflow_x": null,
            "grid_auto_flow": null,
            "grid_area": null,
            "grid_template_columns": null,
            "flex": null,
            "_model_name": "LayoutModel",
            "justify_items": null,
            "grid_row": null,
            "max_height": null,
            "align_content": null,
            "visibility": null,
            "align_self": null,
            "height": null,
            "min_height": null,
            "padding": null,
            "grid_auto_rows": null,
            "grid_gap": null,
            "max_width": null,
            "order": null,
            "_view_module_version": "1.2.0",
            "grid_template_areas": null,
            "object_position": null,
            "object_fit": null,
            "grid_auto_columns": null,
            "margin": null,
            "display": null,
            "left": null
          }
        },
        "6f1d4125ab6d41c9b8539ff83996ff15": {
          "model_module": "@jupyter-widgets/controls",
          "model_name": "FloatProgressModel",
          "state": {
            "_view_name": "ProgressView",
            "style": "IPY_MODEL_11424b12f4914829ae3fc5a618728cf4",
            "_dom_classes": [],
            "description": "",
            "_model_name": "FloatProgressModel",
            "bar_style": "success",
            "max": 1,
            "_view_module": "@jupyter-widgets/controls",
            "_model_module_version": "1.5.0",
            "value": 1,
            "_view_count": null,
            "_view_module_version": "1.5.0",
            "orientation": "horizontal",
            "min": 0,
            "description_tooltip": null,
            "_model_module": "@jupyter-widgets/controls",
            "layout": "IPY_MODEL_2dcb58d94e0d4152babc05d760e50d7f"
          }
        },
        "0dec3645916e42f2ad531ae0c5c967ac": {
          "model_module": "@jupyter-widgets/controls",
          "model_name": "HTMLModel",
          "state": {
            "_view_name": "HTMLView",
            "style": "IPY_MODEL_38ab3944f4694aeba0eefaf281fd73be",
            "_dom_classes": [],
            "description": "",
            "_model_name": "HTMLModel",
            "placeholder": "​",
            "_view_module": "@jupyter-widgets/controls",
            "_model_module_version": "1.5.0",
            "value": " 32768/? [00:02&lt;00:00, 12652.24it/s]",
            "_view_count": null,
            "_view_module_version": "1.5.0",
            "description_tooltip": null,
            "_model_module": "@jupyter-widgets/controls",
            "layout": "IPY_MODEL_e82d0b35186e4823ac54482423e2938a"
          }
        },
        "11424b12f4914829ae3fc5a618728cf4": {
          "model_module": "@jupyter-widgets/controls",
          "model_name": "ProgressStyleModel",
          "state": {
            "_view_name": "StyleView",
            "_model_name": "ProgressStyleModel",
            "description_width": "initial",
            "_view_module": "@jupyter-widgets/base",
            "_model_module_version": "1.5.0",
            "_view_count": null,
            "_view_module_version": "1.2.0",
            "bar_color": null,
            "_model_module": "@jupyter-widgets/controls"
          }
        },
        "2dcb58d94e0d4152babc05d760e50d7f": {
          "model_module": "@jupyter-widgets/base",
          "model_name": "LayoutModel",
          "state": {
            "_view_name": "LayoutView",
            "grid_template_rows": null,
            "right": null,
            "justify_content": null,
            "_view_module": "@jupyter-widgets/base",
            "overflow": null,
            "_model_module_version": "1.2.0",
            "_view_count": null,
            "flex_flow": null,
            "width": null,
            "min_width": null,
            "border": null,
            "align_items": null,
            "bottom": null,
            "_model_module": "@jupyter-widgets/base",
            "top": null,
            "grid_column": null,
            "overflow_y": null,
            "overflow_x": null,
            "grid_auto_flow": null,
            "grid_area": null,
            "grid_template_columns": null,
            "flex": null,
            "_model_name": "LayoutModel",
            "justify_items": null,
            "grid_row": null,
            "max_height": null,
            "align_content": null,
            "visibility": null,
            "align_self": null,
            "height": null,
            "min_height": null,
            "padding": null,
            "grid_auto_rows": null,
            "grid_gap": null,
            "max_width": null,
            "order": null,
            "_view_module_version": "1.2.0",
            "grid_template_areas": null,
            "object_position": null,
            "object_fit": null,
            "grid_auto_columns": null,
            "margin": null,
            "display": null,
            "left": null
          }
        },
        "38ab3944f4694aeba0eefaf281fd73be": {
          "model_module": "@jupyter-widgets/controls",
          "model_name": "DescriptionStyleModel",
          "state": {
            "_view_name": "StyleView",
            "_model_name": "DescriptionStyleModel",
            "description_width": "",
            "_view_module": "@jupyter-widgets/base",
            "_model_module_version": "1.5.0",
            "_view_count": null,
            "_view_module_version": "1.2.0",
            "_model_module": "@jupyter-widgets/controls"
          }
        },
        "e82d0b35186e4823ac54482423e2938a": {
          "model_module": "@jupyter-widgets/base",
          "model_name": "LayoutModel",
          "state": {
            "_view_name": "LayoutView",
            "grid_template_rows": null,
            "right": null,
            "justify_content": null,
            "_view_module": "@jupyter-widgets/base",
            "overflow": null,
            "_model_module_version": "1.2.0",
            "_view_count": null,
            "flex_flow": null,
            "width": null,
            "min_width": null,
            "border": null,
            "align_items": null,
            "bottom": null,
            "_model_module": "@jupyter-widgets/base",
            "top": null,
            "grid_column": null,
            "overflow_y": null,
            "overflow_x": null,
            "grid_auto_flow": null,
            "grid_area": null,
            "grid_template_columns": null,
            "flex": null,
            "_model_name": "LayoutModel",
            "justify_items": null,
            "grid_row": null,
            "max_height": null,
            "align_content": null,
            "visibility": null,
            "align_self": null,
            "height": null,
            "min_height": null,
            "padding": null,
            "grid_auto_rows": null,
            "grid_gap": null,
            "max_width": null,
            "order": null,
            "_view_module_version": "1.2.0",
            "grid_template_areas": null,
            "object_position": null,
            "object_fit": null,
            "grid_auto_columns": null,
            "margin": null,
            "display": null,
            "left": null
          }
        },
        "6bda99733ea24ee1a7bf251e565df8e9": {
          "model_module": "@jupyter-widgets/controls",
          "model_name": "HBoxModel",
          "state": {
            "_view_name": "HBoxView",
            "_dom_classes": [],
            "_model_name": "HBoxModel",
            "_view_module": "@jupyter-widgets/controls",
            "_model_module_version": "1.5.0",
            "_view_count": null,
            "_view_module_version": "1.5.0",
            "box_style": "",
            "layout": "IPY_MODEL_a6b5df3df3f246c7825adfc910deac98",
            "_model_module": "@jupyter-widgets/controls",
            "children": [
              "IPY_MODEL_c1846e9edbce4ae081d5dd2c8e0f657e",
              "IPY_MODEL_0097266ab36343c48c045e164a4f0626"
            ]
          }
        },
        "a6b5df3df3f246c7825adfc910deac98": {
          "model_module": "@jupyter-widgets/base",
          "model_name": "LayoutModel",
          "state": {
            "_view_name": "LayoutView",
            "grid_template_rows": null,
            "right": null,
            "justify_content": null,
            "_view_module": "@jupyter-widgets/base",
            "overflow": null,
            "_model_module_version": "1.2.0",
            "_view_count": null,
            "flex_flow": null,
            "width": null,
            "min_width": null,
            "border": null,
            "align_items": null,
            "bottom": null,
            "_model_module": "@jupyter-widgets/base",
            "top": null,
            "grid_column": null,
            "overflow_y": null,
            "overflow_x": null,
            "grid_auto_flow": null,
            "grid_area": null,
            "grid_template_columns": null,
            "flex": null,
            "_model_name": "LayoutModel",
            "justify_items": null,
            "grid_row": null,
            "max_height": null,
            "align_content": null,
            "visibility": null,
            "align_self": null,
            "height": null,
            "min_height": null,
            "padding": null,
            "grid_auto_rows": null,
            "grid_gap": null,
            "max_width": null,
            "order": null,
            "_view_module_version": "1.2.0",
            "grid_template_areas": null,
            "object_position": null,
            "object_fit": null,
            "grid_auto_columns": null,
            "margin": null,
            "display": null,
            "left": null
          }
        },
        "c1846e9edbce4ae081d5dd2c8e0f657e": {
          "model_module": "@jupyter-widgets/controls",
          "model_name": "FloatProgressModel",
          "state": {
            "_view_name": "ProgressView",
            "style": "IPY_MODEL_4be637805a30405d8056ddafb8e70b30",
            "_dom_classes": [],
            "description": "",
            "_model_name": "FloatProgressModel",
            "bar_style": "success",
            "max": 1,
            "_view_module": "@jupyter-widgets/controls",
            "_model_module_version": "1.5.0",
            "value": 1,
            "_view_count": null,
            "_view_module_version": "1.5.0",
            "orientation": "horizontal",
            "min": 0,
            "description_tooltip": null,
            "_model_module": "@jupyter-widgets/controls",
            "layout": "IPY_MODEL_381a5785222a49b9911ecee8b5aa043a"
          }
        },
        "0097266ab36343c48c045e164a4f0626": {
          "model_module": "@jupyter-widgets/controls",
          "model_name": "HTMLModel",
          "state": {
            "_view_name": "HTMLView",
            "style": "IPY_MODEL_e137b7363b07439d9adcba06b02f79e0",
            "_dom_classes": [],
            "description": "",
            "_model_name": "HTMLModel",
            "placeholder": "​",
            "_view_module": "@jupyter-widgets/controls",
            "_model_module_version": "1.5.0",
            "value": " 1654784/? [00:01&lt;00:00, 889493.74it/s]",
            "_view_count": null,
            "_view_module_version": "1.5.0",
            "description_tooltip": null,
            "_model_module": "@jupyter-widgets/controls",
            "layout": "IPY_MODEL_05e32edecb48404caafe419fe378066a"
          }
        },
        "4be637805a30405d8056ddafb8e70b30": {
          "model_module": "@jupyter-widgets/controls",
          "model_name": "ProgressStyleModel",
          "state": {
            "_view_name": "StyleView",
            "_model_name": "ProgressStyleModel",
            "description_width": "initial",
            "_view_module": "@jupyter-widgets/base",
            "_model_module_version": "1.5.0",
            "_view_count": null,
            "_view_module_version": "1.2.0",
            "bar_color": null,
            "_model_module": "@jupyter-widgets/controls"
          }
        },
        "381a5785222a49b9911ecee8b5aa043a": {
          "model_module": "@jupyter-widgets/base",
          "model_name": "LayoutModel",
          "state": {
            "_view_name": "LayoutView",
            "grid_template_rows": null,
            "right": null,
            "justify_content": null,
            "_view_module": "@jupyter-widgets/base",
            "overflow": null,
            "_model_module_version": "1.2.0",
            "_view_count": null,
            "flex_flow": null,
            "width": null,
            "min_width": null,
            "border": null,
            "align_items": null,
            "bottom": null,
            "_model_module": "@jupyter-widgets/base",
            "top": null,
            "grid_column": null,
            "overflow_y": null,
            "overflow_x": null,
            "grid_auto_flow": null,
            "grid_area": null,
            "grid_template_columns": null,
            "flex": null,
            "_model_name": "LayoutModel",
            "justify_items": null,
            "grid_row": null,
            "max_height": null,
            "align_content": null,
            "visibility": null,
            "align_self": null,
            "height": null,
            "min_height": null,
            "padding": null,
            "grid_auto_rows": null,
            "grid_gap": null,
            "max_width": null,
            "order": null,
            "_view_module_version": "1.2.0",
            "grid_template_areas": null,
            "object_position": null,
            "object_fit": null,
            "grid_auto_columns": null,
            "margin": null,
            "display": null,
            "left": null
          }
        },
        "e137b7363b07439d9adcba06b02f79e0": {
          "model_module": "@jupyter-widgets/controls",
          "model_name": "DescriptionStyleModel",
          "state": {
            "_view_name": "StyleView",
            "_model_name": "DescriptionStyleModel",
            "description_width": "",
            "_view_module": "@jupyter-widgets/base",
            "_model_module_version": "1.5.0",
            "_view_count": null,
            "_view_module_version": "1.2.0",
            "_model_module": "@jupyter-widgets/controls"
          }
        },
        "05e32edecb48404caafe419fe378066a": {
          "model_module": "@jupyter-widgets/base",
          "model_name": "LayoutModel",
          "state": {
            "_view_name": "LayoutView",
            "grid_template_rows": null,
            "right": null,
            "justify_content": null,
            "_view_module": "@jupyter-widgets/base",
            "overflow": null,
            "_model_module_version": "1.2.0",
            "_view_count": null,
            "flex_flow": null,
            "width": null,
            "min_width": null,
            "border": null,
            "align_items": null,
            "bottom": null,
            "_model_module": "@jupyter-widgets/base",
            "top": null,
            "grid_column": null,
            "overflow_y": null,
            "overflow_x": null,
            "grid_auto_flow": null,
            "grid_area": null,
            "grid_template_columns": null,
            "flex": null,
            "_model_name": "LayoutModel",
            "justify_items": null,
            "grid_row": null,
            "max_height": null,
            "align_content": null,
            "visibility": null,
            "align_self": null,
            "height": null,
            "min_height": null,
            "padding": null,
            "grid_auto_rows": null,
            "grid_gap": null,
            "max_width": null,
            "order": null,
            "_view_module_version": "1.2.0",
            "grid_template_areas": null,
            "object_position": null,
            "object_fit": null,
            "grid_auto_columns": null,
            "margin": null,
            "display": null,
            "left": null
          }
        },
        "cb5d7c7573d0463b9886c1453d56c4e0": {
          "model_module": "@jupyter-widgets/controls",
          "model_name": "HBoxModel",
          "state": {
            "_view_name": "HBoxView",
            "_dom_classes": [],
            "_model_name": "HBoxModel",
            "_view_module": "@jupyter-widgets/controls",
            "_model_module_version": "1.5.0",
            "_view_count": null,
            "_view_module_version": "1.5.0",
            "box_style": "",
            "layout": "IPY_MODEL_46a45035c6b244f2aacafef0d029d10a",
            "_model_module": "@jupyter-widgets/controls",
            "children": [
              "IPY_MODEL_71dc703320d14a27b4e290e5081e6ca7",
              "IPY_MODEL_fae1f371b9aa491fb5ccf0b5b300e4c5"
            ]
          }
        },
        "46a45035c6b244f2aacafef0d029d10a": {
          "model_module": "@jupyter-widgets/base",
          "model_name": "LayoutModel",
          "state": {
            "_view_name": "LayoutView",
            "grid_template_rows": null,
            "right": null,
            "justify_content": null,
            "_view_module": "@jupyter-widgets/base",
            "overflow": null,
            "_model_module_version": "1.2.0",
            "_view_count": null,
            "flex_flow": null,
            "width": null,
            "min_width": null,
            "border": null,
            "align_items": null,
            "bottom": null,
            "_model_module": "@jupyter-widgets/base",
            "top": null,
            "grid_column": null,
            "overflow_y": null,
            "overflow_x": null,
            "grid_auto_flow": null,
            "grid_area": null,
            "grid_template_columns": null,
            "flex": null,
            "_model_name": "LayoutModel",
            "justify_items": null,
            "grid_row": null,
            "max_height": null,
            "align_content": null,
            "visibility": null,
            "align_self": null,
            "height": null,
            "min_height": null,
            "padding": null,
            "grid_auto_rows": null,
            "grid_gap": null,
            "max_width": null,
            "order": null,
            "_view_module_version": "1.2.0",
            "grid_template_areas": null,
            "object_position": null,
            "object_fit": null,
            "grid_auto_columns": null,
            "margin": null,
            "display": null,
            "left": null
          }
        },
        "71dc703320d14a27b4e290e5081e6ca7": {
          "model_module": "@jupyter-widgets/controls",
          "model_name": "FloatProgressModel",
          "state": {
            "_view_name": "ProgressView",
            "style": "IPY_MODEL_686d1b6eac09440e8a5806396a7c28e6",
            "_dom_classes": [],
            "description": "",
            "_model_name": "FloatProgressModel",
            "bar_style": "success",
            "max": 1,
            "_view_module": "@jupyter-widgets/controls",
            "_model_module_version": "1.5.0",
            "value": 1,
            "_view_count": null,
            "_view_module_version": "1.5.0",
            "orientation": "horizontal",
            "min": 0,
            "description_tooltip": null,
            "_model_module": "@jupyter-widgets/controls",
            "layout": "IPY_MODEL_f22150acf3004ce7b61c3cb9c6d3853f"
          }
        },
        "fae1f371b9aa491fb5ccf0b5b300e4c5": {
          "model_module": "@jupyter-widgets/controls",
          "model_name": "HTMLModel",
          "state": {
            "_view_name": "HTMLView",
            "style": "IPY_MODEL_2265adb1229147e5ba9a41c9e289853a",
            "_dom_classes": [],
            "description": "",
            "_model_name": "HTMLModel",
            "placeholder": "​",
            "_view_module": "@jupyter-widgets/controls",
            "_model_module_version": "1.5.0",
            "value": " 8192/? [08:15&lt;00:00, 16.53it/s]",
            "_view_count": null,
            "_view_module_version": "1.5.0",
            "description_tooltip": null,
            "_model_module": "@jupyter-widgets/controls",
            "layout": "IPY_MODEL_5df89d1687d443478e9ebac57266a250"
          }
        },
        "686d1b6eac09440e8a5806396a7c28e6": {
          "model_module": "@jupyter-widgets/controls",
          "model_name": "ProgressStyleModel",
          "state": {
            "_view_name": "StyleView",
            "_model_name": "ProgressStyleModel",
            "description_width": "initial",
            "_view_module": "@jupyter-widgets/base",
            "_model_module_version": "1.5.0",
            "_view_count": null,
            "_view_module_version": "1.2.0",
            "bar_color": null,
            "_model_module": "@jupyter-widgets/controls"
          }
        },
        "f22150acf3004ce7b61c3cb9c6d3853f": {
          "model_module": "@jupyter-widgets/base",
          "model_name": "LayoutModel",
          "state": {
            "_view_name": "LayoutView",
            "grid_template_rows": null,
            "right": null,
            "justify_content": null,
            "_view_module": "@jupyter-widgets/base",
            "overflow": null,
            "_model_module_version": "1.2.0",
            "_view_count": null,
            "flex_flow": null,
            "width": null,
            "min_width": null,
            "border": null,
            "align_items": null,
            "bottom": null,
            "_model_module": "@jupyter-widgets/base",
            "top": null,
            "grid_column": null,
            "overflow_y": null,
            "overflow_x": null,
            "grid_auto_flow": null,
            "grid_area": null,
            "grid_template_columns": null,
            "flex": null,
            "_model_name": "LayoutModel",
            "justify_items": null,
            "grid_row": null,
            "max_height": null,
            "align_content": null,
            "visibility": null,
            "align_self": null,
            "height": null,
            "min_height": null,
            "padding": null,
            "grid_auto_rows": null,
            "grid_gap": null,
            "max_width": null,
            "order": null,
            "_view_module_version": "1.2.0",
            "grid_template_areas": null,
            "object_position": null,
            "object_fit": null,
            "grid_auto_columns": null,
            "margin": null,
            "display": null,
            "left": null
          }
        },
        "2265adb1229147e5ba9a41c9e289853a": {
          "model_module": "@jupyter-widgets/controls",
          "model_name": "DescriptionStyleModel",
          "state": {
            "_view_name": "StyleView",
            "_model_name": "DescriptionStyleModel",
            "description_width": "",
            "_view_module": "@jupyter-widgets/base",
            "_model_module_version": "1.5.0",
            "_view_count": null,
            "_view_module_version": "1.2.0",
            "_model_module": "@jupyter-widgets/controls"
          }
        },
        "5df89d1687d443478e9ebac57266a250": {
          "model_module": "@jupyter-widgets/base",
          "model_name": "LayoutModel",
          "state": {
            "_view_name": "LayoutView",
            "grid_template_rows": null,
            "right": null,
            "justify_content": null,
            "_view_module": "@jupyter-widgets/base",
            "overflow": null,
            "_model_module_version": "1.2.0",
            "_view_count": null,
            "flex_flow": null,
            "width": null,
            "min_width": null,
            "border": null,
            "align_items": null,
            "bottom": null,
            "_model_module": "@jupyter-widgets/base",
            "top": null,
            "grid_column": null,
            "overflow_y": null,
            "overflow_x": null,
            "grid_auto_flow": null,
            "grid_area": null,
            "grid_template_columns": null,
            "flex": null,
            "_model_name": "LayoutModel",
            "justify_items": null,
            "grid_row": null,
            "max_height": null,
            "align_content": null,
            "visibility": null,
            "align_self": null,
            "height": null,
            "min_height": null,
            "padding": null,
            "grid_auto_rows": null,
            "grid_gap": null,
            "max_width": null,
            "order": null,
            "_view_module_version": "1.2.0",
            "grid_template_areas": null,
            "object_position": null,
            "object_fit": null,
            "grid_auto_columns": null,
            "margin": null,
            "display": null,
            "left": null
          }
        }
      }
    }
  },
  "cells": [
    {
      "cell_type": "markdown",
      "metadata": {
        "id": "31mKvrx1I8wh",
        "colab_type": "text"
      },
      "source": [
        "## Initilization & Lib"
      ]
    },
    {
      "cell_type": "code",
      "metadata": {
        "id": "TxvAY8FxiuhQ",
        "colab_type": "code",
        "colab": {
          "base_uri": "https://localhost:8080/",
          "height": 35
        },
        "outputId": "321cb00b-669b-4d4b-e8df-371b45a84859"
      },
      "source": [
        "from google.colab import drive\n",
        "drive.mount('/content/drive')"
      ],
      "execution_count": 14,
      "outputs": [
        {
          "output_type": "stream",
          "text": [
            "Drive already mounted at /content/drive; to attempt to forcibly remount, call drive.mount(\"/content/drive\", force_remount=True).\n"
          ],
          "name": "stdout"
        }
      ]
    },
    {
      "cell_type": "code",
      "metadata": {
        "id": "HV98smqncCZB",
        "colab_type": "code",
        "colab": {
          "base_uri": "https://localhost:8080/",
          "height": 485
        },
        "outputId": "115f9806-a855-4713-e530-e3ecf8a099b2"
      },
      "source": [
        "from tensorflow.python.client import device_lib\n",
        "device_lib.list_local_devices()"
      ],
      "execution_count": 15,
      "outputs": [
        {
          "output_type": "execute_result",
          "data": {
            "text/plain": [
              "[name: \"/device:CPU:0\"\n",
              " device_type: \"CPU\"\n",
              " memory_limit: 268435456\n",
              " locality {\n",
              " }\n",
              " incarnation: 11530930512742307899, name: \"/device:XLA_CPU:0\"\n",
              " device_type: \"XLA_CPU\"\n",
              " memory_limit: 17179869184\n",
              " locality {\n",
              " }\n",
              " incarnation: 4171440253119521245\n",
              " physical_device_desc: \"device: XLA_CPU device\", name: \"/device:XLA_GPU:0\"\n",
              " device_type: \"XLA_GPU\"\n",
              " memory_limit: 17179869184\n",
              " locality {\n",
              " }\n",
              " incarnation: 9932258327964334716\n",
              " physical_device_desc: \"device: XLA_GPU device\", name: \"/device:GPU:0\"\n",
              " device_type: \"GPU\"\n",
              " memory_limit: 14640891840\n",
              " locality {\n",
              "   bus_id: 1\n",
              "   links {\n",
              "   }\n",
              " }\n",
              " incarnation: 7096123851165721391\n",
              " physical_device_desc: \"device: 0, name: Tesla T4, pci bus id: 0000:00:04.0, compute capability: 7.5\"]"
            ]
          },
          "metadata": {
            "tags": []
          },
          "execution_count": 15
        }
      ]
    },
    {
      "cell_type": "code",
      "metadata": {
        "id": "RoyTcdTHSanQ",
        "colab_type": "code",
        "colab": {}
      },
      "source": [
        "#!pip3 install torch==0.3.1 torchvision==0.2.0"
      ],
      "execution_count": 16,
      "outputs": []
    },
    {
      "cell_type": "code",
      "metadata": {
        "id": "0VHAqaCbiw4m",
        "colab_type": "code",
        "colab": {}
      },
      "source": [
        "#capsnet\n",
        "import matplotlib\n",
        "import matplotlib.pyplot as plt\n",
        "import numpy as np\n",
        "#chexnet\n",
        "import sys\n",
        "import argparse\n",
        "import torch\n",
        "import torch.nn as nn\n",
        "import torchvision\n",
        "from collections import OrderedDict\n",
        "#train network\n",
        "import os\n",
        "import datetime\n",
        "import json\n",
        "import glob\n",
        "import torch.backends.cudnn as cudnn\n",
        "from torch import optim\n",
        "from torch.utils.data.distributed import DistributedSampler\n",
        "from torch.utils.data import DataLoader\n",
        "import torchvision.transforms as transforms\n",
        "from sklearn.metrics import roc_auc_score, confusion_matrix, roc_curve, auc, f1_score\n",
        "import seaborn as sn\n",
        "import pandas as pd\n",
        "from scipy import interp\n",
        "from itertools import cycle\n",
        "from tqdm import tqdm\n",
        "#load data\n",
        "from torch.utils.data import Dataset\n",
        "import random\n",
        "from PIL import Image"
      ],
      "execution_count": 17,
      "outputs": []
    },
    {
      "cell_type": "code",
      "metadata": {
        "id": "leDUsCrRMfwH",
        "colab_type": "code",
        "colab": {}
      },
      "source": [
        "#buat load data\n",
        "class ChestXrayDataSetTest(Dataset):\n",
        "    def __init__(self, image_list_file, transform=None, combine_pneumonia=False):\n",
        "        \"\"\"\n",
        "        Create the Data Loader.\n",
        "        Since class 3 (Covid) has limited data, dataset size will be accordingly at train time.\n",
        "        Code is written in generic form to assume last class as the rare class\n",
        "\n",
        "        Args:\n",
        "            image_list_file: path to the file containing images\n",
        "                with corresponding labels.\n",
        "            transform: optional transform to be applied on a sample.\n",
        "            combine_pneumonia: True for combining Baterial and Viral Pneumonias into one class\n",
        "        \"\"\"\n",
        "        self.NUM_CLASSES = 3 if combine_pneumonia else 4\n",
        "        # Set of images for each class\n",
        "        image_names = []\n",
        "\n",
        "        with open(image_list_file, \"r\") as f:\n",
        "            for line in f:\n",
        "                items = line.split()\n",
        "                image_name = items[0]+' '+items[1]\n",
        "                label = int(items[2])\n",
        "                image_names.append((image_name, label))\n",
        "\n",
        "        self.image_names = image_names\n",
        "        self.transform = transform\n",
        "\n",
        "    def __getitem__(self, index):\n",
        "        \"\"\"\n",
        "        Args:\n",
        "            index: the index of item\n",
        "\n",
        "        Returns:\n",
        "            image and its labels\n",
        "        \"\"\"\n",
        "        def __one_hot_encode(l):\n",
        "            v = [0] * self.NUM_CLASSES\n",
        "            v[l] = 1\n",
        "            return v\n",
        "\n",
        "        image_name, label = self.image_names[index]\n",
        "        #label = __one_hot_encode(label)\n",
        "        #print(label)\n",
        "        image = Image.open(image_name).convert('RGB')\n",
        "        if self.transform is not None:\n",
        "            image = self.transform(image)\n",
        "        return image, label\n",
        "\n",
        "    def __len__(self):\n",
        "        return len(self.image_names)\n",
        "\n",
        "\n",
        "class ChestXrayDataSet(Dataset):\n",
        "    def __init__(self, image_list_file, transform=None, combine_pneumonia=False):\n",
        "        \"\"\"\n",
        "        Create the Data Loader.\n",
        "        Since class 3 (Covid) has limited data, dataset size will be accordingly at train time.\n",
        "        Code is written in generic form to assume last class as the rare class\n",
        "\n",
        "        Args:\n",
        "            image_list_file: path to the file containing images\n",
        "                with corresponding labels.\n",
        "            transform: optional transform to be applied on a sample.\n",
        "            combine_pneumonia: True for combining Baterial and Viral Pneumonias into one class\n",
        "        \"\"\"\n",
        "        self.NUM_CLASSES = 3 if combine_pneumonia else 4\n",
        "        \n",
        "        # Set of images for each class\n",
        "        image_names = [[] for _ in range(self.NUM_CLASSES)]\n",
        "\n",
        "        with open(image_list_file, \"r\") as f:\n",
        "            for line in f:\n",
        "                items = line.split()\n",
        "                image_name = items[0]+ ' ' + items[1]\n",
        "                label = int(items[2])\n",
        "                image_names[label].append(image_name)\n",
        "        #print(image_list_file)\n",
        "        #print(image_names)\n",
        "\n",
        "        self.image_names = image_names\n",
        "        self.transform = transform\n",
        "        label_dist = [len(cnames) for cnames in image_names]\n",
        "\n",
        "        # Number of images of each class desired\n",
        "        self.num_covid = int(label_dist[-1])\n",
        "        if combine_pneumonia:\n",
        "            covid_factor = 7.0\n",
        "            self.num_normal = int(self.num_covid * covid_factor)\n",
        "            self.num_pneumonia = int(self.num_covid * covid_factor)\n",
        "            self.total = self.num_covid + self.num_pneumonia + self.num_normal\n",
        "            self.loss_weight_minus = torch.FloatTensor([self.num_normal, self.num_pneumonia, self.num_covid]).unsqueeze(0).cuda() / self.total\n",
        "            self.loss_weight_plus = 1.0 - self.loss_weight_minus\n",
        "        else:\n",
        "            covid_factor = 5.0\n",
        "            self.num_normal = int(self.num_covid * covid_factor)\n",
        "            self.num_viral = int(self.num_covid * covid_factor)\n",
        "            self.num_bact = int(self.num_covid * covid_factor)\n",
        "            self.total = self.num_covid + self.num_viral + self.num_bact + self.num_normal\n",
        "            self.loss_weight_minus = torch.FloatTensor([self.num_normal, self.num_bact, self.num_viral, self.num_covid]).unsqueeze(0).cuda() / self.total\n",
        "            self.loss_weight_plus = 1.0 - self.loss_weight_minus\n",
        "\n",
        "        # print (self.loss_weight_plus, self.loss_weight_minus)\n",
        "\n",
        "        if combine_pneumonia:\n",
        "            self.partitions = [self.num_covid,\n",
        "                                self.num_covid + self.num_normal,\n",
        "                                self.num_covid + self.num_normal + self.num_pneumonia]\n",
        "        else:\n",
        "            self.partitions = [self.num_covid,\n",
        "                                self.num_covid + self.num_normal,\n",
        "                                self.num_covid + self.num_normal + self.num_bact,\n",
        "                                self.num_covid + self.num_normal + self.num_bact + self.num_viral]\n",
        "\n",
        "        assert len(self.partitions) == self.NUM_CLASSES\n",
        "\n",
        "    def __getitem__(self, index):\n",
        "        \"\"\"\n",
        "        Args:\n",
        "            index: the index of item\n",
        "\n",
        "        Returns:\n",
        "            image and its labels\n",
        "        \"\"\"\n",
        "\n",
        "        def __one_hot_encode(l):\n",
        "            v = [0] * self.NUM_CLASSES\n",
        "            v[l] = 1\n",
        "            return v\n",
        "\n",
        "        image_name = None\n",
        "        # print (index, self.partitions, len(self), sum([len(cnames) for cnames in self.image_names]))\n",
        "        if index < self.partitions[0]:\n",
        "            # Return a covid image\n",
        "            data_idx = index\n",
        "            image_name = self.image_names[self.NUM_CLASSES - 1][data_idx]\n",
        "            #print(self.NUM_CLASSES - 1)\n",
        "            label = self.NUM_CLASSES - 1\n",
        "        else:\n",
        "            # Return non-covid image\n",
        "            for l in range(1, self.NUM_CLASSES):\n",
        "                if index < self.partitions[l]:\n",
        "                    class_idx = l - 1\n",
        "                    #print(class_idx)\n",
        "                    label = class_idx\n",
        "                    # Return a random image\n",
        "                    image_name = random.choice(self.image_names[class_idx])\n",
        "                    break\n",
        "        assert image_name is not None\n",
        "        image = Image.open(image_name).convert('RGB')\n",
        "        if self.transform is not None:\n",
        "            image = self.transform(image)\n",
        "        return image, label\n",
        "\n",
        "    def __len__(self):\n",
        "        return self.partitions[-1]\n",
        "\n",
        "    def loss(self, output, target):\n",
        "        \"\"\"\n",
        "        Binary weighted cross-entropy loss for each class\n",
        "        \"\"\"\n",
        "        weight_plus = torch.autograd.Variable(self.loss_weight_plus.repeat(1, target.size(0)).view(-1, self.loss_weight_plus.size(1)).cuda())\n",
        "        weight_neg = torch.autograd.Variable(self.loss_weight_minus.repeat(1, target.size(0)).view(-1, self.loss_weight_minus.size(1)).cuda())\n",
        "\n",
        "        loss = output\n",
        "        pmask = (target >= 0.5).data\n",
        "        nmask = (target < 0.5).data\n",
        "        \n",
        "        epsilon = 1e-15\n",
        "        loss[pmask] = (loss[pmask] + epsilon).log() * weight_plus[pmask]\n",
        "        loss[nmask] = (1-loss[nmask] + epsilon).log() * weight_plus[nmask]\n",
        "        loss = -loss.sum()\n",
        "        return loss"
      ],
      "execution_count": 18,
      "outputs": []
    },
    {
      "cell_type": "code",
      "metadata": {
        "id": "WnrIXcc08pK9",
        "colab_type": "code",
        "colab": {}
      },
      "source": [
        "TRAIN_IMAGE_LIST = '/content/drive/My Drive/CovidAID/data/new_train.txt'\n",
        "VAL_IMAGE_LIST = '/content/drive/My Drive/CovidAID/data/new_val.txt'\n",
        "TEST_IMAGE_LIST = '/content/drive/My Drive/CovidAID/data/new_test.txt'\n",
        "TEST_DIR = '/content/drive/My Drive/CovidAID/data/samples'\n"
      ],
      "execution_count": 19,
      "outputs": []
    },
    {
      "cell_type": "markdown",
      "metadata": {
        "id": "QvOib2qxeALW",
        "colab_type": "text"
      },
      "source": [
        "## CapsNet PyTorch Implementation\n",
        "Author: Xifeng Guo, E-mail: `guoxifeng1990@163.com`, Github: `https://github.com/XifengGuo/CapsNet-Pytorch`"
      ]
    },
    {
      "cell_type": "markdown",
      "metadata": {
        "id": "r6NXZSSiI3q7",
        "colab_type": "text"
      },
      "source": [
        "#### Capsnet Class"
      ]
    },
    {
      "cell_type": "code",
      "metadata": {
        "id": "z4rw8MIReGad",
        "colab_type": "code",
        "colab": {}
      },
      "source": [
        "import torch\n",
        "import torch.nn as nn\n",
        "import torch.nn.functional as F\n",
        "from torch.autograd import Variable\n",
        "\n",
        "from torch.optim import Adam, lr_scheduler\n",
        "from torchvision import transforms, datasets\n",
        "\n",
        "def squash(inputs, axis=-1):\n",
        "    \"\"\"\n",
        "    The non-linear activation used in Capsule. It drives the length of a large vector to near 1 and small vector to 0\n",
        "    :param inputs: vectors to be squashed\n",
        "    :param axis: the axis to squash\n",
        "    :return: a Tensor with same size as inputs\n",
        "    \"\"\"\n",
        "    norm = torch.norm(inputs, p=2, dim=axis, keepdim=True)\n",
        "    scale = norm**2 / (1 + norm**2) / (norm + 1e-8)\n",
        "    return scale * inputs\n",
        "\n",
        "\n",
        "class DenseCapsule(nn.Module):\n",
        "    \"\"\"\n",
        "    The dense capsule layer. It is similar to Dense (FC) layer. Dense layer has `in_num` inputs, each is a scalar, the\n",
        "    output of the neuron from the former layer, and it has `out_num` output neurons. DenseCapsule just expands the\n",
        "    output of the neuron from scalar to vector. So its input size = [None, in_num_caps, in_dim_caps] and output size = \\\n",
        "    [None, out_num_caps, out_dim_caps]. For Dense Layer, in_dim_caps = out_dim_caps = 1.\n",
        "    :param in_num_caps: number of cpasules inputted to this layer\n",
        "    :param in_dim_caps: dimension of input capsules\n",
        "    :param out_num_caps: number of capsules outputted from this layer\n",
        "    :param out_dim_caps: dimension of output capsules\n",
        "    :param routings: number of iterations for the routing algorithm\n",
        "    \"\"\"\n",
        "    def __init__(self, in_num_caps, in_dim_caps, out_num_caps, out_dim_caps, routings=3):\n",
        "        super(DenseCapsule, self).__init__()\n",
        "        self.in_num_caps = in_num_caps\n",
        "        self.in_dim_caps = in_dim_caps\n",
        "        self.out_num_caps = out_num_caps\n",
        "        self.out_dim_caps = out_dim_caps\n",
        "        self.routings = routings\n",
        "        self.weight = nn.Parameter(0.01 * torch.randn(out_num_caps, in_num_caps, out_dim_caps, in_dim_caps))\n",
        "\n",
        "    def forward(self, x):\n",
        "        # x.size=[batch, in_num_caps, in_dim_caps]\n",
        "        # expanded to    [batch, 1,            in_num_caps, in_dim_caps,  1]\n",
        "        # weight.size   =[       out_num_caps, in_num_caps, out_dim_caps, in_dim_caps]\n",
        "        # torch.matmul: [out_dim_caps, in_dim_caps] x [in_dim_caps, 1] -> [out_dim_caps, 1]\n",
        "        # => x_hat.size =[batch, out_num_caps, in_num_caps, out_dim_caps]\n",
        "        x_hat = torch.squeeze(torch.matmul(self.weight, x[:, None, :, :, None]), dim=-1)\n",
        "\n",
        "        # In forward pass, `x_hat_detached` = `x_hat`;\n",
        "        # In backward, no gradient can flow from `x_hat_detached` back to `x_hat`.\n",
        "        x_hat_detached = x_hat.detach()\n",
        "\n",
        "        # The prior for coupling coefficient, initialized as zeros.\n",
        "        # b.size = [batch, out_num_caps, in_num_caps]\n",
        "        b = Variable(torch.zeros(x.size(0), self.out_num_caps, self.in_num_caps)).cuda()\n",
        "\n",
        "        assert self.routings > 0, 'The \\'routings\\' should be > 0.'\n",
        "        for i in range(self.routings):\n",
        "            # c.size = [batch, out_num_caps, in_num_caps]\n",
        "            c = F.softmax(b, dim=1)\n",
        "\n",
        "            # At last iteration, use `x_hat` to compute `outputs` in order to backpropagate gradient\n",
        "            if i == self.routings - 1:\n",
        "                # c.size expanded to [batch, out_num_caps, in_num_caps, 1           ]\n",
        "                # x_hat.size     =   [batch, out_num_caps, in_num_caps, out_dim_caps]\n",
        "                # => outputs.size=   [batch, out_num_caps, 1,           out_dim_caps]\n",
        "                outputs = squash(torch.sum(c[:, :, :, None] * x_hat, dim=-2, keepdim=True))\n",
        "                # outputs = squash(torch.matmul(c[:, :, None, :], x_hat))  # alternative way\n",
        "            else:  # Otherwise, use `x_hat_detached` to update `b`. No gradients flow on this path.\n",
        "                outputs = squash(torch.sum(c[:, :, :, None] * x_hat_detached, dim=-2, keepdim=True))\n",
        "                # outputs = squash(torch.matmul(c[:, :, None, :], x_hat_detached))  # alternative way\n",
        "\n",
        "                # outputs.size       =[batch, out_num_caps, 1,           out_dim_caps]\n",
        "                # x_hat_detached.size=[batch, out_num_caps, in_num_caps, out_dim_caps]\n",
        "                # => b.size          =[batch, out_num_caps, in_num_caps]\n",
        "                b = b + torch.sum(outputs * x_hat_detached, dim=-1)\n",
        "\n",
        "        return torch.squeeze(outputs, dim=-2)\n",
        "\n",
        "\n",
        "class PrimaryCapsule(nn.Module):\n",
        "    \"\"\"\n",
        "    Apply Conv2D with `out_channels` and then reshape to get capsules\n",
        "    :param in_channels: input channels\n",
        "    :param out_channels: output channels\n",
        "    :param dim_caps: dimension of capsule\n",
        "    :param kernel_size: kernel size\n",
        "    :return: output tensor, size=[batch, num_caps, dim_caps]\n",
        "    \"\"\"\n",
        "    def __init__(self, in_channels, out_channels, dim_caps, kernel_size, stride=1, padding=0):\n",
        "        super(PrimaryCapsule, self).__init__()\n",
        "        self.dim_caps = dim_caps\n",
        "        self.conv2d = nn.Conv2d(in_channels, out_channels, kernel_size=kernel_size, stride=stride, padding=padding)\n",
        "\n",
        "    def forward(self, x):\n",
        "        outputs = self.conv2d(x)\n",
        "        outputs = outputs.view(x.size(0), -1, self.dim_caps)\n",
        "        return squash(outputs)\n",
        "\n",
        "class CapsuleNet(nn.Module):\n",
        "    \"\"\"\n",
        "    A Capsule Network on MNIST.\n",
        "    :param input_size: data size = [channels, width, height]\n",
        "    :param classes: number of classes\n",
        "    :param routings: number of routing iterations\n",
        "    Shape:\n",
        "        - Input: (batch, channels, width, height), optional (batch, classes) .\n",
        "        - Output:((batch, classes), (batch, channels, width, height))\n",
        "    \"\"\"\n",
        "    def __init__(self, input_size, classes, routings):\n",
        "        super(CapsuleNet, self).__init__()\n",
        "        self.input_size = input_size\n",
        "        self.classes = classes\n",
        "        self.routings = routings\n",
        "\n",
        "        # Layer 1: Just a conventional Conv2D layer\n",
        "        self.conv1 = nn.Conv2d(input_size[0], 256, kernel_size=25, stride=2, padding=0)\n",
        "        # Layer 2: Conv2D layer with `squash` activation, then reshape to [None, num_caps, dim_caps]\n",
        "        self.primarycaps = PrimaryCapsule(256, 256, 8, kernel_size=25, stride=16, padding=0)\n",
        "        # Layer 3: Capsule layer. Routing algorithm works here.\n",
        "        self.digitcaps = DenseCapsule(in_num_caps=32*5*5, in_dim_caps=8,\n",
        "                                      out_num_caps=classes, out_dim_caps=16, routings=routings)\n",
        "\n",
        "        # Decoder network.\n",
        "        self.decoder = nn.Sequential(\n",
        "            nn.Linear(16*classes, 512),\n",
        "            nn.ReLU(inplace=True),\n",
        "            nn.Linear(512, 1024),\n",
        "            nn.ReLU(inplace=True),\n",
        "            nn.Linear(1024, input_size[0] * input_size[1] * input_size[2]),\n",
        "            nn.Sigmoid()\n",
        "        )\n",
        "\n",
        "        self.relu = nn.ReLU()\n",
        "\n",
        "    def forward(self, x, y=None):\n",
        "        x = self.relu(self.conv1(x))\n",
        "        x = self.primarycaps(x)\n",
        "        x = self.digitcaps(x)\n",
        "        length = x.norm(dim=-1)\n",
        "        if y is None:  # during testing, no label given. create one-hot coding using `length`\n",
        "            index = length.max(dim=1)[1]\n",
        "            y = Variable(torch.zeros(length.size()).scatter_(1, index.view(-1, 1).cpu().data, 1.).cuda())\n",
        "        reconstruction = self.decoder((x * y[:, :, None]).view(x.size(0), -1))\n",
        "        return length, reconstruction.view(-1, *self.input_size)\n",
        "\n",
        "\n",
        "def caps_loss(y_true, y_pred, x, x_recon, lam_recon):\n",
        "    \"\"\"\n",
        "    Capsule loss = Margin loss + lam_recon * reconstruction loss.\n",
        "    :param y_true: true labels, one-hot coding, size=[batch, classes]\n",
        "    :param y_pred: predicted labels by CapsNet, size=[batch, classes]\n",
        "    :param x: input data, size=[batch, channels, width, height]\n",
        "    :param x_recon: reconstructed data, size is same as `x`\n",
        "    :param lam_recon: coefficient for reconstruction loss\n",
        "    :return: Variable contains a scalar loss value.\n",
        "    \"\"\"\n",
        "    L = y_true * torch.clamp(0.9 - y_pred, min=0.) ** 2 + \\\n",
        "        0.5 * (1 - y_true) * torch.clamp(y_pred - 0.1, min=0.) ** 2\n",
        "    L_margin = L.sum(dim=1).mean()\n",
        "\n",
        "    L_recon = nn.MSELoss()(x_recon, x)\n",
        "\n",
        "    return L_margin + lam_recon * L_recon\n",
        "\n",
        "\n",
        "def show_reconstruction(model, test_loader, n_images, args):\n",
        "    import matplotlib.pyplot as plt\n",
        "    from PIL import Image\n",
        "    import numpy as np\n",
        "    model.eval()\n",
        "    for x, _ in test_loader:\n",
        "        #print(x, x.shape, n_images)\n",
        "        x = Variable(x[:min(n_images, x.size(0))].cuda(), volatile=True)\n",
        "        _, x_recon = model(x)\n",
        "        data = np.concatenate([x.cpu().data, x_recon.cpu().data])\n",
        "        img = combine_images(np.transpose(data, [0, 2, 3, 1]))\n",
        "        image = img * 255\n",
        "        Image.fromarray(image.astype(np.uint8)).save(args.save_dir + \"/real_and_recon.png\")\n",
        "        print()\n",
        "        print('Reconstructed images are saved to %s/real_and_recon.png' % args.save_dir)\n",
        "        print('-' * 70)\n",
        "        plt.imshow(plt.imread(args.save_dir + \"/real_and_recon.png\", ))\n",
        "        plt.show()\n",
        "        break\n",
        "\n",
        "\n",
        "def test(model, test_loader, args):\n",
        "    model.eval()\n",
        "    test_loss = 0\n",
        "    correct = 0\n",
        "    for x, y in test_loader:\n",
        "        y = torch.zeros(y.size(0), 3).scatter_(1, y.view(-1, 1), 1)\n",
        "        x, y = Variable(x.cuda(), volatile=True), Variable(y.cuda())\n",
        "        y_pred, x_recon = model(x)\n",
        "        test_loss += caps_loss(y, y_pred, x, x_recon, args.lam_recon).data * x.size(0)  # sum up batch loss\n",
        "        y_pred = y_pred.data.max(1)[1]\n",
        "        y_true = y.data.max(1)[1]\n",
        "        correct += y_pred.eq(y_true).cpu().sum()\n",
        "\n",
        "    test_loss /= len(test_loader.dataset)\n",
        "    #print(correct, len(test_loader.dataset))\n",
        "\n",
        "    return test_loss, torch.true_divide(correct, len(test_loader.dataset))\n",
        "\n",
        "\n",
        "def train(model, train_loader, test_loader, args):\n",
        "    \"\"\"\n",
        "    Training a CapsuleNet\n",
        "    :param model: the CapsuleNet model\n",
        "    :param train_loader: torch.utils.data.DataLoader for training data\n",
        "    :param test_loader: torch.utils.data.DataLoader for test data\n",
        "    :param args: arguments\n",
        "    :return: The trained model\n",
        "    \"\"\"\n",
        "    print('Begin Training' + '-'*70)\n",
        "    from time import time\n",
        "    import csv\n",
        "    logfile = open(args.save_dir + '/log.csv', 'w')\n",
        "    logwriter = csv.DictWriter(logfile, fieldnames=['epoch', 'loss', 'val_loss', 'val_acc'])\n",
        "    logwriter.writeheader()\n",
        "\n",
        "    t0 = time()\n",
        "    optimizer = Adam(model.parameters(), lr=args.lr)\n",
        "    lr_decay = lr_scheduler.ExponentialLR(optimizer, gamma=args.lr_decay)\n",
        "    best_val_acc = 0.\n",
        "    for epoch in range(args.epochs):\n",
        "        model.train()  # set to training mode\n",
        "        lr_decay.step()  # decrease the learning rate by multiplying a factor `gamma`\n",
        "        ti = time()\n",
        "        training_loss = 0.0\n",
        "        for i, (x, y) in enumerate(train_loader):  # batch training\n",
        "            #print(x, y)\n",
        "            y = torch.zeros(y.size(0), 3).scatter_(1, y.view(-1, 1), 1)  # change to one-hot coding\n",
        "            x, y = Variable(x.cuda()), Variable(y.cuda())  # convert input data to GPU Variable\n",
        "\n",
        "            optimizer.zero_grad()  # set gradients of optimizer to zero\n",
        "            y_pred, x_recon = model(x, y)  # forward\n",
        "            loss = caps_loss(y, y_pred, x, x_recon, args.lam_recon)  # compute loss\n",
        "            loss.backward()  # backward, compute all gradients of loss w.r.t all Variables\n",
        "            training_loss += loss.data * x.size(0)  # record the batch loss\n",
        "            optimizer.step()  # update the trainable parameters with computed gradients\n",
        "\n",
        "        # compute validation loss and acc\n",
        "        val_loss, val_acc = test(model, test_loader, args)\n",
        "        logwriter.writerow(dict(epoch=epoch, loss=training_loss / len(train_loader.dataset),\n",
        "                                val_loss=val_loss, val_acc=val_acc))\n",
        "        print(\"==> Epoch %02d: loss=%.5f, val_loss=%.5f, val_acc=%.4f, time=%ds\"\n",
        "              % (epoch, training_loss / len(train_loader.dataset),\n",
        "                 val_loss, val_acc, time() - ti))\n",
        "        if val_acc > best_val_acc:  # update best validation acc and save model\n",
        "            best_val_acc = val_acc\n",
        "            # torch.save(model.state_dict(), args.save_dir + '/epoch%d.pkl' % epoch)\n",
        "            print(\"best val_acc increased to %.4f\" % best_val_acc)\n",
        "            \n",
        "    logfile.close()\n",
        "    torch.save(model.state_dict(), args.save_dir + '/trained_model.pkl')\n",
        "    print('Trained model saved to \\'%s/trained_model.h5\\'' % args.save_dir)\n",
        "    print(\"Total time = %ds\" % (time() - t0))\n",
        "    print('End Training' + '-' * 70)\n",
        "    return model"
      ],
      "execution_count": 20,
      "outputs": []
    },
    {
      "cell_type": "markdown",
      "metadata": {
        "id": "qYRzTB-6Iyfl",
        "colab_type": "text"
      },
      "source": [
        "#### Utils"
      ]
    },
    {
      "cell_type": "code",
      "metadata": {
        "id": "iv2IKGefthP3",
        "colab_type": "code",
        "colab": {}
      },
      "source": [
        "import math\n",
        "import numpy as np\n",
        "\n",
        "def plot_log(filename, show=True):\n",
        "    # load data\n",
        "    keys = []\n",
        "    values = []\n",
        "    with open(filename, 'r') as f:\n",
        "        reader = csv.DictReader(f)\n",
        "        for row in reader:\n",
        "            if keys == []:\n",
        "                for key, value in row.items():\n",
        "                    keys.append(key)\n",
        "                    values.append(float(value))\n",
        "                continue\n",
        "\n",
        "            for _, value in row.items():\n",
        "                values.append(float(value))\n",
        "\n",
        "        values = np.reshape(values, newshape=(-1, len(keys)))\n",
        "\n",
        "    fig = plt.figure(figsize=(4,6))\n",
        "    fig.subplots_adjust(top=0.95, bottom=0.05, right=0.95)\n",
        "    fig.add_subplot(211)\n",
        "    epoch_axis = 0\n",
        "    for i, key in enumerate(keys):\n",
        "        if key == 'epoch':\n",
        "            epoch_axis = i\n",
        "            values[:, epoch_axis] += 1\n",
        "            break\n",
        "    for i, key in enumerate(keys):\n",
        "        if key.find('loss') >= 0:  # loss\n",
        "            print(values[:, i])\n",
        "            plt.plot(values[:, epoch_axis], values[:, i], label=key)\n",
        "    plt.legend()\n",
        "    plt.title('Training loss')\n",
        "\n",
        "    fig.add_subplot(212)\n",
        "    for i, key in enumerate(keys):\n",
        "        if key.find('acc') >= 0:  # acc\n",
        "            plt.plot(values[:, epoch_axis], values[:, i], label=key)\n",
        "    plt.legend()\n",
        "    plt.grid()\n",
        "    plt.title('Accuracy')\n",
        "\n",
        "    # fig.savefig('result/log.png')\n",
        "    if show:\n",
        "        plt.show()\n",
        "\n",
        "\n",
        "def combine_images(generated_images):\n",
        "    num = generated_images.shape[0]\n",
        "    width = int(math.sqrt(num))\n",
        "    height = int(math.ceil(float(num)/width))\n",
        "    shape = generated_images.shape[1:3]\n",
        "    image = np.zeros((height*shape[0], width*shape[1]),\n",
        "                     dtype=generated_images.dtype)\n",
        "    for index, img in enumerate(generated_images):\n",
        "        i = int(index/width)\n",
        "        j = index % width\n",
        "        image[i*shape[0]:(i+1)*shape[0], j*shape[1]:(j+1)*shape[1]] = \\\n",
        "            img[:, :, 0]\n",
        "    return image"
      ],
      "execution_count": 21,
      "outputs": []
    },
    {
      "cell_type": "markdown",
      "metadata": {
        "id": "8sBdGyQFIGaU",
        "colab_type": "text"
      },
      "source": [
        "#### MNIST Example"
      ]
    },
    {
      "cell_type": "code",
      "metadata": {
        "id": "mqXfUG5nfpzJ",
        "colab_type": "code",
        "colab": {}
      },
      "source": [
        "def load_mnist(path='./data', download=True, batch_size=100, shift_pixels=2):\n",
        "    \"\"\"\n",
        "    Construct dataloaders for training and test data. Data augmentation is also done here.\n",
        "    :param path: file path of the dataset\n",
        "    :param download: whether to download the original data\n",
        "    :param batch_size: batch size\n",
        "    :param shift_pixels: maximum number of pixels to shift in each direction\n",
        "    :return: train_loader, test_loader\n",
        "    \"\"\"\n",
        "    kwargs = {'num_workers': 1, 'pin_memory': True}\n",
        "\n",
        "    train_loader = torch.utils.data.DataLoader(\n",
        "        datasets.MNIST(path, train=True, download=download,\n",
        "                       transform=transforms.Compose([transforms.RandomCrop(size=28, padding=shift_pixels),\n",
        "                                                     transforms.ToTensor()])),\n",
        "        batch_size=batch_size, shuffle=True, **kwargs)\n",
        "    test_loader = torch.utils.data.DataLoader(\n",
        "        datasets.MNIST(path, train=False, download=download,\n",
        "                       transform=transforms.ToTensor()),\n",
        "        batch_size=batch_size, shuffle=True, **kwargs)\n",
        "    print(train_loader)\n",
        "    return train_loader, test_loader\n",
        "\n",
        "\n",
        "\n"
      ],
      "execution_count": null,
      "outputs": []
    },
    {
      "cell_type": "code",
      "metadata": {
        "id": "HQSHsHdJg9MM",
        "colab_type": "code",
        "colab": {
          "base_uri": "https://localhost:8080/",
          "height": 35
        },
        "outputId": "80817922-cd54-4f33-cc52-14e6545fd8af"
      },
      "source": [
        "class arg:\n",
        "    epochs = 10\n",
        "    batch_size = 100\n",
        "    lr = 0.001\n",
        "    lr_decay = 0.9\n",
        "    lam_recon = 0.0005 * 784 #from 28 * 28\n",
        "    r = 3 #default from paper\n",
        "    shift_pixels = 2\n",
        "    data_dir = './data'\n",
        "    download = './download'\n",
        "    save_dir = '/content/drive/My Drive/CovidAID/experimental/save_dir'\n",
        "    weights = '/content/drive/My Drive/CovidAID/experimental/save_dir/trained_model.pkl' #already Trained for 10 epochs\n",
        "    testing = True\n",
        "\n",
        "args = arg()\n",
        "print(arg.epochs)"
      ],
      "execution_count": null,
      "outputs": [
        {
          "output_type": "stream",
          "text": [
            "10\n"
          ],
          "name": "stdout"
        }
      ]
    },
    {
      "cell_type": "code",
      "metadata": {
        "id": "Xw3CShfyhIWl",
        "colab_type": "code",
        "colab": {
          "base_uri": "https://localhost:8080/",
          "height": 1000,
          "referenced_widgets": [
            "9ca2eea919544eadbc1cf43be4a3a3ea",
            "a4fe596e74ba48498c904b5491de2f93",
            "4fce3aa3cab54121a38c7014c0801f86",
            "39a02b9cffda4d1aa4f7b19ffbad704f",
            "f6bc21e462b44fb5a6d423a744952fd4",
            "af8262f66a9b40c2af48e3d45dfd38f2",
            "28fb0905d9544f049d0f7e7dfa67ca96",
            "5cd8c37a9cdd4486b6e38a71807f936e",
            "8664c582c2d84300a2314b76c68e7eaf",
            "7d656bd0620e49f08edc4565ea20e4d6",
            "6f1d4125ab6d41c9b8539ff83996ff15",
            "0dec3645916e42f2ad531ae0c5c967ac",
            "11424b12f4914829ae3fc5a618728cf4",
            "2dcb58d94e0d4152babc05d760e50d7f",
            "38ab3944f4694aeba0eefaf281fd73be",
            "e82d0b35186e4823ac54482423e2938a",
            "6bda99733ea24ee1a7bf251e565df8e9",
            "a6b5df3df3f246c7825adfc910deac98",
            "c1846e9edbce4ae081d5dd2c8e0f657e",
            "0097266ab36343c48c045e164a4f0626",
            "4be637805a30405d8056ddafb8e70b30",
            "381a5785222a49b9911ecee8b5aa043a",
            "e137b7363b07439d9adcba06b02f79e0",
            "05e32edecb48404caafe419fe378066a",
            "cb5d7c7573d0463b9886c1453d56c4e0",
            "46a45035c6b244f2aacafef0d029d10a",
            "71dc703320d14a27b4e290e5081e6ca7",
            "fae1f371b9aa491fb5ccf0b5b300e4c5",
            "686d1b6eac09440e8a5806396a7c28e6",
            "f22150acf3004ce7b61c3cb9c6d3853f",
            "2265adb1229147e5ba9a41c9e289853a",
            "5df89d1687d443478e9ebac57266a250"
          ]
        },
        "outputId": "51d8d521-5985-498c-e2dc-2f0192ac6d4c"
      },
      "source": [
        "train_loader, test_loader = load_mnist(args.data_dir, download=True, batch_size=args.batch_size)\n",
        "\n",
        "# define model\n",
        "model = CapsuleNet(input_size=[1, 28, 28], classes=10, routings=3)\n",
        "model.cuda()\n",
        "print(model)\n",
        "\n",
        "# train or test\n",
        "if args.weights is not None:  # init the model weights with provided one\n",
        "    model.load_state_dict(torch.load(args.weights))\n",
        "if not args.testing:\n",
        "    train(model, train_loader, test_loader, args)\n",
        "else:  # testing\n",
        "    if args.weights is None:\n",
        "        print('No weights are provided. Will test using random initialized weights.')\n",
        "    test_loss, test_acc = test(model=model, test_loader=test_loader, args=args)\n",
        "    print('test acc = %.4f, test loss = %.5f' % (test_acc, test_loss))\n",
        "    show_reconstruction(model, test_loader, 50, args)"
      ],
      "execution_count": null,
      "outputs": [
        {
          "output_type": "stream",
          "text": [
            "Downloading http://yann.lecun.com/exdb/mnist/train-images-idx3-ubyte.gz to ./data/MNIST/raw/train-images-idx3-ubyte.gz\n"
          ],
          "name": "stdout"
        },
        {
          "output_type": "display_data",
          "data": {
            "application/vnd.jupyter.widget-view+json": {
              "model_id": "9ca2eea919544eadbc1cf43be4a3a3ea",
              "version_minor": 0,
              "version_major": 2
            },
            "text/plain": [
              "HBox(children=(FloatProgress(value=1.0, bar_style='info', max=1.0), HTML(value='')))"
            ]
          },
          "metadata": {
            "tags": []
          }
        },
        {
          "output_type": "stream",
          "text": [
            "Extracting ./data/MNIST/raw/train-images-idx3-ubyte.gz to ./data/MNIST/raw\n",
            "Downloading http://yann.lecun.com/exdb/mnist/train-labels-idx1-ubyte.gz to ./data/MNIST/raw/train-labels-idx1-ubyte.gz\n"
          ],
          "name": "stdout"
        },
        {
          "output_type": "display_data",
          "data": {
            "application/vnd.jupyter.widget-view+json": {
              "model_id": "8664c582c2d84300a2314b76c68e7eaf",
              "version_minor": 0,
              "version_major": 2
            },
            "text/plain": [
              "HBox(children=(FloatProgress(value=1.0, bar_style='info', max=1.0), HTML(value='')))"
            ]
          },
          "metadata": {
            "tags": []
          }
        },
        {
          "output_type": "stream",
          "text": [
            "Extracting ./data/MNIST/raw/train-labels-idx1-ubyte.gz to ./data/MNIST/raw\n",
            "Downloading http://yann.lecun.com/exdb/mnist/t10k-images-idx3-ubyte.gz to ./data/MNIST/raw/t10k-images-idx3-ubyte.gz\n"
          ],
          "name": "stdout"
        },
        {
          "output_type": "display_data",
          "data": {
            "application/vnd.jupyter.widget-view+json": {
              "model_id": "6bda99733ea24ee1a7bf251e565df8e9",
              "version_minor": 0,
              "version_major": 2
            },
            "text/plain": [
              "HBox(children=(FloatProgress(value=1.0, bar_style='info', max=1.0), HTML(value='')))"
            ]
          },
          "metadata": {
            "tags": []
          }
        },
        {
          "output_type": "stream",
          "text": [
            "Extracting ./data/MNIST/raw/t10k-images-idx3-ubyte.gz to ./data/MNIST/raw\n",
            "Downloading http://yann.lecun.com/exdb/mnist/t10k-labels-idx1-ubyte.gz to ./data/MNIST/raw/t10k-labels-idx1-ubyte.gz\n",
            "\n",
            "\n"
          ],
          "name": "stdout"
        },
        {
          "output_type": "display_data",
          "data": {
            "application/vnd.jupyter.widget-view+json": {
              "model_id": "cb5d7c7573d0463b9886c1453d56c4e0",
              "version_minor": 0,
              "version_major": 2
            },
            "text/plain": [
              "HBox(children=(FloatProgress(value=1.0, bar_style='info', max=1.0), HTML(value='')))"
            ]
          },
          "metadata": {
            "tags": []
          }
        },
        {
          "output_type": "stream",
          "text": [
            "Extracting ./data/MNIST/raw/t10k-labels-idx1-ubyte.gz to ./data/MNIST/raw\n",
            "Processing...\n",
            "Done!\n",
            "<torch.utils.data.dataloader.DataLoader object at 0x7f04d3bdf080>\n"
          ],
          "name": "stdout"
        },
        {
          "output_type": "stream",
          "text": [
            "/usr/local/lib/python3.6/dist-packages/torchvision/datasets/mnist.py:469: UserWarning: The given NumPy array is not writeable, and PyTorch does not support non-writeable tensors. This means you can write to the underlying (supposedly non-writeable) NumPy array using the tensor. You may want to copy the array to protect its data or make it writeable before converting it to a tensor. This type of warning will be suppressed for the rest of this program. (Triggered internally at  /pytorch/torch/csrc/utils/tensor_numpy.cpp:141.)\n",
            "  return torch.from_numpy(parsed.astype(m[2], copy=False)).view(*s)\n"
          ],
          "name": "stderr"
        },
        {
          "output_type": "stream",
          "text": [
            "CapsuleNet(\n",
            "  (conv1): Conv2d(1, 256, kernel_size=(25, 25), stride=(2, 2))\n",
            "  (primarycaps): PrimaryCapsule(\n",
            "    (conv2d): Conv2d(256, 256, kernel_size=(25, 25), stride=(16, 16))\n",
            "  )\n",
            "  (digitcaps): DenseCapsule()\n",
            "  (decoder): Sequential(\n",
            "    (0): Linear(in_features=160, out_features=512, bias=True)\n",
            "    (1): ReLU(inplace=True)\n",
            "    (2): Linear(in_features=512, out_features=1024, bias=True)\n",
            "    (3): ReLU(inplace=True)\n",
            "    (4): Linear(in_features=1024, out_features=784, bias=True)\n",
            "    (5): Sigmoid()\n",
            "  )\n",
            "  (relu): ReLU()\n",
            ")\n"
          ],
          "name": "stdout"
        },
        {
          "output_type": "error",
          "ename": "RuntimeError",
          "evalue": "ignored",
          "traceback": [
            "\u001b[0;31m---------------------------------------------------------------------------\u001b[0m",
            "\u001b[0;31mRuntimeError\u001b[0m                              Traceback (most recent call last)",
            "\u001b[0;32m<ipython-input-11-70ef0e214296>\u001b[0m in \u001b[0;36m<module>\u001b[0;34m()\u001b[0m\n\u001b[1;32m      8\u001b[0m \u001b[0;31m# train or test\u001b[0m\u001b[0;34m\u001b[0m\u001b[0;34m\u001b[0m\u001b[0;34m\u001b[0m\u001b[0m\n\u001b[1;32m      9\u001b[0m \u001b[0;32mif\u001b[0m \u001b[0margs\u001b[0m\u001b[0;34m.\u001b[0m\u001b[0mweights\u001b[0m \u001b[0;32mis\u001b[0m \u001b[0;32mnot\u001b[0m \u001b[0;32mNone\u001b[0m\u001b[0;34m:\u001b[0m  \u001b[0;31m# init the model weights with provided one\u001b[0m\u001b[0;34m\u001b[0m\u001b[0;34m\u001b[0m\u001b[0m\n\u001b[0;32m---> 10\u001b[0;31m     \u001b[0mmodel\u001b[0m\u001b[0;34m.\u001b[0m\u001b[0mload_state_dict\u001b[0m\u001b[0;34m(\u001b[0m\u001b[0mtorch\u001b[0m\u001b[0;34m.\u001b[0m\u001b[0mload\u001b[0m\u001b[0;34m(\u001b[0m\u001b[0margs\u001b[0m\u001b[0;34m.\u001b[0m\u001b[0mweights\u001b[0m\u001b[0;34m)\u001b[0m\u001b[0;34m)\u001b[0m\u001b[0;34m\u001b[0m\u001b[0;34m\u001b[0m\u001b[0m\n\u001b[0m\u001b[1;32m     11\u001b[0m \u001b[0;32mif\u001b[0m \u001b[0;32mnot\u001b[0m \u001b[0margs\u001b[0m\u001b[0;34m.\u001b[0m\u001b[0mtesting\u001b[0m\u001b[0;34m:\u001b[0m\u001b[0;34m\u001b[0m\u001b[0;34m\u001b[0m\u001b[0m\n\u001b[1;32m     12\u001b[0m     \u001b[0mtrain\u001b[0m\u001b[0;34m(\u001b[0m\u001b[0mmodel\u001b[0m\u001b[0;34m,\u001b[0m \u001b[0mtrain_loader\u001b[0m\u001b[0;34m,\u001b[0m \u001b[0mtest_loader\u001b[0m\u001b[0;34m,\u001b[0m \u001b[0margs\u001b[0m\u001b[0;34m)\u001b[0m\u001b[0;34m\u001b[0m\u001b[0;34m\u001b[0m\u001b[0m\n",
            "\u001b[0;32m/usr/local/lib/python3.6/dist-packages/torch/nn/modules/module.py\u001b[0m in \u001b[0;36mload_state_dict\u001b[0;34m(self, state_dict, strict)\u001b[0m\n\u001b[1;32m   1043\u001b[0m         \u001b[0;32mif\u001b[0m \u001b[0mlen\u001b[0m\u001b[0;34m(\u001b[0m\u001b[0merror_msgs\u001b[0m\u001b[0;34m)\u001b[0m \u001b[0;34m>\u001b[0m \u001b[0;36m0\u001b[0m\u001b[0;34m:\u001b[0m\u001b[0;34m\u001b[0m\u001b[0;34m\u001b[0m\u001b[0m\n\u001b[1;32m   1044\u001b[0m             raise RuntimeError('Error(s) in loading state_dict for {}:\\n\\t{}'.format(\n\u001b[0;32m-> 1045\u001b[0;31m                                self.__class__.__name__, \"\\n\\t\".join(error_msgs)))\n\u001b[0m\u001b[1;32m   1046\u001b[0m         \u001b[0;32mreturn\u001b[0m \u001b[0m_IncompatibleKeys\u001b[0m\u001b[0;34m(\u001b[0m\u001b[0mmissing_keys\u001b[0m\u001b[0;34m,\u001b[0m \u001b[0munexpected_keys\u001b[0m\u001b[0;34m)\u001b[0m\u001b[0;34m\u001b[0m\u001b[0;34m\u001b[0m\u001b[0m\n\u001b[1;32m   1047\u001b[0m \u001b[0;34m\u001b[0m\u001b[0m\n",
            "\u001b[0;31mRuntimeError\u001b[0m: Error(s) in loading state_dict for CapsuleNet:\n\tsize mismatch for conv1.weight: copying a param with shape torch.Size([256, 3, 25, 25]) from checkpoint, the shape in current model is torch.Size([256, 1, 25, 25]).\n\tsize mismatch for digitcaps.weight: copying a param with shape torch.Size([3, 800, 16, 8]) from checkpoint, the shape in current model is torch.Size([10, 800, 16, 8]).\n\tsize mismatch for decoder.0.weight: copying a param with shape torch.Size([512, 48]) from checkpoint, the shape in current model is torch.Size([512, 160]).\n\tsize mismatch for decoder.4.weight: copying a param with shape torch.Size([150528, 1024]) from checkpoint, the shape in current model is torch.Size([784, 1024]).\n\tsize mismatch for decoder.4.bias: copying a param with shape torch.Size([150528]) from checkpoint, the shape in current model is torch.Size([784])."
          ]
        }
      ]
    },
    {
      "cell_type": "markdown",
      "metadata": {
        "id": "DhdUDSSFJt-a",
        "colab_type": "text"
      },
      "source": [
        "## COVID AID Capsnet"
      ]
    },
    {
      "cell_type": "markdown",
      "metadata": {
        "id": "fqx6EUb_KwZB",
        "colab_type": "text"
      },
      "source": [
        "### Dataloader"
      ]
    },
    {
      "cell_type": "code",
      "metadata": {
        "id": "MBzxwZQ3KvlG",
        "colab_type": "code",
        "colab": {}
      },
      "source": [
        "def load_covid_dataset(TEST_IMAGE_LIST, TRAIN_IMAGE_LIST, VAL_IMAGE_LIST, batch_size=64, combine_pneumonia=True):\n",
        "    normalize = transforms.Normalize([0.485, 0.456, 0.406], [0.229, 0.224, 0.225])\n",
        "    \n",
        "    train_loader  = torch.utils.data.DataLoader(ChestXrayDataSet(image_list_file=TRAIN_IMAGE_LIST,\n",
        "                                        transform=transforms.Compose([transforms.Resize([224,224]), transforms.ToTensor()]),\n",
        "                                        combine_pneumonia=True), batch_size=batch_size, shuffle=True)\n",
        "    \n",
        "    test_loader   = torch.utils.data.DataLoader(ChestXrayDataSetTest(image_list_file=TEST_IMAGE_LIST,\n",
        "                                        transform=transforms.Compose([transforms.Resize([224,224]), transforms.ToTensor()]),\n",
        "                                        combine_pneumonia=True), batch_size=batch_size, shuffle=True)\n",
        "    \n",
        "    val_loader = torch.utils.data.DataLoader(ChestXrayDataSetTest(image_list_file=VAL_IMAGE_LIST,\n",
        "                                        transform=transforms.Compose([transforms.Resize([224,224]), transforms.ToTensor()]),\n",
        "                                        combine_pneumonia=True), batch_size=batch_size, shuffle=True)\n",
        "    return train_loader, test_loader, val_loader"
      ],
      "execution_count": 22,
      "outputs": []
    },
    {
      "cell_type": "code",
      "metadata": {
        "id": "J8KemyCaN328",
        "colab_type": "code",
        "colab": {}
      },
      "source": [
        "train_loader, test_loader, val_loader = load_covid_dataset(TEST_IMAGE_LIST, TRAIN_IMAGE_LIST, VAL_IMAGE_LIST)"
      ],
      "execution_count": 23,
      "outputs": []
    },
    {
      "cell_type": "code",
      "metadata": {
        "id": "ngXJhHOIBKLz",
        "colab_type": "code",
        "colab": {}
      },
      "source": [
        "# f, axarr = plt.subplots(2,5)\n",
        "# f.set_figheight(15)\n",
        "# f.set_figwidth(15)\n",
        "# for i in range(2):\n",
        "#   for j in range(5):\n",
        "#     axarr[i][j].imshow(batch1[0][0][i*5+j].permute(1, 2, 0))"
      ],
      "execution_count": 24,
      "outputs": []
    },
    {
      "cell_type": "code",
      "metadata": {
        "id": "0lVjZDjKEmlH",
        "colab_type": "code",
        "colab": {
          "base_uri": "https://localhost:8080/",
          "height": 35
        },
        "outputId": "c4e36e44-6471-4734-ecfc-dcb456dd8d76"
      },
      "source": [
        "class arg:\n",
        "    epochs = 10\n",
        "    batch_size = 64\n",
        "    lr = 0.001\n",
        "    lr_decay = 0.9\n",
        "    # lam_recon = 0.0005 * 224 *224 #from 28 * 28\n",
        "    lam_recon = 0.0005\n",
        "    r = 3 #default from paper\n",
        "    shift_pixels = 2\n",
        "    data_dir = './data'\n",
        "    download = './download'\n",
        "\n",
        "    save_dir = '/content/drive/My Drive/epoch_Arda'\n",
        "    weights = None\n",
        "    # weights = '/content/drive/My Drive/CovidAID/experimental/save_dir/trained_model.pkl'\n",
        "    #testing = True\n",
        "    testing = False\n",
        "\n",
        "args = arg()\n",
        "print(arg.epochs)"
      ],
      "execution_count": 25,
      "outputs": [
        {
          "output_type": "stream",
          "text": [
            "10\n"
          ],
          "name": "stdout"
        }
      ]
    },
    {
      "cell_type": "code",
      "metadata": {
        "id": "O_ajC-mHU2Wq",
        "colab_type": "code",
        "colab": {
          "base_uri": "https://localhost:8080/",
          "height": 295
        },
        "outputId": "e3daefe4-e366-4ebc-c9c7-c538376a1eb8"
      },
      "source": [
        "# define model\n",
        "model = CapsuleNet(input_size=[3, 224, 224], classes=3, routings=3)\n",
        "model.cuda()\n",
        "print(model)\n",
        "\n",
        "#32*47*47 -> 7088\n",
        "#32*x^2 -> 800\n",
        "# x^2 = 25\n",
        "# x = 5"
      ],
      "execution_count": 26,
      "outputs": [
        {
          "output_type": "stream",
          "text": [
            "CapsuleNet(\n",
            "  (conv1): Conv2d(3, 256, kernel_size=(25, 25), stride=(2, 2))\n",
            "  (primarycaps): PrimaryCapsule(\n",
            "    (conv2d): Conv2d(256, 256, kernel_size=(25, 25), stride=(16, 16))\n",
            "  )\n",
            "  (digitcaps): DenseCapsule()\n",
            "  (decoder): Sequential(\n",
            "    (0): Linear(in_features=48, out_features=512, bias=True)\n",
            "    (1): ReLU(inplace=True)\n",
            "    (2): Linear(in_features=512, out_features=1024, bias=True)\n",
            "    (3): ReLU(inplace=True)\n",
            "    (4): Linear(in_features=1024, out_features=150528, bias=True)\n",
            "    (5): Sigmoid()\n",
            "  )\n",
            "  (relu): ReLU()\n",
            ")\n"
          ],
          "name": "stdout"
        }
      ]
    },
    {
      "cell_type": "code",
      "metadata": {
        "id": "dEY-QmweVaIG",
        "colab_type": "code",
        "colab": {
          "base_uri": "https://localhost:8080/",
          "height": 419
        },
        "outputId": "d68d813f-0c1f-4db1-c63d-ed146001a6cb"
      },
      "source": [
        "# train or test\n",
        "if args.weights is not None:  # init the model weights with provided one\n",
        "    model.load_state_dict(torch.load(args.weights))\n",
        "if not args.testing:\n",
        "    train(model, train_loader, val_loader, args)\n",
        "else:  # testing\n",
        "    if args.weights is None:\n",
        "        print('No weights are provided. Will test using random initialized weights.')\n",
        "    test_loss, test_acc = test(model=model, test_loader=test_loader, args=args)\n",
        "    print('test acc = %.4f, test loss = %.5f' % (test_acc, test_loss))\n",
        "    show_reconstruction(model, test_loader, 50, args)"
      ],
      "execution_count": 27,
      "outputs": [
        {
          "output_type": "stream",
          "text": [
            "Begin Training----------------------------------------------------------------------\n"
          ],
          "name": "stdout"
        },
        {
          "output_type": "stream",
          "text": [
            "/usr/local/lib/python3.6/dist-packages/torch/optim/lr_scheduler.py:123: UserWarning: Detected call of `lr_scheduler.step()` before `optimizer.step()`. In PyTorch 1.1.0 and later, you should call them in the opposite order: `optimizer.step()` before `lr_scheduler.step()`.  Failure to do this will result in PyTorch skipping the first value of the learning rate schedule. See more details at https://pytorch.org/docs/stable/optim.html#how-to-adjust-learning-rate\n",
            "  \"https://pytorch.org/docs/stable/optim.html#how-to-adjust-learning-rate\", UserWarning)\n",
            "/usr/local/lib/python3.6/dist-packages/ipykernel_launcher.py:194: UserWarning: volatile was removed and now has no effect. Use `with torch.no_grad():` instead.\n"
          ],
          "name": "stderr"
        },
        {
          "output_type": "stream",
          "text": [
            "==> Epoch 00: loss=0.34746, val_loss=0.29096, val_acc=0.4615, time=1311s\n",
            "best val_acc increased to 0.4615\n",
            "==> Epoch 01: loss=0.12777, val_loss=0.11777, val_acc=0.8077, time=506s\n",
            "best val_acc increased to 0.8077\n",
            "==> Epoch 02: loss=0.07420, val_loss=0.10936, val_acc=0.8077, time=318s\n",
            "==> Epoch 03: loss=0.06436, val_loss=0.11124, val_acc=0.8462, time=250s\n",
            "best val_acc increased to 0.8462\n",
            "==> Epoch 04: loss=0.05485, val_loss=0.18746, val_acc=0.6538, time=224s\n",
            "==> Epoch 05: loss=0.06008, val_loss=0.10089, val_acc=0.8846, time=214s\n",
            "best val_acc increased to 0.8846\n",
            "==> Epoch 06: loss=0.04928, val_loss=0.07838, val_acc=0.9615, time=211s\n",
            "best val_acc increased to 0.9615\n",
            "==> Epoch 07: loss=0.04089, val_loss=0.10124, val_acc=0.9231, time=185s\n",
            "==> Epoch 08: loss=0.04269, val_loss=0.08799, val_acc=0.9615, time=178s\n",
            "==> Epoch 09: loss=0.03756, val_loss=0.08371, val_acc=0.9615, time=201s\n",
            "Trained model saved to '/content/drive/My Drive/epoch_Arda/trained_model.h5'\n",
            "Total time = 3628s\n",
            "End Training----------------------------------------------------------------------\n"
          ],
          "name": "stdout"
        }
      ]
    },
    {
      "cell_type": "code",
      "metadata": {
        "id": "VgGU_sLbly-Q",
        "colab_type": "code",
        "colab": {
          "base_uri": "https://localhost:8080/",
          "height": 393
        },
        "outputId": "e86f9b0a-60ef-48ca-cb9a-3dc25237d68a"
      },
      "source": [
        "test_loss, test_acc = test(model=model, test_loader=test_loader, args=args)\n",
        "print('test acc = %.4f, test loss = %.5f' % (test_acc, test_loss))\n",
        "show_reconstruction(model, test_loader, 50, args)"
      ],
      "execution_count": 28,
      "outputs": [
        {
          "output_type": "stream",
          "text": [
            "/usr/local/lib/python3.6/dist-packages/ipykernel_launcher.py:194: UserWarning: volatile was removed and now has no effect. Use `with torch.no_grad():` instead.\n"
          ],
          "name": "stderr"
        },
        {
          "output_type": "stream",
          "text": [
            "test acc = 0.8333, test loss = 0.11754\n"
          ],
          "name": "stdout"
        },
        {
          "output_type": "stream",
          "text": [
            "/usr/local/lib/python3.6/dist-packages/ipykernel_launcher.py:174: UserWarning: volatile was removed and now has no effect. Use `with torch.no_grad():` instead.\n"
          ],
          "name": "stderr"
        },
        {
          "output_type": "stream",
          "text": [
            "\n",
            "Reconstructed images are saved to /content/drive/My Drive/epoch_Arda/real_and_recon.png\n",
            "----------------------------------------------------------------------\n"
          ],
          "name": "stdout"
        },
        {
          "output_type": "display_data",
          "data": {
            "image/png": "[encoded data removed]",
            "text/plain": [
              "<Figure size 432x288 with 1 Axes>"
            ]
          },
          "metadata": {
            "tags": [],
            "needs_background": "light"
          }
        }
      ]
    },
    {
      "cell_type": "code",
      "metadata": {
        "id": "b3Rqvyl2RgEd",
        "colab_type": "code",
        "colab": {}
      },
      "source": [
        ""
      ],
      "execution_count": null,
      "outputs": []
    }
  ]
}