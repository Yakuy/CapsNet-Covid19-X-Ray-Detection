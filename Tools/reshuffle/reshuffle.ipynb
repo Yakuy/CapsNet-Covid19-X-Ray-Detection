{
 "metadata": {
  "language_info": {
   "codemirror_mode": {
    "name": "ipython",
    "version": 3
   },
   "file_extension": ".py",
   "mimetype": "text/x-python",
   "name": "python",
   "nbconvert_exporter": "python",
   "pygments_lexer": "ipython3",
   "version": "3.7.7-final"
  },
  "orig_nbformat": 2,
  "kernelspec": {
   "name": "python_defaultSpec_1598290564928",
   "display_name": "Python 3.7.7 64-bit"
  }
 },
 "nbformat": 4,
 "nbformat_minor": 2,
 "cells": [
  {
   "cell_type": "code",
   "execution_count": 42,
   "metadata": {
    "tags": []
   },
   "outputs": [],
   "source": [
    "def read_file(filename):\n",
    "    with open(filename) as f:\n",
    "        content = f.readlines()\n",
    "    # you may also want to remove whitespace characters like `\\n` at the end of each line\n",
    "    content = [x.strip() for x in content] \n",
    "    return content\n",
    "\n",
    "normal_data = []\n",
    "covid_data = []\n",
    "pneumonia_data = []\n",
    "\n",
    "texts = ['new_test.txt', 'new_val.txt', 'new_train.txt']\n",
    "for text in texts:\n",
    "    content = read_file(text)\n",
    "    for line in content:\n",
    "        line_split = line.split(' ')\n",
    "        if (int(line_split[2])==0):\n",
    "            normal_data.append(line_split[0] + ' ' + line_split[1])\n",
    "        elif (int(line_split[2])==1):\n",
    "            pneumonia_data.append(line_split[0] + ' ' + line_split[1])\n",
    "        elif (int(line_split[2])==2):\n",
    "            covid_data.append(line_split[0] + ' ' + line_split[1])"
   ]
  },
  {
   "cell_type": "code",
   "execution_count": 43,
   "metadata": {
    "tags": []
   },
   "outputs": [
    {
     "output_type": "stream",
     "name": "stdout",
     "text": "Normal Case :  1583\nPneumonia Case :  4273\nCovid Case :  454\n"
    }
   ],
   "source": [
    "print('Normal Case : ', len(normal_data))\n",
    "print('Pneumonia Case : ', len(pneumonia_data))\n",
    "print('Covid Case : ', len(covid_data))"
   ]
  },
  {
   "cell_type": "markdown",
   "metadata": {},
   "source": [
    "Splitting Data"
   ]
  },
  {
   "cell_type": "code",
   "execution_count": 62,
   "metadata": {},
   "outputs": [],
   "source": [
    "# new data 7:1:2\n",
    "# train:val:test\n",
    "# 1. balance pickle\n",
    "# 2. dist pickle\n",
    "import numpy as np\n",
    "from sklearn.model_selection import train_test_split"
   ]
  },
  {
   "cell_type": "code",
   "execution_count": 78,
   "metadata": {},
   "outputs": [],
   "source": [
    "np.random.seed(42)\n",
    "X_normal = np.array(normal_data)\n",
    "Y_normal = np.array([0]*len(normal_data))\n",
    "X_pneumonia = np.array(pneumonia_data)\n",
    "Y_pneumonia = np.array([1]*len(pneumonia_data))\n",
    "X_covid = np.array(covid_data)\n",
    "Y_covid = np.array([2]*len(covid_data))"
   ]
  },
  {
   "cell_type": "code",
   "execution_count": 79,
   "metadata": {},
   "outputs": [],
   "source": [
    "Y = np.concatenate((Y_normal, Y_pneumonia, Y_covid), axis=0)"
   ]
  },
  {
   "cell_type": "code",
   "execution_count": 80,
   "metadata": {},
   "outputs": [],
   "source": [
    "X = np.concatenate((X_normal, X_pneumonia, X_covid), axis=0)"
   ]
  },
  {
   "cell_type": "code",
   "execution_count": 81,
   "metadata": {},
   "outputs": [],
   "source": [
    "x, x_test, y, y_test = train_test_split(X,Y,test_size=0.2,train_size=0.8, stratify=Y)\n",
    "x_train, x_cv, y_train, y_cv = train_test_split(x,y,test_size = 0.25,train_size =0.75, stratify=y)"
   ]
  },
  {
   "cell_type": "code",
   "execution_count": 82,
   "metadata": {},
   "outputs": [],
   "source": [
    "import collections"
   ]
  },
  {
   "cell_type": "code",
   "execution_count": 83,
   "metadata": {},
   "outputs": [
    {
     "output_type": "execute_result",
     "data": {
      "text/plain": "Counter({1: 2564, 0: 950, 2: 272})"
     },
     "metadata": {},
     "execution_count": 83
    }
   ],
   "source": [
    "collections.Counter(y_train)\n"
   ]
  },
  {
   "cell_type": "code",
   "execution_count": 84,
   "metadata": {},
   "outputs": [
    {
     "output_type": "execute_result",
     "data": {
      "text/plain": "Counter({1: 855, 0: 316, 2: 91})"
     },
     "metadata": {},
     "execution_count": 84
    }
   ],
   "source": [
    "collections.Counter(y_cv)"
   ]
  },
  {
   "cell_type": "code",
   "execution_count": 85,
   "metadata": {},
   "outputs": [
    {
     "output_type": "execute_result",
     "data": {
      "text/plain": "Counter({1: 854, 0: 317, 2: 91})"
     },
     "metadata": {},
     "execution_count": 85
    }
   ],
   "source": [
    "collections.Counter(y_test)\n"
   ]
  },
  {
   "cell_type": "code",
   "execution_count": 87,
   "metadata": {},
   "outputs": [],
   "source": [
    "new_filename = ['strat_train.txt', 'strat_val.txt', 'strat_test.txt']\n",
    "X_combined = [x_train, x_cv, x_test]\n",
    "Y_combined = [y_train, y_cv, y_test]\n"
   ]
  },
  {
   "cell_type": "code",
   "execution_count": 92,
   "metadata": {
    "tags": []
   },
   "outputs": [],
   "source": [
    "for i, new_file in enumerate(new_filename):\n",
    "    with open(new_file, \"w\") as text_file:\n",
    "        for image_dir, label in zip(X_combined[i], Y_combined[i]):\n",
    "            print(image_dir + ' ' + str(label), file=text_file)\n"
   ]
  },
  {
   "cell_type": "code",
   "execution_count": null,
   "metadata": {},
   "outputs": [],
   "source": []
  }
 ]
}