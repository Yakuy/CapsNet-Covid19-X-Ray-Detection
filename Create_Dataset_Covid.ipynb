{
 "metadata": {
  "language_info": {
   "codemirror_mode": {
    "name": "ipython",
    "version": 3
   },
   "file_extension": ".py",
   "mimetype": "text/x-python",
   "name": "python",
   "nbconvert_exporter": "python",
   "pygments_lexer": "ipython3",
   "version": "3.6.10-final"
  },
  "orig_nbformat": 2,
  "kernelspec": {
   "name": "python_defaultSpec_1597661290961",
   "display_name": "Python 3.6.10 64-bit ('datsci': conda)"
  }
 },
 "nbformat": 4,
 "nbformat_minor": 2,
 "cells": [
  {
   "cell_type": "code",
   "execution_count": 1,
   "metadata": {},
   "outputs": [],
   "source": [
    "import os\n",
    "import numpy as np\n",
    "import matplotlib.pyplot as plt\n",
    "import pickle\n",
    "import random\n",
    "from PIL import Image, ImageEnhance, ImageFilter"
   ]
  },
  {
   "cell_type": "code",
   "execution_count": 2,
   "metadata": {},
   "outputs": [],
   "source": [
    "train_path = './data/train.txt'\n",
    "test_path = './data/test.txt'\n",
    "val_path = './data/val.txt'\n",
    "\n",
    "train_lines = open(train_path, 'r').readlines()\n",
    "test_lines = open(test_path, 'r').readlines()\n",
    "val_lines = open(val_path, 'r').readlines()\n",
    "\n",
    "size_1 = 500\n",
    "size_2 = 250\n",
    "\n",
    "labels = ['normal', 'pneumonia','covid']"
   ]
  },
  {
   "cell_type": "code",
   "execution_count": 3,
   "metadata": {},
   "outputs": [],
   "source": [
    "def enhance(img):\n",
    "    \"\"\"\n",
    "    To enhance the image\n",
    "    \"\"\"\n",
    "    img_enhanced = ImageEnhance.Sharpness(img).enhance(2.0)\n",
    "    img_enhanced = ImageEnhance.Color(img_enhanced).enhance(2.0)\n",
    "    img_enhanced = ImageEnhance.Contrast(img_enhanced).enhance(2.0)\n",
    "    img_enhanced = img_enhanced.filter(ImageFilter.DETAIL)\n",
    "    img_enhanced = img_enhanced.filter(ImageFilter.EDGE_ENHANCE_MORE)\n",
    "    img_enhanced = img_enhanced.filter(ImageFilter.SMOOTH_MORE)\n",
    "\n",
    "    return img_enhanced\n",
    "\n",
    "def create_data(target_lines):\n",
    "    \"\"\"\n",
    "    Most of the hardwork are here. Read, create, enhance, etc.\n",
    "    \"\"\"\n",
    "    data = []\n",
    "    for line in target_lines:\n",
    "        path, label = line.split(' ')\n",
    "        label = int(label)\n",
    "        try :\n",
    "            img_arr = Image.open(path).convert('L')\n",
    "            # Enhance Image\n",
    "            enhanced = enhance(img_arr)\n",
    "            # resize to 500x500\n",
    "            enhanced = enhanced.resize((size_1, size_1), Image.BICUBIC)\n",
    "            # crop (unsless its a covid image)\n",
    "            if path.find('covid-chestxray-dataset') == -1:\n",
    "                left = 50\n",
    "                top = 50\n",
    "                right = 450\n",
    "                bottom = 450\n",
    "                crop_image = enhanced.crop((left, top, right, bottom))\n",
    "            # resize to 250x250 and make it to an array\n",
    "            new_arr = crop_image.resize((size_2, size_2), Image.BICUBIC).getdata()\n",
    "            # add to data\n",
    "            data.append([new_arr, label])\n",
    "        except Exception as e:\n",
    "            print(e)\n",
    "            print(path)\n",
    "\n",
    "    return data\n",
    "\n",
    "def prep_data(prep_lines):\n",
    "    \"\"\"\n",
    "    Shuffle the data and adding the data and label to numpy array\n",
    "    \"\"\"\n",
    "    data = create_data(prep_lines)\n",
    "    random.shuffle(data)\n",
    "\n",
    "    X = []\n",
    "    y = []\n",
    "\n",
    "    for features, label in data:\n",
    "        X.append(features)\n",
    "        y.append(label)\n",
    "\n",
    "    X = np.array(X).reshape(-1, size_2, size_2, 1)\n",
    "    y = np.array(y)\n",
    "\n",
    "    return X,y\n",
    "\n",
    "def save(arr, filename):\n",
    "    \"\"\"\n",
    "    Saving numpy array to .pickle file\n",
    "    \"\"\"\n",
    "    pickle_out = open(filename, 'wb')\n",
    "    pickle.dump(arr, pickle_out)\n",
    "    pickle_out.close()"
   ]
  },
  {
   "cell_type": "code",
   "execution_count": 4,
   "metadata": {
    "tags": []
   },
   "outputs": [],
   "source": [
    "# X_val, y_val = prep_data(val_lines)\n",
    "# X_train, y_train = prep_data(train_lines)\n",
    "# X_test, y_test = prep_data(test_lines)"
   ]
  },
  {
   "cell_type": "code",
   "execution_count": 5,
   "metadata": {
    "tags": []
   },
   "outputs": [
    {
     "output_type": "error",
     "ename": "NameError",
     "evalue": "name 'y_train' is not defined",
     "traceback": [
      "\u001b[1;31m---------------------------------------------------------------------------\u001b[0m",
      "\u001b[1;31mNameError\u001b[0m                                 Traceback (most recent call last)",
      "\u001b[1;32m<ipython-input-5-2b7420d53cf8>\u001b[0m in \u001b[0;36m<module>\u001b[1;34m\u001b[0m\n\u001b[0;32m      1\u001b[0m \u001b[0mi\u001b[0m \u001b[1;33m=\u001b[0m \u001b[1;36m69\u001b[0m\u001b[1;33m\u001b[0m\u001b[1;33m\u001b[0m\u001b[0m\n\u001b[1;32m----> 2\u001b[1;33m \u001b[0mprint\u001b[0m\u001b[1;33m(\u001b[0m\u001b[0mlabels\u001b[0m\u001b[1;33m[\u001b[0m\u001b[0my_train\u001b[0m\u001b[1;33m[\u001b[0m\u001b[0mi\u001b[0m\u001b[1;33m]\u001b[0m\u001b[1;33m]\u001b[0m\u001b[1;33m)\u001b[0m\u001b[1;33m\u001b[0m\u001b[1;33m\u001b[0m\u001b[0m\n\u001b[0m\u001b[0;32m      3\u001b[0m \u001b[0mplt\u001b[0m\u001b[1;33m.\u001b[0m\u001b[0mimshow\u001b[0m\u001b[1;33m(\u001b[0m\u001b[0mX_train\u001b[0m\u001b[1;33m[\u001b[0m\u001b[0mi\u001b[0m\u001b[1;33m]\u001b[0m\u001b[1;33m.\u001b[0m\u001b[0mreshape\u001b[0m\u001b[1;33m(\u001b[0m\u001b[0msize_2\u001b[0m\u001b[1;33m,\u001b[0m \u001b[0msize_2\u001b[0m\u001b[1;33m)\u001b[0m\u001b[1;33m,\u001b[0m \u001b[0mcmap\u001b[0m\u001b[1;33m=\u001b[0m\u001b[1;34m'gray'\u001b[0m\u001b[1;33m)\u001b[0m\u001b[1;33m\u001b[0m\u001b[1;33m\u001b[0m\u001b[0m\n\u001b[0;32m      4\u001b[0m \u001b[0mplt\u001b[0m\u001b[1;33m.\u001b[0m\u001b[0mshow\u001b[0m\u001b[1;33m(\u001b[0m\u001b[1;33m)\u001b[0m\u001b[1;33m\u001b[0m\u001b[1;33m\u001b[0m\u001b[0m\n",
      "\u001b[1;31mNameError\u001b[0m: name 'y_train' is not defined"
     ]
    }
   ],
   "source": [
    "i = 69\n",
    "print(labels[y_train[i]])\n",
    "plt.imshow(X_train[i].reshape(size_2, size_2), cmap='gray')\n",
    "plt.show()"
   ]
  },
  {
   "cell_type": "code",
   "execution_count": 6,
   "metadata": {
    "tags": []
   },
   "outputs": [
    {
     "output_type": "stream",
     "name": "stdout",
     "text": "(5630, 250, 250, 1)\n"
    }
   ],
   "source": [
    "print(X_train.shape)"
   ]
  },
  {
   "cell_type": "code",
   "execution_count": 6,
   "metadata": {},
   "outputs": [],
   "source": [
    "save(X_train, './arr_enhanced/X_train_enhanced.pickle')\n",
    "save(y_train, './arr_enhanced/y_train_enhanced.pickle')"
   ]
  },
  {
   "cell_type": "code",
   "execution_count": null,
   "metadata": {},
   "outputs": [],
   "source": []
  }
 ]
}